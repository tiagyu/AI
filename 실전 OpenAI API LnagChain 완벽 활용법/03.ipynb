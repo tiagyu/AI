{
 "cells": [
  {
   "cell_type": "markdown",
   "metadata": {},
   "source": [
    "### OPENAI 패키지 설치"
   ]
  },
  {
   "cell_type": "code",
   "execution_count": 1,
   "metadata": {},
   "outputs": [
    {
     "name": "stdout",
     "output_type": "stream",
     "text": [
      "Requirement already satisfied: openai in c:\\users\\yjroh\\anaconda3\\lib\\site-packages (1.59.3)\n",
      "Requirement already satisfied: anyio<5,>=3.5.0 in c:\\users\\yjroh\\anaconda3\\lib\\site-packages (from openai) (3.5.0)\n",
      "Requirement already satisfied: distro<2,>=1.7.0 in c:\\users\\yjroh\\anaconda3\\lib\\site-packages (from openai) (1.9.0)\n",
      "Requirement already satisfied: httpx<1,>=0.23.0 in c:\\users\\yjroh\\anaconda3\\lib\\site-packages (from openai) (0.28.1)\n",
      "Requirement already satisfied: jiter<1,>=0.4.0 in c:\\users\\yjroh\\anaconda3\\lib\\site-packages (from openai) (0.8.2)\n",
      "Requirement already satisfied: pydantic<3,>=1.9.0 in c:\\users\\yjroh\\anaconda3\\lib\\site-packages (from openai) (2.10.4)\n",
      "Requirement already satisfied: sniffio in c:\\users\\yjroh\\anaconda3\\lib\\site-packages (from openai) (1.3.0)\n",
      "Requirement already satisfied: tqdm>4 in c:\\users\\yjroh\\anaconda3\\lib\\site-packages (from openai) (4.66.5)\n",
      "Requirement already satisfied: typing-extensions<5,>=4.11 in c:\\users\\yjroh\\anaconda3\\lib\\site-packages (from openai) (4.12.2)\n",
      "Requirement already satisfied: idna>=2.8 in c:\\users\\yjroh\\anaconda3\\lib\\site-packages (from anyio<5,>=3.5.0->openai) (3.4)\n",
      "Requirement already satisfied: certifi in c:\\users\\yjroh\\anaconda3\\lib\\site-packages (from httpx<1,>=0.23.0->openai) (2023.7.22)\n",
      "Requirement already satisfied: httpcore==1.* in c:\\users\\yjroh\\anaconda3\\lib\\site-packages (from httpx<1,>=0.23.0->openai) (1.0.7)\n",
      "Requirement already satisfied: h11<0.15,>=0.13 in c:\\users\\yjroh\\anaconda3\\lib\\site-packages (from httpcore==1.*->httpx<1,>=0.23.0->openai) (0.14.0)\n",
      "Requirement already satisfied: annotated-types>=0.6.0 in c:\\users\\yjroh\\anaconda3\\lib\\site-packages (from pydantic<3,>=1.9.0->openai) (0.7.0)\n",
      "Requirement already satisfied: pydantic-core==2.27.2 in c:\\users\\yjroh\\anaconda3\\lib\\site-packages (from pydantic<3,>=1.9.0->openai) (2.27.2)\n",
      "Requirement already satisfied: colorama in c:\\users\\yjroh\\appdata\\roaming\\python\\python311\\site-packages (from tqdm>4->openai) (0.4.6)\n"
     ]
    },
    {
     "name": "stderr",
     "output_type": "stream",
     "text": [
      "DEPRECATION: pytorch-lightning 1.6.1 has a non-standard dependency specifier torch>=1.8.*. pip 23.3 will enforce this behaviour change. A possible replacement is to upgrade to a newer version of pytorch-lightning or contact the author to suggest that they release a version with a conforming dependency specifiers. Discussion can be found at https://github.com/pypa/pip/issues/12063\n"
     ]
    }
   ],
   "source": [
    "!pip install openai"
   ]
  },
  {
   "cell_type": "markdown",
   "metadata": {},
   "source": [
    "### openai 라이브러리 불러오기"
   ]
  },
  {
   "cell_type": "code",
   "execution_count": 2,
   "metadata": {},
   "outputs": [],
   "source": [
    "import openai"
   ]
  },
  {
   "cell_type": "markdown",
   "metadata": {},
   "source": [
    "### openai api key 불러오기"
   ]
  },
  {
   "cell_type": "code",
   "execution_count": 9,
   "metadata": {},
   "outputs": [
    {
     "name": "stdout",
     "output_type": "stream",
     "text": [
      "<openai.OpenAI object at 0x0000016F8A85F650>\n"
     ]
    }
   ],
   "source": [
    "# api key 저장을 위한 os 라이브러리 호출\n",
    "import os\n",
    "from dotenv import load_dotenv\n",
    "\n",
    "# .env 파일 불러오기\n",
    "load_dotenv()\n",
    "\n",
    "# OPENAI API키 저장\n",
    "openai_api_key = os.getenv('OPENAI_API_KEY')\n",
    "client = openai.OpenAI(api_key=openai_api_key)\n",
    "print(client)"
   ]
  },
  {
   "cell_type": "markdown",
   "metadata": {},
   "source": [
    "### 기본 질문하기"
   ]
  },
  {
   "cell_type": "code",
   "execution_count": 4,
   "metadata": {},
   "outputs": [
    {
     "data": {
      "text/plain": [
       "\"response = client.chat.completions.create(\\n    model='gpt-3.5-turbo',\\n    messages=[{'role':'user', 'content':'input prompt'}],\\n    temperature=1,\\n    top_p=1,\\n    presence_penalty=1,\\n    frequency_penalty=1,\\n    n=1,\\n    max_tokens=4000,\\n    stop=None,\\n    seed=None,\\n    tools=None,\\n    tool_choice=None,\\n    response_format=None\\n)\""
      ]
     },
     "execution_count": 4,
     "metadata": {},
     "output_type": "execute_result"
    }
   ],
   "source": [
    "\"\"\"response = client.chat.completions.create(\n",
    "    model='gpt-3.5-turbo',\n",
    "    messages=[{'role':'user', 'content':'input prompt'}],\n",
    "    temperature=1,\n",
    "    top_p=1,\n",
    "    presence_penalty=1,\n",
    "    frequency_penalty=1,\n",
    "    n=1,\n",
    "    max_tokens=4000,\n",
    "    stop=None,\n",
    "    seed=None,\n",
    "    tools=None,\n",
    "    tool_choice=None,\n",
    "    response_format=None\n",
    ")\"\"\""
   ]
  },
  {
   "cell_type": "code",
   "execution_count": 5,
   "metadata": {},
   "outputs": [
    {
     "name": "stdout",
     "output_type": "stream",
     "text": [
      "ChatCompletion(id='chatcmpl-Aw974pecMEENehDxvexIc2fUqmW6t', choices=[Choice(finish_reason='stop', index=0, logprobs=None, message=ChatCompletionMessage(content='1. Start by preparing the pizza dough. You can either make your own dough from scratch or purchase pre-made dough from the store.\\n\\n2. Roll out the dough on a floured surface to your desired thickness and shape.\\n\\n3. Preheat your oven to the highest temperature it can go, typically around 475-500°F (245-260°C).\\n\\n4. Place the rolled out dough on a baking sheet or pizza stone. Prick the dough with a fork to prevent air bubbles from forming during baking.\\n\\n5. Spread a layer of pizza sauce over the dough, leaving a border around the edges for the crust.\\n\\n6. Add your desired toppings such as cheese, vegetables, meats, and herbs. Be sure not to overload the pizza with toppings as it may become soggy.\\n\\n7. Place the pizza in the preheated oven and bake for 10-15 minutes, or until the crust is golden brown and the cheese is melted and bubbly.\\n\\n8. Remove the pizza from the oven and let it cool for a few minutes before slicing and serving.\\n\\n9. Enjoy your homemade pizza!', refusal=None, role='assistant', audio=None, function_call=None, tool_calls=None))], created=1738421418, model='gpt-3.5-turbo-0125', object='chat.completion', service_tier='default', system_fingerprint=None, usage=CompletionUsage(completion_tokens=223, prompt_tokens=14, total_tokens=237, completion_tokens_details=CompletionTokensDetails(accepted_prediction_tokens=0, audio_tokens=0, reasoning_tokens=0, rejected_prediction_tokens=0), prompt_tokens_details=PromptTokensDetails(audio_tokens=0, cached_tokens=0)))\n"
     ]
    }
   ],
   "source": [
    "response = client.chat.completions.create(\n",
    "    model='gpt-3.5-turbo',\n",
    "    messages=[{'role':'user','content':'Tell me how to make a pizza'}]\n",
    ")\n",
    "print(response)"
   ]
  },
  {
   "cell_type": "markdown",
   "metadata": {},
   "source": [
    "### 언어모델의 답변 결과"
   ]
  },
  {
   "cell_type": "code",
   "execution_count": 6,
   "metadata": {},
   "outputs": [
    {
     "name": "stdout",
     "output_type": "stream",
     "text": [
      "1. Start by preparing the pizza dough. You can either make your own dough from scratch or purchase pre-made dough from the store.\n",
      "\n",
      "2. Roll out the dough on a floured surface to your desired thickness and shape.\n",
      "\n",
      "3. Preheat your oven to the highest temperature it can go, typically around 475-500°F (245-260°C).\n",
      "\n",
      "4. Place the rolled out dough on a baking sheet or pizza stone. Prick the dough with a fork to prevent air bubbles from forming during baking.\n",
      "\n",
      "5. Spread a layer of pizza sauce over the dough, leaving a border around the edges for the crust.\n",
      "\n",
      "6. Add your desired toppings such as cheese, vegetables, meats, and herbs. Be sure not to overload the pizza with toppings as it may become soggy.\n",
      "\n",
      "7. Place the pizza in the preheated oven and bake for 10-15 minutes, or until the crust is golden brown and the cheese is melted and bubbly.\n",
      "\n",
      "8. Remove the pizza from the oven and let it cool for a few minutes before slicing and serving.\n",
      "\n",
      "9. Enjoy your homemade pizza!\n"
     ]
    }
   ],
   "source": [
    "print(response.choices[0].message.content)"
   ]
  },
  {
   "cell_type": "markdown",
   "metadata": {},
   "source": [
    "### 소모한 토큰 수 확인"
   ]
  },
  {
   "cell_type": "code",
   "execution_count": 7,
   "metadata": {},
   "outputs": [
    {
     "name": "stdout",
     "output_type": "stream",
     "text": [
      "CompletionUsage(completion_tokens=223, prompt_tokens=14, total_tokens=237, completion_tokens_details=CompletionTokensDetails(accepted_prediction_tokens=0, audio_tokens=0, reasoning_tokens=0, rejected_prediction_tokens=0), prompt_tokens_details=PromptTokensDetails(audio_tokens=0, cached_tokens=0))\n"
     ]
    }
   ],
   "source": [
    "print(response.usage)"
   ]
  },
  {
   "cell_type": "markdown",
   "metadata": {},
   "source": [
    "### 총 얼마의 비용이 발생했는지 확인"
   ]
  },
  {
   "cell_type": "code",
   "execution_count": 8,
   "metadata": {},
   "outputs": [
    {
     "ename": "NameError",
     "evalue": "name 'total_bill_USD' is not defined",
     "output_type": "error",
     "traceback": [
      "\u001b[1;31m---------------------------------------------------------------------------\u001b[0m",
      "\u001b[1;31mNameError\u001b[0m                                 Traceback (most recent call last)",
      "Cell \u001b[1;32mIn[8], line 1\u001b[0m\n\u001b[1;32m----> 1\u001b[0m \u001b[43mtotal_bill_USD\u001b[49m\n",
      "\u001b[1;31mNameError\u001b[0m: name 'total_bill_USD' is not defined"
     ]
    }
   ],
   "source": [
    "total_bill_USD"
   ]
  }
 ],
 "metadata": {
  "kernelspec": {
   "display_name": "base",
   "language": "python",
   "name": "python3"
  },
  "language_info": {
   "codemirror_mode": {
    "name": "ipython",
    "version": 3
   },
   "file_extension": ".py",
   "mimetype": "text/x-python",
   "name": "python",
   "nbconvert_exporter": "python",
   "pygments_lexer": "ipython3",
   "version": "3.11.4"
  }
 },
 "nbformat": 4,
 "nbformat_minor": 2
}
