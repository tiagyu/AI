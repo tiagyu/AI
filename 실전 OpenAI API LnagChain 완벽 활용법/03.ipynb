{
 "cells": [
  {
   "cell_type": "markdown",
   "metadata": {},
   "source": [
    "### OPENAI 패키지 설치"
   ]
  },
  {
   "cell_type": "code",
   "execution_count": 1,
   "metadata": {},
   "outputs": [
    {
     "name": "stdout",
     "output_type": "stream",
     "text": [
      "Requirement already satisfied: openai in c:\\users\\yjroh\\anaconda3\\lib\\site-packages (1.59.3)\n",
      "Requirement already satisfied: anyio<5,>=3.5.0 in c:\\users\\yjroh\\anaconda3\\lib\\site-packages (from openai) (3.5.0)\n",
      "Requirement already satisfied: distro<2,>=1.7.0 in c:\\users\\yjroh\\anaconda3\\lib\\site-packages (from openai) (1.9.0)\n",
      "Requirement already satisfied: httpx<1,>=0.23.0 in c:\\users\\yjroh\\anaconda3\\lib\\site-packages (from openai) (0.28.1)\n",
      "Requirement already satisfied: jiter<1,>=0.4.0 in c:\\users\\yjroh\\anaconda3\\lib\\site-packages (from openai) (0.8.2)\n",
      "Requirement already satisfied: pydantic<3,>=1.9.0 in c:\\users\\yjroh\\anaconda3\\lib\\site-packages (from openai) (2.10.4)\n",
      "Requirement already satisfied: sniffio in c:\\users\\yjroh\\anaconda3\\lib\\site-packages (from openai) (1.3.0)\n",
      "Requirement already satisfied: tqdm>4 in c:\\users\\yjroh\\anaconda3\\lib\\site-packages (from openai) (4.66.5)\n",
      "Requirement already satisfied: typing-extensions<5,>=4.11 in c:\\users\\yjroh\\anaconda3\\lib\\site-packages (from openai) (4.12.2)\n",
      "Requirement already satisfied: idna>=2.8 in c:\\users\\yjroh\\anaconda3\\lib\\site-packages (from anyio<5,>=3.5.0->openai) (3.4)\n",
      "Requirement already satisfied: certifi in c:\\users\\yjroh\\anaconda3\\lib\\site-packages (from httpx<1,>=0.23.0->openai) (2023.7.22)\n",
      "Requirement already satisfied: httpcore==1.* in c:\\users\\yjroh\\anaconda3\\lib\\site-packages (from httpx<1,>=0.23.0->openai) (1.0.7)\n",
      "Requirement already satisfied: h11<0.15,>=0.13 in c:\\users\\yjroh\\anaconda3\\lib\\site-packages (from httpcore==1.*->httpx<1,>=0.23.0->openai) (0.14.0)\n",
      "Requirement already satisfied: annotated-types>=0.6.0 in c:\\users\\yjroh\\anaconda3\\lib\\site-packages (from pydantic<3,>=1.9.0->openai) (0.7.0)\n",
      "Requirement already satisfied: pydantic-core==2.27.2 in c:\\users\\yjroh\\anaconda3\\lib\\site-packages (from pydantic<3,>=1.9.0->openai) (2.27.2)\n",
      "Requirement already satisfied: colorama in c:\\users\\yjroh\\appdata\\roaming\\python\\python311\\site-packages (from tqdm>4->openai) (0.4.6)\n"
     ]
    },
    {
     "name": "stderr",
     "output_type": "stream",
     "text": [
      "DEPRECATION: pytorch-lightning 1.6.1 has a non-standard dependency specifier torch>=1.8.*. pip 23.3 will enforce this behaviour change. A possible replacement is to upgrade to a newer version of pytorch-lightning or contact the author to suggest that they release a version with a conforming dependency specifiers. Discussion can be found at https://github.com/pypa/pip/issues/12063\n"
     ]
    }
   ],
   "source": [
    "!pip install openai"
   ]
  },
  {
   "cell_type": "markdown",
   "metadata": {},
   "source": [
    "### openai 라이브러리 불러오기"
   ]
  },
  {
   "cell_type": "code",
   "execution_count": 2,
   "metadata": {},
   "outputs": [],
   "source": [
    "import openai"
   ]
  },
  {
   "cell_type": "markdown",
   "metadata": {},
   "source": [
    "### openai api key 불러오기"
   ]
  },
  {
   "cell_type": "code",
   "execution_count": 3,
   "metadata": {},
   "outputs": [
    {
     "name": "stdout",
     "output_type": "stream",
     "text": [
      "<openai.OpenAI object at 0x0000020D0AEF8390>\n"
     ]
    }
   ],
   "source": [
    "# api key 저장을 위한 os 라이브러리 호출\n",
    "import os\n",
    "from dotenv import load_dotenv\n",
    "\n",
    "# .env 파일 불러오기\n",
    "load_dotenv()\n",
    "\n",
    "# OPENAI API키 저장\n",
    "openai_api_key = os.getenv('OPENAI_API_KEY')\n",
    "client = openai.OpenAI(api_key=openai_api_key)\n",
    "print(client)"
   ]
  },
  {
   "cell_type": "markdown",
   "metadata": {},
   "source": [
    "### 기본 질문하기"
   ]
  },
  {
   "cell_type": "code",
   "execution_count": 4,
   "metadata": {},
   "outputs": [
    {
     "data": {
      "text/plain": [
       "\"response = client.chat.completions.create(\\n    model='gpt-3.5-turbo',\\n    messages=[{'role':'user', 'content':'input prompt'}],\\n    temperature=1,\\n    top_p=1,\\n    presence_penalty=1,\\n    frequency_penalty=1,\\n    n=1,\\n    max_tokens=4000,\\n    stop=None,\\n    seed=None,\\n    tools=None,\\n    tool_choice=None,\\n    response_format=None\\n)\""
      ]
     },
     "execution_count": 4,
     "metadata": {},
     "output_type": "execute_result"
    }
   ],
   "source": [
    "\"\"\"response = client.chat.completions.create(\n",
    "    model='gpt-3.5-turbo',\n",
    "    messages=[{'role':'user', 'content':'input prompt'}],\n",
    "    temperature=1,\n",
    "    top_p=1,\n",
    "    presence_penalty=1,\n",
    "    frequency_penalty=1,\n",
    "    n=1,\n",
    "    max_tokens=4000,\n",
    "    stop=None,\n",
    "    seed=None,\n",
    "    tools=None,\n",
    "    tool_choice=None,\n",
    "    response_format=None\n",
    ")\"\"\""
   ]
  },
  {
   "cell_type": "code",
   "execution_count": 5,
   "metadata": {},
   "outputs": [
    {
     "name": "stdout",
     "output_type": "stream",
     "text": [
      "ChatCompletion(id='chatcmpl-AxEILEAxCI3EVSaaNkqDTEjxUoxNq', choices=[Choice(finish_reason='stop', index=0, logprobs=None, message=ChatCompletionMessage(content='Making a pizza at home is a fun and delicious project. Here is a basic recipe to help you make your own pizza:\\n\\nIngredients:\\n- 1 package of active dry yeast\\n- 1 cup of warm water\\n- 2 1/2 cups of all-purpose flour\\n- 2 tablespoons of olive oil\\n- 1 teaspoon of salt\\n- Pizza sauce\\n- Cheese (mozzarella is traditional but feel free to use any kind you like)\\n- Toppings of your choice (such as pepperoni, vegetables, or herbs)\\n\\nInstructions:\\n1. In a large bowl, dissolve the yeast in the warm water. Let it sit for about 5 minutes until it becomes frothy.\\n2. Add the flour, olive oil, and salt to the yeast mixture and stir until a sticky dough forms.\\n3. Turn out the dough onto a floured surface and knead for about 5-7 minutes until it becomes smooth and elastic.\\n4. Place the dough back in the bowl, cover with a damp towel, and let it rise in a warm place for about an hour, or until it has doubled in size.\\n5. Preheat your oven to 475°F (245°C) and place a pizza stone or baking sheet in the oven to heat up.\\n6. Punch down the risen dough and shape it into a round pizza crust on a floured surface.\\n7. Spread pizza sauce over the crust, leaving a border for the crust. Add cheese and your desired toppings.\\n8. Carefully transfer the pizza to the preheated pizza stone or baking sheet and bake for 12-15 minutes, or until the crust is golden and the cheese is bubbly and melted.\\n9. Remove the pizza from the oven, slice, and enjoy!\\n\\nFeel free to get creative with your toppings and experiment with different flavors. Making pizza at home is a versatile and customizable dish that you can enjoy with friends and family.', refusal=None, role='assistant', audio=None, function_call=None, tool_calls=None))], created=1738679665, model='gpt-3.5-turbo-0125', object='chat.completion', service_tier='default', system_fingerprint=None, usage=CompletionUsage(completion_tokens=392, prompt_tokens=14, total_tokens=406, completion_tokens_details=CompletionTokensDetails(accepted_prediction_tokens=0, audio_tokens=0, reasoning_tokens=0, rejected_prediction_tokens=0), prompt_tokens_details=PromptTokensDetails(audio_tokens=0, cached_tokens=0)))\n"
     ]
    }
   ],
   "source": [
    "response = client.chat.completions.create(\n",
    "    model='gpt-3.5-turbo',\n",
    "    messages=[{'role':'user','content':'Tell me how to make a pizza'}]\n",
    ")\n",
    "print(response)"
   ]
  },
  {
   "cell_type": "markdown",
   "metadata": {},
   "source": [
    "### 언어모델의 답변 결과"
   ]
  },
  {
   "cell_type": "code",
   "execution_count": 6,
   "metadata": {},
   "outputs": [
    {
     "name": "stdout",
     "output_type": "stream",
     "text": [
      "Making a pizza at home is a fun and delicious project. Here is a basic recipe to help you make your own pizza:\n",
      "\n",
      "Ingredients:\n",
      "- 1 package of active dry yeast\n",
      "- 1 cup of warm water\n",
      "- 2 1/2 cups of all-purpose flour\n",
      "- 2 tablespoons of olive oil\n",
      "- 1 teaspoon of salt\n",
      "- Pizza sauce\n",
      "- Cheese (mozzarella is traditional but feel free to use any kind you like)\n",
      "- Toppings of your choice (such as pepperoni, vegetables, or herbs)\n",
      "\n",
      "Instructions:\n",
      "1. In a large bowl, dissolve the yeast in the warm water. Let it sit for about 5 minutes until it becomes frothy.\n",
      "2. Add the flour, olive oil, and salt to the yeast mixture and stir until a sticky dough forms.\n",
      "3. Turn out the dough onto a floured surface and knead for about 5-7 minutes until it becomes smooth and elastic.\n",
      "4. Place the dough back in the bowl, cover with a damp towel, and let it rise in a warm place for about an hour, or until it has doubled in size.\n",
      "5. Preheat your oven to 475°F (245°C) and place a pizza stone or baking sheet in the oven to heat up.\n",
      "6. Punch down the risen dough and shape it into a round pizza crust on a floured surface.\n",
      "7. Spread pizza sauce over the crust, leaving a border for the crust. Add cheese and your desired toppings.\n",
      "8. Carefully transfer the pizza to the preheated pizza stone or baking sheet and bake for 12-15 minutes, or until the crust is golden and the cheese is bubbly and melted.\n",
      "9. Remove the pizza from the oven, slice, and enjoy!\n",
      "\n",
      "Feel free to get creative with your toppings and experiment with different flavors. Making pizza at home is a versatile and customizable dish that you can enjoy with friends and family.\n"
     ]
    }
   ],
   "source": [
    "print(response.choices[0].message.content)"
   ]
  },
  {
   "cell_type": "markdown",
   "metadata": {},
   "source": [
    "### 소모한 토큰 수 확인"
   ]
  },
  {
   "cell_type": "code",
   "execution_count": 7,
   "metadata": {},
   "outputs": [
    {
     "name": "stdout",
     "output_type": "stream",
     "text": [
      "CompletionUsage(completion_tokens=392, prompt_tokens=14, total_tokens=406, completion_tokens_details=CompletionTokensDetails(accepted_prediction_tokens=0, audio_tokens=0, reasoning_tokens=0, rejected_prediction_tokens=0), prompt_tokens_details=PromptTokensDetails(audio_tokens=0, cached_tokens=0))\n"
     ]
    }
   ],
   "source": [
    "print(response.usage)"
   ]
  },
  {
   "cell_type": "markdown",
   "metadata": {},
   "source": [
    "### 총 얼마의 비용이 발생했는지 확인"
   ]
  },
  {
   "cell_type": "code",
   "execution_count": 9,
   "metadata": {},
   "outputs": [
    {
     "name": "stdout",
     "output_type": "stream",
     "text": [
      "총 소모 비용 : 22.938999999999997원\n"
     ]
    }
   ],
   "source": [
    "total_bill_USD = (response.usage.completion_tokens * 0.0006 \n",
    "                  + response.usage.prompt_tokens * 0.00015) / 15\n",
    "\n",
    "# 환율 기준\n",
    "total_bill_KRW = total_bill_USD * 1450.00\n",
    "print(f'총 소모 비용 : {total_bill_KRW}원')"
   ]
  },
  {
   "cell_type": "markdown",
   "metadata": {},
   "source": [
    "### 역할 부여하기"
   ]
  },
  {
   "cell_type": "code",
   "execution_count": null,
   "metadata": {},
   "outputs": [
    {
     "name": "stdout",
     "output_type": "stream",
     "text": [
      "2020년 축구 챔피언스 리그 우승팀은 바이에른 뮌헨이었어. 바이에른 뮌헨은 파리 생제르맹을 1-0으로 이기고 우승을 차지했어.\n"
     ]
    }
   ],
   "source": [
    "# 축구를 좋아하는 학생 역할\n",
    "response = client.chat.completions.create(\n",
    "    model='gpt-3.5-turbo',\n",
    "    messages=[\n",
    "        {\"role\" : \"system\", \"content\" : \"너는 축구를 정말 좋아하는 학생이야\"},\n",
    "        {\"role\" : \"user\", \"content\" : \"2020년 축구 챔피언스 리그 우승 팀은 어디야?\"}\n",
    "    ]\n",
    ")\n",
    "print(response.choices[0].message.content)"
   ]
  },
  {
   "cell_type": "code",
   "execution_count": 18,
   "metadata": {},
   "outputs": [
    {
     "name": "stdout",
     "output_type": "stream",
     "text": [
      "The winner of the 2020 UEFA Champions League was Bayern Munich.\n"
     ]
    }
   ],
   "source": [
    "# 영어로만 답변하게 만드는 역할\n",
    "response = client.chat.completions.create(\n",
    "    model='gpt-3.5-turbo',\n",
    "    messages=[\n",
    "        {\"role\" : \"system\", \"content\" : \"You are America person, You can only speak English\"},\n",
    "        {\"role\" : \"user\", \"content\" : \"2020년 축구 챔피언스 리그 우승 팀은 어디야?\"}\n",
    "    ]\n",
    ")\n",
    "print(response.choices[0].message.content)"
   ]
  },
  {
   "cell_type": "code",
   "execution_count": 19,
   "metadata": {},
   "outputs": [
    {
     "name": "stdout",
     "output_type": "stream",
     "text": [
      "Sorry, I cannot provide that information.\n"
     ]
    }
   ],
   "source": [
    "# 답변 제대로 안해주는 역할\n",
    "response = client.chat.completions.create(\n",
    "    model='gpt-3.5-turbo',\n",
    "    messages=[\n",
    "        {\"role\" : \"system\", \"content\" : \"You are a chatbot that refuses to answer and says sorry when users ask questions\"},\n",
    "        {\"role\" : \"user\", \"content\" : \"2020년 축구 챔피언스 리그 우승 팀은 어디야?\"}\n",
    "    ]\n",
    ")\n",
    "print(response.choices[0].message.content)"
   ]
  },
  {
   "cell_type": "code",
   "execution_count": 20,
   "metadata": {},
   "outputs": [
    {
     "name": "stdout",
     "output_type": "stream",
     "text": [
      "Which team won the 2020 Champions League in football?\n"
     ]
    }
   ],
   "source": [
    "# 번역하는 챗봇\n",
    "response = client.chat.completions.create(\n",
    "    model='gpt-3.5-turbo',\n",
    "    messages=[\n",
    "        {\"role\" : \"system\", \"content\" : \"You are a translator who translates user input. You are translator that translates user's inputs. If the input is in Korean, it must be translated into English. This must be strictly adherd to.\"},\n",
    "        {\"role\" : \"user\", \"content\" : \"2020년 축구 챔피언스 리그 우승 팀은 어디야?\"}\n",
    "    ]\n",
    ")\n",
    "print(response.choices[0].message.content)"
   ]
  },
  {
   "cell_type": "markdown",
   "metadata": {},
   "source": [
    "### 이전 대화를 포함하여 답변하기"
   ]
  }
 ],
 "metadata": {
  "kernelspec": {
   "display_name": "base",
   "language": "python",
   "name": "python3"
  },
  "language_info": {
   "codemirror_mode": {
    "name": "ipython",
    "version": 3
   },
   "file_extension": ".py",
   "mimetype": "text/x-python",
   "name": "python",
   "nbconvert_exporter": "python",
   "pygments_lexer": "ipython3",
   "version": "3.11.4"
  }
 },
 "nbformat": 4,
 "nbformat_minor": 2
}
