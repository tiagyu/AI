{
 "cells": [
  {
   "cell_type": "markdown",
   "metadata": {},
   "source": [
    "### OPENAI 패키지 설치"
   ]
  },
  {
   "cell_type": "code",
   "execution_count": 1,
   "metadata": {},
   "outputs": [
    {
     "name": "stdout",
     "output_type": "stream",
     "text": [
      "Requirement already satisfied: openai in c:\\users\\yjroh\\anaconda3\\lib\\site-packages (1.59.3)\n",
      "Requirement already satisfied: anyio<5,>=3.5.0 in c:\\users\\yjroh\\anaconda3\\lib\\site-packages (from openai) (3.5.0)\n",
      "Requirement already satisfied: distro<2,>=1.7.0 in c:\\users\\yjroh\\anaconda3\\lib\\site-packages (from openai) (1.9.0)\n",
      "Requirement already satisfied: httpx<1,>=0.23.0 in c:\\users\\yjroh\\anaconda3\\lib\\site-packages (from openai) (0.28.1)\n",
      "Requirement already satisfied: jiter<1,>=0.4.0 in c:\\users\\yjroh\\anaconda3\\lib\\site-packages (from openai) (0.8.2)\n",
      "Requirement already satisfied: pydantic<3,>=1.9.0 in c:\\users\\yjroh\\anaconda3\\lib\\site-packages (from openai) (2.10.4)\n",
      "Requirement already satisfied: sniffio in c:\\users\\yjroh\\anaconda3\\lib\\site-packages (from openai) (1.3.0)\n",
      "Requirement already satisfied: tqdm>4 in c:\\users\\yjroh\\anaconda3\\lib\\site-packages (from openai) (4.66.5)\n",
      "Requirement already satisfied: typing-extensions<5,>=4.11 in c:\\users\\yjroh\\anaconda3\\lib\\site-packages (from openai) (4.12.2)\n",
      "Requirement already satisfied: idna>=2.8 in c:\\users\\yjroh\\anaconda3\\lib\\site-packages (from anyio<5,>=3.5.0->openai) (3.4)\n",
      "Requirement already satisfied: certifi in c:\\users\\yjroh\\anaconda3\\lib\\site-packages (from httpx<1,>=0.23.0->openai) (2023.7.22)\n",
      "Requirement already satisfied: httpcore==1.* in c:\\users\\yjroh\\anaconda3\\lib\\site-packages (from httpx<1,>=0.23.0->openai) (1.0.7)\n",
      "Requirement already satisfied: h11<0.15,>=0.13 in c:\\users\\yjroh\\anaconda3\\lib\\site-packages (from httpcore==1.*->httpx<1,>=0.23.0->openai) (0.14.0)\n",
      "Requirement already satisfied: annotated-types>=0.6.0 in c:\\users\\yjroh\\anaconda3\\lib\\site-packages (from pydantic<3,>=1.9.0->openai) (0.7.0)\n",
      "Requirement already satisfied: pydantic-core==2.27.2 in c:\\users\\yjroh\\anaconda3\\lib\\site-packages (from pydantic<3,>=1.9.0->openai) (2.27.2)\n",
      "Requirement already satisfied: colorama in c:\\users\\yjroh\\appdata\\roaming\\python\\python311\\site-packages (from tqdm>4->openai) (0.4.6)\n"
     ]
    },
    {
     "name": "stderr",
     "output_type": "stream",
     "text": [
      "DEPRECATION: pytorch-lightning 1.6.1 has a non-standard dependency specifier torch>=1.8.*. pip 23.3 will enforce this behaviour change. A possible replacement is to upgrade to a newer version of pytorch-lightning or contact the author to suggest that they release a version with a conforming dependency specifiers. Discussion can be found at https://github.com/pypa/pip/issues/12063\n"
     ]
    }
   ],
   "source": [
    "!pip install openai"
   ]
  },
  {
   "cell_type": "markdown",
   "metadata": {},
   "source": [
    "### openai 라이브러리 불러오기"
   ]
  },
  {
   "cell_type": "code",
   "execution_count": 2,
   "metadata": {},
   "outputs": [],
   "source": [
    "import openai"
   ]
  },
  {
   "cell_type": "markdown",
   "metadata": {},
   "source": [
    "### openai api key 불러오기"
   ]
  },
  {
   "cell_type": "code",
   "execution_count": 3,
   "metadata": {},
   "outputs": [
    {
     "name": "stdout",
     "output_type": "stream",
     "text": [
      "<openai.OpenAI object at 0x0000015FEB6C4510>\n"
     ]
    }
   ],
   "source": [
    "# api key 저장을 위한 os 라이브러리 호출\n",
    "import os\n",
    "from dotenv import load_dotenv\n",
    "\n",
    "# .env 파일 불러오기\n",
    "load_dotenv()\n",
    "\n",
    "# OPENAI API키 저장\n",
    "openai_api_key = os.getenv('OPENAI_API_KEY')\n",
    "client = openai.OpenAI(api_key=openai_api_key)\n",
    "print(client)"
   ]
  },
  {
   "cell_type": "markdown",
   "metadata": {},
   "source": [
    "### 기본 질문하기"
   ]
  },
  {
   "cell_type": "code",
   "execution_count": 4,
   "metadata": {},
   "outputs": [
    {
     "data": {
      "text/plain": [
       "\"response = client.chat.completions.create(\\n    model='gpt-3.5-turbo',\\n    messages=[{'role':'user', 'content':'input prompt'}],\\n    temperature=1,\\n    top_p=1,\\n    presence_penalty=1,\\n    frequency_penalty=1,\\n    n=1,\\n    max_tokens=4000,\\n    stop=None,\\n    seed=None,\\n    tools=None,\\n    tool_choice=None,\\n    response_format=None\\n)\""
      ]
     },
     "execution_count": 4,
     "metadata": {},
     "output_type": "execute_result"
    }
   ],
   "source": [
    "\"\"\"response = client.chat.completions.create(\n",
    "    model='gpt-3.5-turbo',\n",
    "    messages=[{'role':'user', 'content':'input prompt'}],\n",
    "    temperature=1,\n",
    "    top_p=1,\n",
    "    presence_penalty=1,\n",
    "    frequency_penalty=1,\n",
    "    n=1,\n",
    "    max_tokens=4000,\n",
    "    stop=None,\n",
    "    seed=None,\n",
    "    tools=None,\n",
    "    tool_choice=None,\n",
    "    response_format=None\n",
    ")\"\"\""
   ]
  },
  {
   "cell_type": "code",
   "execution_count": 5,
   "metadata": {},
   "outputs": [
    {
     "name": "stdout",
     "output_type": "stream",
     "text": [
      "ChatCompletion(id='chatcmpl-AyxtIcykyFZ3tbjDl2PvTKEsbOdyx', choices=[Choice(finish_reason='stop', index=0, logprobs=None, message=ChatCompletionMessage(content='Here is a basic recipe on how to make a pizza:\\n\\nIngredients:\\n- 1 pizza dough (store-bought or homemade)\\n- 1 cup tomato sauce\\n- 2 cups shredded mozzarella cheese\\n- Toppings of your choice (such as pepperoni, mushrooms, onions, bell peppers, etc.)\\n- Olive oil\\n- Salt and pepper\\n- Italian seasoning\\n\\nInstructions:\\n\\n1. Preheat your oven to 450°F (230°C).\\n\\n2. Roll out the pizza dough on a floured surface to your desired thickness. Place the dough on a pizza pan or baking sheet.\\n\\n3. Spread the tomato sauce evenly over the pizza dough, leaving a small border around the edges.\\n\\n4. Sprinkle the shredded mozzarella cheese over the sauce.\\n\\n5. Add your desired toppings on top of the cheese.\\n\\n6. Drizzle some olive oil over the pizza and season with salt, pepper, and Italian seasoning.\\n\\n7. Place the pizza in the preheated oven and bake for about 15-20 minutes, or until the crust is golden brown and the cheese is melted and bubbly.\\n\\n8. Remove the pizza from the oven and let it cool for a few minutes before slicing and serving.\\n\\nEnjoy your homemade pizza! Feel free to customize it with your favorite toppings and experiment with different flavors.', refusal=None, role='assistant', audio=None, function_call=None, tool_calls=None))], created=1739093264, model='gpt-3.5-turbo-0125', object='chat.completion', service_tier='default', system_fingerprint=None, usage=CompletionUsage(completion_tokens=266, prompt_tokens=14, total_tokens=280, completion_tokens_details=CompletionTokensDetails(accepted_prediction_tokens=0, audio_tokens=0, reasoning_tokens=0, rejected_prediction_tokens=0), prompt_tokens_details=PromptTokensDetails(audio_tokens=0, cached_tokens=0)))\n"
     ]
    }
   ],
   "source": [
    "response = client.chat.completions.create(\n",
    "    model='gpt-3.5-turbo',\n",
    "    messages=[{'role':'user','content':'Tell me how to make a pizza'}]\n",
    ")\n",
    "print(response)"
   ]
  },
  {
   "cell_type": "markdown",
   "metadata": {},
   "source": [
    "### 언어모델의 답변 결과"
   ]
  },
  {
   "cell_type": "code",
   "execution_count": 6,
   "metadata": {},
   "outputs": [
    {
     "name": "stdout",
     "output_type": "stream",
     "text": [
      "Here is a basic recipe on how to make a pizza:\n",
      "\n",
      "Ingredients:\n",
      "- 1 pizza dough (store-bought or homemade)\n",
      "- 1 cup tomato sauce\n",
      "- 2 cups shredded mozzarella cheese\n",
      "- Toppings of your choice (such as pepperoni, mushrooms, onions, bell peppers, etc.)\n",
      "- Olive oil\n",
      "- Salt and pepper\n",
      "- Italian seasoning\n",
      "\n",
      "Instructions:\n",
      "\n",
      "1. Preheat your oven to 450°F (230°C).\n",
      "\n",
      "2. Roll out the pizza dough on a floured surface to your desired thickness. Place the dough on a pizza pan or baking sheet.\n",
      "\n",
      "3. Spread the tomato sauce evenly over the pizza dough, leaving a small border around the edges.\n",
      "\n",
      "4. Sprinkle the shredded mozzarella cheese over the sauce.\n",
      "\n",
      "5. Add your desired toppings on top of the cheese.\n",
      "\n",
      "6. Drizzle some olive oil over the pizza and season with salt, pepper, and Italian seasoning.\n",
      "\n",
      "7. Place the pizza in the preheated oven and bake for about 15-20 minutes, or until the crust is golden brown and the cheese is melted and bubbly.\n",
      "\n",
      "8. Remove the pizza from the oven and let it cool for a few minutes before slicing and serving.\n",
      "\n",
      "Enjoy your homemade pizza! Feel free to customize it with your favorite toppings and experiment with different flavors.\n"
     ]
    }
   ],
   "source": [
    "print(response.choices[0].message.content)"
   ]
  },
  {
   "cell_type": "markdown",
   "metadata": {},
   "source": [
    "### 소모한 토큰 수 확인"
   ]
  },
  {
   "cell_type": "code",
   "execution_count": 7,
   "metadata": {},
   "outputs": [
    {
     "name": "stdout",
     "output_type": "stream",
     "text": [
      "CompletionUsage(completion_tokens=266, prompt_tokens=14, total_tokens=280, completion_tokens_details=CompletionTokensDetails(accepted_prediction_tokens=0, audio_tokens=0, reasoning_tokens=0, rejected_prediction_tokens=0), prompt_tokens_details=PromptTokensDetails(audio_tokens=0, cached_tokens=0))\n"
     ]
    }
   ],
   "source": [
    "print(response.usage)"
   ]
  },
  {
   "cell_type": "markdown",
   "metadata": {},
   "source": [
    "### 총 얼마의 비용이 발생했는지 확인"
   ]
  },
  {
   "cell_type": "code",
   "execution_count": 8,
   "metadata": {},
   "outputs": [
    {
     "name": "stdout",
     "output_type": "stream",
     "text": [
      "총 소모 비용 : 15.631원\n"
     ]
    }
   ],
   "source": [
    "total_bill_USD = (response.usage.completion_tokens * 0.0006 \n",
    "                  + response.usage.prompt_tokens * 0.00015) / 15\n",
    "\n",
    "# 환율 기준\n",
    "total_bill_KRW = total_bill_USD * 1450.00\n",
    "print(f'총 소모 비용 : {total_bill_KRW}원')"
   ]
  },
  {
   "cell_type": "markdown",
   "metadata": {},
   "source": [
    "### 역할 부여하기"
   ]
  },
  {
   "cell_type": "code",
   "execution_count": 9,
   "metadata": {},
   "outputs": [
    {
     "name": "stdout",
     "output_type": "stream",
     "text": [
      "2020년 축구 챔피언스 리그 우승팀은 FC 바이에른 뮌헨입니다. 바이에른 뮌헨은 2019-2020 시즌 챔피언스 리그에서 우승을 차지하였습니다.\n"
     ]
    }
   ],
   "source": [
    "# 축구를 좋아하는 학생 역할\n",
    "response = client.chat.completions.create(\n",
    "    model='gpt-3.5-turbo',\n",
    "    messages=[\n",
    "        {\"role\" : \"system\", \"content\" : \"너는 축구를 정말 좋아하는 학생이야\"},\n",
    "        {\"role\" : \"user\", \"content\" : \"2020년 축구 챔피언스 리그 우승 팀은 어디야?\"}\n",
    "    ]\n",
    ")\n",
    "print(response.choices[0].message.content)"
   ]
  },
  {
   "cell_type": "code",
   "execution_count": 10,
   "metadata": {},
   "outputs": [
    {
     "name": "stdout",
     "output_type": "stream",
     "text": [
      "The 2020 Champions League winner was Bayern Munich from Germany.\n"
     ]
    }
   ],
   "source": [
    "# 영어로만 답변하게 만드는 역할\n",
    "response = client.chat.completions.create(\n",
    "    model='gpt-3.5-turbo',\n",
    "    messages=[\n",
    "        {\"role\" : \"system\", \"content\" : \"You are America person, You can only speak English\"},\n",
    "        {\"role\" : \"user\", \"content\" : \"2020년 축구 챔피언스 리그 우승 팀은 어디야?\"}\n",
    "    ]\n",
    ")\n",
    "print(response.choices[0].message.content)"
   ]
  },
  {
   "cell_type": "code",
   "execution_count": 11,
   "metadata": {},
   "outputs": [
    {
     "name": "stdout",
     "output_type": "stream",
     "text": [
      "Sorry, I can't provide an answer to that question.\n"
     ]
    }
   ],
   "source": [
    "# 답변 제대로 안해주는 역할\n",
    "response = client.chat.completions.create(\n",
    "    model='gpt-3.5-turbo',\n",
    "    messages=[\n",
    "        {\"role\" : \"system\", \"content\" : \"You are a chatbot that refuses to answer and says sorry when users ask questions\"},\n",
    "        {\"role\" : \"user\", \"content\" : \"2020년 축구 챔피언스 리그 우승 팀은 어디야?\"}\n",
    "    ]\n",
    ")\n",
    "print(response.choices[0].message.content)"
   ]
  },
  {
   "cell_type": "code",
   "execution_count": 12,
   "metadata": {},
   "outputs": [
    {
     "name": "stdout",
     "output_type": "stream",
     "text": [
      "Which team won the football Champions League in 2020?\n"
     ]
    }
   ],
   "source": [
    "# 번역하는 챗봇\n",
    "response = client.chat.completions.create(\n",
    "    model='gpt-3.5-turbo',\n",
    "    messages=[\n",
    "        {\"role\" : \"system\", \"content\" : \"You are a translator who translates user input. You are translator that translates user's inputs. If the input is in Korean, it must be translated into English. This must be strictly adherd to.\"},\n",
    "        {\"role\" : \"user\", \"content\" : \"2020년 축구 챔피언스 리그 우승 팀은 어디야?\"}\n",
    "    ]\n",
    ")\n",
    "print(response.choices[0].message.content)"
   ]
  },
  {
   "cell_type": "markdown",
   "metadata": {},
   "source": [
    "### 이전 대화를 포함하여 답변하기"
   ]
  },
  {
   "cell_type": "code",
   "execution_count": 13,
   "metadata": {},
   "outputs": [
    {
     "name": "stdout",
     "output_type": "stream",
     "text": [
      "2000년 시총 1위 기업은 일본의 소프트뱅크 그룹이었습니다.\n"
     ]
    }
   ],
   "source": [
    "response = client.chat.completions.create(\n",
    "    model='gpt-3.5-turbo',\n",
    "    messages=[\n",
    "        {\"role\" : \"user\", \"content\" : \"2021년 시총 1위 기업이 어디야?\"},\n",
    "        {\"role\" : \"assistant\", \"content\" : \"2021년 시총 1위 기업은 애플입니다\"},\n",
    "        {\"role\" : \"user\", \"content\" : \"그러면 2000년 시총 1위 기업은 어디야?\"}\n",
    "    ]\n",
    ")\n",
    "print(response.choices[0].message.content)"
   ]
  },
  {
   "cell_type": "markdown",
   "metadata": {},
   "source": [
    "### json 구조로 답변 받기"
   ]
  },
  {
   "cell_type": "code",
   "execution_count": 14,
   "metadata": {},
   "outputs": [
    {
     "name": "stdout",
     "output_type": "stream",
     "text": [
      "{\n",
      "    \"year\": 2010,\n",
      "    \"top_company\": \"Exxon Mobil\"\n",
      "}\n"
     ]
    }
   ],
   "source": [
    "response = client.chat.completions.create(\n",
    "    model='gpt-3.5-turbo',\n",
    "    response_format = {\"type\" : \"json_object\"},\n",
    "    messages=[\n",
    "        {\"role\" : \"system\", \"content\" : \"You are a helpful assistant designed to output JSON\"},\n",
    "        {\"role\" : \"user\", \"content\" : \"그러면 2010년 시총 1위 기업은 어디야?\"}\n",
    "    ]\n",
    ")\n",
    "print(response.choices[0].message.content)"
   ]
  },
  {
   "cell_type": "markdown",
   "metadata": {},
   "source": [
    "### 스트림릿 설치"
   ]
  },
  {
   "cell_type": "code",
   "execution_count": 15,
   "metadata": {},
   "outputs": [],
   "source": [
    "# !pip install streamlit"
   ]
  },
  {
   "cell_type": "markdown",
   "metadata": {},
   "source": [
    "### 스트림릿 가져오기"
   ]
  },
  {
   "cell_type": "code",
   "execution_count": 16,
   "metadata": {},
   "outputs": [],
   "source": [
    "import streamlit as st"
   ]
  }
 ],
 "metadata": {
  "kernelspec": {
   "display_name": "base",
   "language": "python",
   "name": "python3"
  },
  "language_info": {
   "codemirror_mode": {
    "name": "ipython",
    "version": 3
   },
   "file_extension": ".py",
   "mimetype": "text/x-python",
   "name": "python",
   "nbconvert_exporter": "python",
   "pygments_lexer": "ipython3",
   "version": "3.11.4"
  }
 },
 "nbformat": 4,
 "nbformat_minor": 2
}
