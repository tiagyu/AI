{
 "cells": [
  {
   "cell_type": "markdown",
   "metadata": {},
   "source": [
    "### OPENAI 패키지 설치"
   ]
  },
  {
   "cell_type": "code",
   "execution_count": 1,
   "metadata": {},
   "outputs": [
    {
     "name": "stdout",
     "output_type": "stream",
     "text": [
      "Requirement already satisfied: openai in c:\\users\\yjroh\\anaconda3\\lib\\site-packages (1.59.3)\n",
      "Requirement already satisfied: anyio<5,>=3.5.0 in c:\\users\\yjroh\\anaconda3\\lib\\site-packages (from openai) (3.5.0)\n",
      "Requirement already satisfied: distro<2,>=1.7.0 in c:\\users\\yjroh\\anaconda3\\lib\\site-packages (from openai) (1.9.0)\n",
      "Requirement already satisfied: httpx<1,>=0.23.0 in c:\\users\\yjroh\\anaconda3\\lib\\site-packages (from openai) (0.28.1)\n",
      "Requirement already satisfied: jiter<1,>=0.4.0 in c:\\users\\yjroh\\anaconda3\\lib\\site-packages (from openai) (0.8.2)\n",
      "Requirement already satisfied: pydantic<3,>=1.9.0 in c:\\users\\yjroh\\anaconda3\\lib\\site-packages (from openai) (2.10.4)\n",
      "Requirement already satisfied: sniffio in c:\\users\\yjroh\\anaconda3\\lib\\site-packages (from openai) (1.3.0)\n",
      "Requirement already satisfied: tqdm>4 in c:\\users\\yjroh\\anaconda3\\lib\\site-packages (from openai) (4.66.5)\n",
      "Requirement already satisfied: typing-extensions<5,>=4.11 in c:\\users\\yjroh\\anaconda3\\lib\\site-packages (from openai) (4.12.2)\n",
      "Requirement already satisfied: idna>=2.8 in c:\\users\\yjroh\\anaconda3\\lib\\site-packages (from anyio<5,>=3.5.0->openai) (3.4)\n",
      "Requirement already satisfied: certifi in c:\\users\\yjroh\\anaconda3\\lib\\site-packages (from httpx<1,>=0.23.0->openai) (2023.7.22)\n",
      "Requirement already satisfied: httpcore==1.* in c:\\users\\yjroh\\anaconda3\\lib\\site-packages (from httpx<1,>=0.23.0->openai) (1.0.7)\n",
      "Requirement already satisfied: h11<0.15,>=0.13 in c:\\users\\yjroh\\anaconda3\\lib\\site-packages (from httpcore==1.*->httpx<1,>=0.23.0->openai) (0.14.0)\n",
      "Requirement already satisfied: annotated-types>=0.6.0 in c:\\users\\yjroh\\anaconda3\\lib\\site-packages (from pydantic<3,>=1.9.0->openai) (0.7.0)\n",
      "Requirement already satisfied: pydantic-core==2.27.2 in c:\\users\\yjroh\\anaconda3\\lib\\site-packages (from pydantic<3,>=1.9.0->openai) (2.27.2)\n",
      "Requirement already satisfied: colorama in c:\\users\\yjroh\\appdata\\roaming\\python\\python311\\site-packages (from tqdm>4->openai) (0.4.6)\n"
     ]
    },
    {
     "name": "stderr",
     "output_type": "stream",
     "text": [
      "DEPRECATION: pytorch-lightning 1.6.1 has a non-standard dependency specifier torch>=1.8.*. pip 23.3 will enforce this behaviour change. A possible replacement is to upgrade to a newer version of pytorch-lightning or contact the author to suggest that they release a version with a conforming dependency specifiers. Discussion can be found at https://github.com/pypa/pip/issues/12063\n"
     ]
    }
   ],
   "source": [
    "!pip install openai"
   ]
  },
  {
   "cell_type": "markdown",
   "metadata": {},
   "source": [
    "### openai 라이브러리 불러오기"
   ]
  },
  {
   "cell_type": "code",
   "execution_count": 2,
   "metadata": {},
   "outputs": [],
   "source": [
    "import openai"
   ]
  },
  {
   "cell_type": "markdown",
   "metadata": {},
   "source": [
    "### openai api key 불러오기"
   ]
  },
  {
   "cell_type": "code",
   "execution_count": 3,
   "metadata": {},
   "outputs": [
    {
     "name": "stdout",
     "output_type": "stream",
     "text": [
      "<openai.OpenAI object at 0x000001ECE0D95110>\n"
     ]
    }
   ],
   "source": [
    "# api key 저장을 위한 os 라이브러리 호출\n",
    "import os\n",
    "from dotenv import load_dotenv\n",
    "\n",
    "# .env 파일 불러오기\n",
    "load_dotenv()\n",
    "\n",
    "# OPENAI API키 저장\n",
    "openai_api_key = os.getenv('OPENAI_API_KEY')\n",
    "client = openai.OpenAI(api_key=openai_api_key)\n",
    "print(client)"
   ]
  },
  {
   "cell_type": "markdown",
   "metadata": {},
   "source": [
    "### 기본 질문하기"
   ]
  },
  {
   "cell_type": "code",
   "execution_count": 4,
   "metadata": {},
   "outputs": [
    {
     "data": {
      "text/plain": [
       "\"response = client.chat.completions.create(\\n    model='gpt-3.5-turbo',\\n    messages=[{'role':'user', 'content':'input prompt'}],\\n    temperature=1,\\n    top_p=1,\\n    presence_penalty=1,\\n    frequency_penalty=1,\\n    n=1,\\n    max_tokens=4000,\\n    stop=None,\\n    seed=None,\\n    tools=None,\\n    tool_choice=None,\\n    response_format=None\\n)\""
      ]
     },
     "execution_count": 4,
     "metadata": {},
     "output_type": "execute_result"
    }
   ],
   "source": [
    "\"\"\"response = client.chat.completions.create(\n",
    "    model='gpt-3.5-turbo',\n",
    "    messages=[{'role':'user', 'content':'input prompt'}],\n",
    "    temperature=1,\n",
    "    top_p=1,\n",
    "    presence_penalty=1,\n",
    "    frequency_penalty=1,\n",
    "    n=1,\n",
    "    max_tokens=4000,\n",
    "    stop=None,\n",
    "    seed=None,\n",
    "    tools=None,\n",
    "    tool_choice=None,\n",
    "    response_format=None\n",
    ")\"\"\""
   ]
  },
  {
   "cell_type": "code",
   "execution_count": 5,
   "metadata": {},
   "outputs": [
    {
     "name": "stdout",
     "output_type": "stream",
     "text": [
      "ChatCompletion(id='chatcmpl-Axx7fkrATTSTMdqqOlArqtULINSA2', choices=[Choice(finish_reason='stop', index=0, logprobs=None, message=ChatCompletionMessage(content='To make a pizza, you will need the following ingredients:\\n\\n- Pizza dough\\n- Pizza sauce\\n- Cheese\\n- Toppings (such as pepperoni, mushrooms, bell peppers, etc.)\\n\\nHere is a basic outline of the steps to make a pizza:\\n\\n1. Preheat your oven to the temperature indicated on the pizza dough package.\\n2. Roll out the pizza dough on a lightly floured surface to your desired thickness.\\n3. Place the dough on a pizza pan or baking sheet.\\n4. Spread a layer of pizza sauce over the dough, leaving a small border around the edges.\\n5. Sprinkle cheese evenly over the sauce.\\n6. Add your desired toppings on top of the cheese.\\n7. Bake the pizza in the preheated oven according to the instructions on the pizza dough package, usually around 12-15 minutes.\\n8. Once the cheese is melted and bubbly, and the crust is golden brown, remove the pizza from the oven.\\n9. Let the pizza cool slightly before slicing and serving.\\n\\nEnjoy your homemade pizza! Feel free to experiment with different toppings and flavor combinations to suit your personal preferences.', refusal=None, role='assistant', audio=None, function_call=None, tool_calls=None))], created=1738851983, model='gpt-3.5-turbo-0125', object='chat.completion', service_tier='default', system_fingerprint=None, usage=CompletionUsage(completion_tokens=230, prompt_tokens=14, total_tokens=244, completion_tokens_details=CompletionTokensDetails(accepted_prediction_tokens=0, audio_tokens=0, reasoning_tokens=0, rejected_prediction_tokens=0), prompt_tokens_details=PromptTokensDetails(audio_tokens=0, cached_tokens=0)))\n"
     ]
    }
   ],
   "source": [
    "response = client.chat.completions.create(\n",
    "    model='gpt-3.5-turbo',\n",
    "    messages=[{'role':'user','content':'Tell me how to make a pizza'}]\n",
    ")\n",
    "print(response)"
   ]
  },
  {
   "cell_type": "markdown",
   "metadata": {},
   "source": [
    "### 언어모델의 답변 결과"
   ]
  },
  {
   "cell_type": "code",
   "execution_count": 6,
   "metadata": {},
   "outputs": [
    {
     "name": "stdout",
     "output_type": "stream",
     "text": [
      "To make a pizza, you will need the following ingredients:\n",
      "\n",
      "- Pizza dough\n",
      "- Pizza sauce\n",
      "- Cheese\n",
      "- Toppings (such as pepperoni, mushrooms, bell peppers, etc.)\n",
      "\n",
      "Here is a basic outline of the steps to make a pizza:\n",
      "\n",
      "1. Preheat your oven to the temperature indicated on the pizza dough package.\n",
      "2. Roll out the pizza dough on a lightly floured surface to your desired thickness.\n",
      "3. Place the dough on a pizza pan or baking sheet.\n",
      "4. Spread a layer of pizza sauce over the dough, leaving a small border around the edges.\n",
      "5. Sprinkle cheese evenly over the sauce.\n",
      "6. Add your desired toppings on top of the cheese.\n",
      "7. Bake the pizza in the preheated oven according to the instructions on the pizza dough package, usually around 12-15 minutes.\n",
      "8. Once the cheese is melted and bubbly, and the crust is golden brown, remove the pizza from the oven.\n",
      "9. Let the pizza cool slightly before slicing and serving.\n",
      "\n",
      "Enjoy your homemade pizza! Feel free to experiment with different toppings and flavor combinations to suit your personal preferences.\n"
     ]
    }
   ],
   "source": [
    "print(response.choices[0].message.content)"
   ]
  },
  {
   "cell_type": "markdown",
   "metadata": {},
   "source": [
    "### 소모한 토큰 수 확인"
   ]
  },
  {
   "cell_type": "code",
   "execution_count": 7,
   "metadata": {},
   "outputs": [
    {
     "name": "stdout",
     "output_type": "stream",
     "text": [
      "CompletionUsage(completion_tokens=230, prompt_tokens=14, total_tokens=244, completion_tokens_details=CompletionTokensDetails(accepted_prediction_tokens=0, audio_tokens=0, reasoning_tokens=0, rejected_prediction_tokens=0), prompt_tokens_details=PromptTokensDetails(audio_tokens=0, cached_tokens=0))\n"
     ]
    }
   ],
   "source": [
    "print(response.usage)"
   ]
  },
  {
   "cell_type": "markdown",
   "metadata": {},
   "source": [
    "### 총 얼마의 비용이 발생했는지 확인"
   ]
  },
  {
   "cell_type": "code",
   "execution_count": 8,
   "metadata": {},
   "outputs": [
    {
     "name": "stdout",
     "output_type": "stream",
     "text": [
      "총 소모 비용 : 13.542999999999996원\n"
     ]
    }
   ],
   "source": [
    "total_bill_USD = (response.usage.completion_tokens * 0.0006 \n",
    "                  + response.usage.prompt_tokens * 0.00015) / 15\n",
    "\n",
    "# 환율 기준\n",
    "total_bill_KRW = total_bill_USD * 1450.00\n",
    "print(f'총 소모 비용 : {total_bill_KRW}원')"
   ]
  },
  {
   "cell_type": "markdown",
   "metadata": {},
   "source": [
    "### 역할 부여하기"
   ]
  },
  {
   "cell_type": "code",
   "execution_count": 9,
   "metadata": {},
   "outputs": [
    {
     "name": "stdout",
     "output_type": "stream",
     "text": [
      "2020년 축구 챔피언스 리그 우승 팀은 FC 바이에른 뮌헨이었습니다. 바이에른 뮌헨은 파리 생제르맹을 1-0으로 이기고 우승을 차지했습니다.\n"
     ]
    }
   ],
   "source": [
    "# 축구를 좋아하는 학생 역할\n",
    "response = client.chat.completions.create(\n",
    "    model='gpt-3.5-turbo',\n",
    "    messages=[\n",
    "        {\"role\" : \"system\", \"content\" : \"너는 축구를 정말 좋아하는 학생이야\"},\n",
    "        {\"role\" : \"user\", \"content\" : \"2020년 축구 챔피언스 리그 우승 팀은 어디야?\"}\n",
    "    ]\n",
    ")\n",
    "print(response.choices[0].message.content)"
   ]
  },
  {
   "cell_type": "code",
   "execution_count": 10,
   "metadata": {},
   "outputs": [
    {
     "name": "stdout",
     "output_type": "stream",
     "text": [
      "The winner of the 2020 UEFA Champions League was FC Bayern Munich.\n"
     ]
    }
   ],
   "source": [
    "# 영어로만 답변하게 만드는 역할\n",
    "response = client.chat.completions.create(\n",
    "    model='gpt-3.5-turbo',\n",
    "    messages=[\n",
    "        {\"role\" : \"system\", \"content\" : \"You are America person, You can only speak English\"},\n",
    "        {\"role\" : \"user\", \"content\" : \"2020년 축구 챔피언스 리그 우승 팀은 어디야?\"}\n",
    "    ]\n",
    ")\n",
    "print(response.choices[0].message.content)"
   ]
  },
  {
   "cell_type": "code",
   "execution_count": 11,
   "metadata": {},
   "outputs": [
    {
     "name": "stdout",
     "output_type": "stream",
     "text": [
      "Sorry, I can't answer that.\n"
     ]
    }
   ],
   "source": [
    "# 답변 제대로 안해주는 역할\n",
    "response = client.chat.completions.create(\n",
    "    model='gpt-3.5-turbo',\n",
    "    messages=[\n",
    "        {\"role\" : \"system\", \"content\" : \"You are a chatbot that refuses to answer and says sorry when users ask questions\"},\n",
    "        {\"role\" : \"user\", \"content\" : \"2020년 축구 챔피언스 리그 우승 팀은 어디야?\"}\n",
    "    ]\n",
    ")\n",
    "print(response.choices[0].message.content)"
   ]
  },
  {
   "cell_type": "code",
   "execution_count": 12,
   "metadata": {},
   "outputs": [
    {
     "name": "stdout",
     "output_type": "stream",
     "text": [
      "Which team won the 2020 UEFA Champions League?\n"
     ]
    }
   ],
   "source": [
    "# 번역하는 챗봇\n",
    "response = client.chat.completions.create(\n",
    "    model='gpt-3.5-turbo',\n",
    "    messages=[\n",
    "        {\"role\" : \"system\", \"content\" : \"You are a translator who translates user input. You are translator that translates user's inputs. If the input is in Korean, it must be translated into English. This must be strictly adherd to.\"},\n",
    "        {\"role\" : \"user\", \"content\" : \"2020년 축구 챔피언스 리그 우승 팀은 어디야?\"}\n",
    "    ]\n",
    ")\n",
    "print(response.choices[0].message.content)"
   ]
  },
  {
   "cell_type": "markdown",
   "metadata": {},
   "source": [
    "### 이전 대화를 포함하여 답변하기"
   ]
  },
  {
   "cell_type": "code",
   "execution_count": 16,
   "metadata": {},
   "outputs": [
    {
     "name": "stdout",
     "output_type": "stream",
     "text": [
      "2000년 시총 1위 기업은 Microsoft였습니다.\n"
     ]
    }
   ],
   "source": [
    "response = client.chat.completions.create(\n",
    "    model='gpt-3.5-turbo',\n",
    "    messages=[\n",
    "        {\"role\" : \"user\", \"content\" : \"2021년 시총 1위 기업이 어디야?\"},\n",
    "        {\"role\" : \"assistant\", \"content\" : \"2021년 시총 1위 기업은 애플입니다\"},\n",
    "        {\"role\" : \"user\", \"content\" : \"그러면 2000년 시총 1위 기업은 어디야?\"}\n",
    "    ]\n",
    ")\n",
    "print(response.choices[0].message.content)"
   ]
  },
  {
   "cell_type": "markdown",
   "metadata": {},
   "source": [
    "### json 구조로 답변 받기"
   ]
  },
  {
   "cell_type": "code",
   "execution_count": 18,
   "metadata": {},
   "outputs": [
    {
     "name": "stdout",
     "output_type": "stream",
     "text": [
      "{\n",
      "    \"year\": 2010,\n",
      "    \"company\": \"Exxon Mobil\",\n",
      "    \"market_cap_rank\": 1\n",
      "}\n"
     ]
    }
   ],
   "source": [
    "response = client.chat.completions.create(\n",
    "    model='gpt-3.5-turbo',\n",
    "    response_format = {\"type\" : \"json_object\"},\n",
    "    messages=[\n",
    "        {\"role\" : \"system\", \"content\" : \"You are a helpful assistant designed to output JSON\"},\n",
    "        {\"role\" : \"user\", \"content\" : \"그러면 2010년 시총 1위 기업은 어디야?\"}\n",
    "    ]\n",
    ")\n",
    "print(response.choices[0].message.content)"
   ]
  },
  {
   "cell_type": "markdown",
   "metadata": {},
   "source": [
    "### 스트림릿 설치"
   ]
  },
  {
   "cell_type": "code",
   "execution_count": 19,
   "metadata": {},
   "outputs": [
    {
     "name": "stdout",
     "output_type": "stream",
     "text": [
      "Collecting streamlit\n",
      "  Obtaining dependency information for streamlit from https://files.pythonhosted.org/packages/ad/dc/69068179e09488d0833a970d06e8bf40e35669a7bddb8a3caadc13b7dff4/streamlit-1.42.0-py2.py3-none-any.whl.metadata\n",
      "  Downloading streamlit-1.42.0-py2.py3-none-any.whl.metadata (8.9 kB)\n",
      "Collecting altair<6,>=4.0 (from streamlit)\n",
      "  Obtaining dependency information for altair<6,>=4.0 from https://files.pythonhosted.org/packages/aa/f3/0b6ced594e51cc95d8c1fc1640d3623770d01e4969d29c0bd09945fafefa/altair-5.5.0-py3-none-any.whl.metadata\n",
      "  Downloading altair-5.5.0-py3-none-any.whl.metadata (11 kB)\n",
      "Collecting blinker<2,>=1.0.0 (from streamlit)\n",
      "  Obtaining dependency information for blinker<2,>=1.0.0 from https://files.pythonhosted.org/packages/10/cb/f2ad4230dc2eb1a74edf38f1a38b9b52277f75bef262d8908e60d957e13c/blinker-1.9.0-py3-none-any.whl.metadata\n",
      "  Downloading blinker-1.9.0-py3-none-any.whl.metadata (1.6 kB)\n",
      "Requirement already satisfied: cachetools<6,>=4.0 in c:\\users\\yjroh\\anaconda3\\lib\\site-packages (from streamlit) (5.3.2)\n",
      "Requirement already satisfied: click<9,>=7.0 in c:\\users\\yjroh\\anaconda3\\lib\\site-packages (from streamlit) (8.0.4)\n",
      "Requirement already satisfied: numpy<3,>=1.23 in c:\\users\\yjroh\\anaconda3\\lib\\site-packages (from streamlit) (1.24.3)\n",
      "Requirement already satisfied: packaging<25,>=20 in c:\\users\\yjroh\\anaconda3\\lib\\site-packages (from streamlit) (24.2)\n",
      "Requirement already satisfied: pandas<3,>=1.4.0 in c:\\users\\yjroh\\anaconda3\\lib\\site-packages (from streamlit) (1.5.3)\n",
      "Requirement already satisfied: pillow<12,>=7.1.0 in c:\\users\\yjroh\\anaconda3\\lib\\site-packages (from streamlit) (9.4.0)\n",
      "Requirement already satisfied: protobuf<6,>=3.20 in c:\\users\\yjroh\\anaconda3\\lib\\site-packages (from streamlit) (3.20.3)\n",
      "Requirement already satisfied: pyarrow>=7.0 in c:\\users\\yjroh\\anaconda3\\lib\\site-packages (from streamlit) (11.0.0)\n",
      "Requirement already satisfied: requests<3,>=2.27 in c:\\users\\yjroh\\anaconda3\\lib\\site-packages (from streamlit) (2.31.0)\n",
      "Collecting rich<14,>=10.14.0 (from streamlit)\n",
      "  Obtaining dependency information for rich<14,>=10.14.0 from https://files.pythonhosted.org/packages/19/71/39c7c0d87f8d4e6c020a393182060eaefeeae6c01dab6a84ec346f2567df/rich-13.9.4-py3-none-any.whl.metadata\n",
      "  Downloading rich-13.9.4-py3-none-any.whl.metadata (18 kB)\n",
      "Requirement already satisfied: tenacity<10,>=8.1.0 in c:\\users\\yjroh\\anaconda3\\lib\\site-packages (from streamlit) (8.2.2)\n",
      "Requirement already satisfied: toml<2,>=0.10.1 in c:\\users\\yjroh\\anaconda3\\lib\\site-packages (from streamlit) (0.10.2)\n",
      "Requirement already satisfied: typing-extensions<5,>=4.4.0 in c:\\users\\yjroh\\anaconda3\\lib\\site-packages (from streamlit) (4.12.2)\n",
      "Requirement already satisfied: watchdog<7,>=2.1.5 in c:\\users\\yjroh\\anaconda3\\lib\\site-packages (from streamlit) (2.1.6)\n",
      "Collecting gitpython!=3.1.19,<4,>=3.0.7 (from streamlit)\n",
      "  Obtaining dependency information for gitpython!=3.1.19,<4,>=3.0.7 from https://files.pythonhosted.org/packages/1d/9a/4114a9057db2f1462d5c8f8390ab7383925fe1ac012eaa42402ad65c2963/GitPython-3.1.44-py3-none-any.whl.metadata\n",
      "  Downloading GitPython-3.1.44-py3-none-any.whl.metadata (13 kB)\n",
      "Collecting pydeck<1,>=0.8.0b4 (from streamlit)\n",
      "  Obtaining dependency information for pydeck<1,>=0.8.0b4 from https://files.pythonhosted.org/packages/ab/4c/b888e6cf58bd9db9c93f40d1c6be8283ff49d88919231afe93a6bcf61626/pydeck-0.9.1-py2.py3-none-any.whl.metadata\n",
      "  Downloading pydeck-0.9.1-py2.py3-none-any.whl.metadata (4.1 kB)\n",
      "Requirement already satisfied: tornado<7,>=6.0.3 in c:\\users\\yjroh\\appdata\\roaming\\python\\python311\\site-packages (from streamlit) (6.4.2)\n",
      "Requirement already satisfied: jinja2 in c:\\users\\yjroh\\anaconda3\\lib\\site-packages (from altair<6,>=4.0->streamlit) (3.1.2)\n",
      "Requirement already satisfied: jsonschema>=3.0 in c:\\users\\yjroh\\anaconda3\\lib\\site-packages (from altair<6,>=4.0->streamlit) (4.17.3)\n",
      "Collecting narwhals>=1.14.2 (from altair<6,>=4.0->streamlit)\n",
      "  Obtaining dependency information for narwhals>=1.14.2 from https://files.pythonhosted.org/packages/7f/0c/66a308d86c5607a2538401602875c146ae967d69e0118f579be07386cc40/narwhals-1.25.2-py3-none-any.whl.metadata\n",
      "  Downloading narwhals-1.25.2-py3-none-any.whl.metadata (10 kB)\n",
      "Requirement already satisfied: colorama in c:\\users\\yjroh\\appdata\\roaming\\python\\python311\\site-packages (from click<9,>=7.0->streamlit) (0.4.6)\n",
      "Collecting gitdb<5,>=4.0.1 (from gitpython!=3.1.19,<4,>=3.0.7->streamlit)\n",
      "  Obtaining dependency information for gitdb<5,>=4.0.1 from https://files.pythonhosted.org/packages/a0/61/5c78b91c3143ed5c14207f463aecfc8f9dbb5092fb2869baf37c273b2705/gitdb-4.0.12-py3-none-any.whl.metadata\n",
      "  Downloading gitdb-4.0.12-py3-none-any.whl.metadata (1.2 kB)\n",
      "Requirement already satisfied: python-dateutil>=2.8.1 in c:\\users\\yjroh\\appdata\\roaming\\python\\python311\\site-packages (from pandas<3,>=1.4.0->streamlit) (2.9.0.post0)\n",
      "Requirement already satisfied: pytz>=2020.1 in c:\\users\\yjroh\\anaconda3\\lib\\site-packages (from pandas<3,>=1.4.0->streamlit) (2022.7)\n",
      "Requirement already satisfied: charset-normalizer<4,>=2 in c:\\users\\yjroh\\anaconda3\\lib\\site-packages (from requests<3,>=2.27->streamlit) (2.0.4)\n",
      "Requirement already satisfied: idna<4,>=2.5 in c:\\users\\yjroh\\anaconda3\\lib\\site-packages (from requests<3,>=2.27->streamlit) (3.4)\n",
      "Requirement already satisfied: urllib3<3,>=1.21.1 in c:\\users\\yjroh\\anaconda3\\lib\\site-packages (from requests<3,>=2.27->streamlit) (1.26.16)\n",
      "Requirement already satisfied: certifi>=2017.4.17 in c:\\users\\yjroh\\anaconda3\\lib\\site-packages (from requests<3,>=2.27->streamlit) (2023.7.22)\n",
      "Requirement already satisfied: markdown-it-py>=2.2.0 in c:\\users\\yjroh\\anaconda3\\lib\\site-packages (from rich<14,>=10.14.0->streamlit) (2.2.0)\n",
      "Requirement already satisfied: pygments<3.0.0,>=2.13.0 in c:\\users\\yjroh\\appdata\\roaming\\python\\python311\\site-packages (from rich<14,>=10.14.0->streamlit) (2.19.1)\n",
      "Collecting smmap<6,>=3.0.1 (from gitdb<5,>=4.0.1->gitpython!=3.1.19,<4,>=3.0.7->streamlit)\n",
      "  Obtaining dependency information for smmap<6,>=3.0.1 from https://files.pythonhosted.org/packages/04/be/d09147ad1ec7934636ad912901c5fd7667e1c858e19d355237db0d0cd5e4/smmap-5.0.2-py3-none-any.whl.metadata\n",
      "  Downloading smmap-5.0.2-py3-none-any.whl.metadata (4.3 kB)\n",
      "Requirement already satisfied: MarkupSafe>=2.0 in c:\\users\\yjroh\\anaconda3\\lib\\site-packages (from jinja2->altair<6,>=4.0->streamlit) (2.1.1)\n",
      "Requirement already satisfied: attrs>=17.4.0 in c:\\users\\yjroh\\anaconda3\\lib\\site-packages (from jsonschema>=3.0->altair<6,>=4.0->streamlit) (22.1.0)\n",
      "Requirement already satisfied: pyrsistent!=0.17.0,!=0.17.1,!=0.17.2,>=0.14.0 in c:\\users\\yjroh\\anaconda3\\lib\\site-packages (from jsonschema>=3.0->altair<6,>=4.0->streamlit) (0.18.0)\n",
      "Requirement already satisfied: mdurl~=0.1 in c:\\users\\yjroh\\anaconda3\\lib\\site-packages (from markdown-it-py>=2.2.0->rich<14,>=10.14.0->streamlit) (0.1.0)\n",
      "Requirement already satisfied: six>=1.5 in c:\\users\\yjroh\\appdata\\roaming\\python\\python311\\site-packages (from python-dateutil>=2.8.1->pandas<3,>=1.4.0->streamlit) (1.17.0)\n",
      "Downloading streamlit-1.42.0-py2.py3-none-any.whl (9.6 MB)\n",
      "   ---------------------------------------- 0.0/9.6 MB ? eta -:--:--\n",
      "    --------------------------------------- 0.1/9.6 MB 2.4 MB/s eta 0:00:04\n",
      "    --------------------------------------- 0.2/9.6 MB 2.4 MB/s eta 0:00:04\n",
      "   - -------------------------------------- 0.3/9.6 MB 2.2 MB/s eta 0:00:05\n",
      "   - -------------------------------------- 0.4/9.6 MB 2.1 MB/s eta 0:00:05\n",
      "   -- ------------------------------------- 0.5/9.6 MB 2.3 MB/s eta 0:00:04\n",
      "   -- ------------------------------------- 0.7/9.6 MB 2.4 MB/s eta 0:00:04\n",
      "   --- ------------------------------------ 0.8/9.6 MB 2.3 MB/s eta 0:00:04\n",
      "   --- ------------------------------------ 0.9/9.6 MB 2.3 MB/s eta 0:00:04\n",
      "   ---- ----------------------------------- 1.0/9.6 MB 2.4 MB/s eta 0:00:04\n",
      "   ---- ----------------------------------- 1.1/9.6 MB 2.3 MB/s eta 0:00:04\n",
      "   ----- ---------------------------------- 1.2/9.6 MB 2.3 MB/s eta 0:00:04\n",
      "   ----- ---------------------------------- 1.3/9.6 MB 2.3 MB/s eta 0:00:04\n",
      "   ----- ---------------------------------- 1.4/9.6 MB 2.3 MB/s eta 0:00:04\n",
      "   ----- ---------------------------------- 1.4/9.6 MB 2.2 MB/s eta 0:00:04\n",
      "   ------ --------------------------------- 1.5/9.6 MB 2.2 MB/s eta 0:00:04\n",
      "   ------ --------------------------------- 1.5/9.6 MB 2.0 MB/s eta 0:00:04\n",
      "   ------ --------------------------------- 1.6/9.6 MB 1.9 MB/s eta 0:00:05\n",
      "   ------ --------------------------------- 1.6/9.6 MB 1.8 MB/s eta 0:00:05\n",
      "   ------ --------------------------------- 1.6/9.6 MB 1.8 MB/s eta 0:00:05\n",
      "   ------ --------------------------------- 1.6/9.6 MB 1.8 MB/s eta 0:00:05\n",
      "   ------- -------------------------------- 1.7/9.6 MB 1.7 MB/s eta 0:00:05\n",
      "   ------- -------------------------------- 1.7/9.6 MB 1.6 MB/s eta 0:00:05\n",
      "   ------- -------------------------------- 1.7/9.6 MB 1.6 MB/s eta 0:00:05\n",
      "   ------- -------------------------------- 1.8/9.6 MB 1.6 MB/s eta 0:00:05\n",
      "   ------- -------------------------------- 1.8/9.6 MB 1.5 MB/s eta 0:00:06\n",
      "   ------- -------------------------------- 1.8/9.6 MB 1.5 MB/s eta 0:00:06\n",
      "   ------- -------------------------------- 1.9/9.6 MB 1.5 MB/s eta 0:00:06\n",
      "   -------- ------------------------------- 2.0/9.6 MB 1.5 MB/s eta 0:00:06\n",
      "   -------- ------------------------------- 2.0/9.6 MB 1.5 MB/s eta 0:00:06\n",
      "   -------- ------------------------------- 2.1/9.6 MB 1.5 MB/s eta 0:00:05\n",
      "   --------- ------------------------------ 2.2/9.6 MB 1.5 MB/s eta 0:00:05\n",
      "   --------- ------------------------------ 2.3/9.6 MB 1.6 MB/s eta 0:00:05\n",
      "   ---------- ----------------------------- 2.4/9.6 MB 1.6 MB/s eta 0:00:05\n",
      "   ---------- ----------------------------- 2.5/9.6 MB 1.6 MB/s eta 0:00:05\n",
      "   ---------- ----------------------------- 2.6/9.6 MB 1.6 MB/s eta 0:00:05\n",
      "   ----------- ---------------------------- 2.7/9.6 MB 1.6 MB/s eta 0:00:05\n",
      "   ----------- ---------------------------- 2.8/9.6 MB 1.6 MB/s eta 0:00:05\n",
      "   ----------- ---------------------------- 2.8/9.6 MB 1.6 MB/s eta 0:00:05\n",
      "   ------------ --------------------------- 2.9/9.6 MB 1.6 MB/s eta 0:00:05\n",
      "   ------------ --------------------------- 3.0/9.6 MB 1.6 MB/s eta 0:00:05\n",
      "   ------------ --------------------------- 3.0/9.6 MB 1.6 MB/s eta 0:00:05\n",
      "   ------------ --------------------------- 3.1/9.6 MB 1.6 MB/s eta 0:00:05\n",
      "   ------------- -------------------------- 3.2/9.6 MB 1.6 MB/s eta 0:00:05\n",
      "   ------------- -------------------------- 3.2/9.6 MB 1.6 MB/s eta 0:00:05\n",
      "   ------------- -------------------------- 3.3/9.6 MB 1.5 MB/s eta 0:00:05\n",
      "   ------------- -------------------------- 3.3/9.6 MB 1.6 MB/s eta 0:00:05\n",
      "   -------------- ------------------------- 3.4/9.6 MB 1.5 MB/s eta 0:00:04\n",
      "   --------------- ------------------------ 3.6/9.6 MB 1.6 MB/s eta 0:00:04\n",
      "   ---------------- ----------------------- 3.9/9.6 MB 1.7 MB/s eta 0:00:04\n",
      "   ----------------- ---------------------- 4.2/9.6 MB 1.8 MB/s eta 0:00:03\n",
      "   ------------------ --------------------- 4.5/9.6 MB 1.9 MB/s eta 0:00:03\n",
      "   -------------------- ------------------- 4.8/9.6 MB 2.0 MB/s eta 0:00:03\n",
      "   --------------------- ------------------ 5.1/9.6 MB 2.1 MB/s eta 0:00:03\n",
      "   ---------------------- ----------------- 5.5/9.6 MB 2.2 MB/s eta 0:00:02\n",
      "   ------------------------ --------------- 5.8/9.6 MB 2.2 MB/s eta 0:00:02\n",
      "   ------------------------- -------------- 6.0/9.6 MB 2.3 MB/s eta 0:00:02\n",
      "   -------------------------- ------------- 6.3/9.6 MB 2.4 MB/s eta 0:00:02\n",
      "   --------------------------- ------------ 6.6/9.6 MB 2.4 MB/s eta 0:00:02\n",
      "   ---------------------------- ----------- 6.9/9.6 MB 2.5 MB/s eta 0:00:02\n",
      "   ----------------------------- ---------- 7.1/9.6 MB 2.5 MB/s eta 0:00:01\n",
      "   ------------------------------ --------- 7.4/9.6 MB 2.6 MB/s eta 0:00:01\n",
      "   ------------------------------- -------- 7.6/9.6 MB 2.6 MB/s eta 0:00:01\n",
      "   -------------------------------- ------- 7.9/9.6 MB 2.7 MB/s eta 0:00:01\n",
      "   ---------------------------------- ----- 8.2/9.6 MB 2.7 MB/s eta 0:00:01\n",
      "   ----------------------------------- ---- 8.5/9.6 MB 2.8 MB/s eta 0:00:01\n",
      "   ------------------------------------ --- 8.8/9.6 MB 2.8 MB/s eta 0:00:01\n",
      "   -------------------------------------- - 9.2/9.6 MB 2.9 MB/s eta 0:00:01\n",
      "   ---------------------------------------  9.5/9.6 MB 3.0 MB/s eta 0:00:01\n",
      "   ---------------------------------------  9.6/9.6 MB 3.0 MB/s eta 0:00:01\n",
      "   ---------------------------------------- 9.6/9.6 MB 2.9 MB/s eta 0:00:00\n",
      "Downloading altair-5.5.0-py3-none-any.whl (731 kB)\n",
      "   ---------------------------------------- 0.0/731.2 kB ? eta -:--:--\n",
      "   ----------------- ---------------------- 317.4/731.2 kB 9.9 MB/s eta 0:00:01\n",
      "   --------------------------------- ------ 604.2/731.2 kB 7.6 MB/s eta 0:00:01\n",
      "   ---------------------------------------- 731.2/731.2 kB 5.8 MB/s eta 0:00:00\n",
      "Downloading blinker-1.9.0-py3-none-any.whl (8.5 kB)\n",
      "Downloading GitPython-3.1.44-py3-none-any.whl (207 kB)\n",
      "   ---------------------------------------- 0.0/207.6 kB ? eta -:--:--\n",
      "   ---------------------------------------- 207.6/207.6 kB 6.4 MB/s eta 0:00:00\n",
      "Downloading pydeck-0.9.1-py2.py3-none-any.whl (6.9 MB)\n",
      "   ---------------------------------------- 0.0/6.9 MB ? eta -:--:--\n",
      "   - -------------------------------------- 0.3/6.9 MB 9.6 MB/s eta 0:00:01\n",
      "   --- ------------------------------------ 0.6/6.9 MB 7.1 MB/s eta 0:00:01\n",
      "   ---- ----------------------------------- 0.9/6.9 MB 6.8 MB/s eta 0:00:01\n",
      "   ------ --------------------------------- 1.1/6.9 MB 6.5 MB/s eta 0:00:01\n",
      "   -------- ------------------------------- 1.4/6.9 MB 6.5 MB/s eta 0:00:01\n",
      "   --------- ------------------------------ 1.7/6.9 MB 6.4 MB/s eta 0:00:01\n",
      "   ----------- ---------------------------- 2.0/6.9 MB 6.3 MB/s eta 0:00:01\n",
      "   ------------- -------------------------- 2.3/6.9 MB 6.2 MB/s eta 0:00:01\n",
      "   -------------- ------------------------- 2.5/6.9 MB 6.3 MB/s eta 0:00:01\n",
      "   ---------------- ----------------------- 2.9/6.9 MB 6.3 MB/s eta 0:00:01\n",
      "   ----------------- ---------------------- 3.1/6.9 MB 6.2 MB/s eta 0:00:01\n",
      "   ------------------- -------------------- 3.4/6.9 MB 6.1 MB/s eta 0:00:01\n",
      "   --------------------- ------------------ 3.6/6.9 MB 6.1 MB/s eta 0:00:01\n",
      "   ---------------------- ----------------- 4.0/6.9 MB 6.2 MB/s eta 0:00:01\n",
      "   ------------------------ --------------- 4.2/6.9 MB 6.1 MB/s eta 0:00:01\n",
      "   -------------------------- ------------- 4.5/6.9 MB 6.2 MB/s eta 0:00:01\n",
      "   --------------------------- ------------ 4.8/6.9 MB 6.1 MB/s eta 0:00:01\n",
      "   ----------------------------- ---------- 5.1/6.9 MB 6.2 MB/s eta 0:00:01\n",
      "   ------------------------------- -------- 5.4/6.9 MB 6.2 MB/s eta 0:00:01\n",
      "   --------------------------------- ------ 5.7/6.9 MB 6.2 MB/s eta 0:00:01\n",
      "   ---------------------------------- ----- 6.0/6.9 MB 6.2 MB/s eta 0:00:01\n",
      "   ----------------------------------- ---- 6.2/6.9 MB 6.1 MB/s eta 0:00:01\n",
      "   ------------------------------------- -- 6.5/6.9 MB 6.1 MB/s eta 0:00:01\n",
      "   -------------------------------------- - 6.7/6.9 MB 6.0 MB/s eta 0:00:01\n",
      "   ---------------------------------------  6.9/6.9 MB 6.0 MB/s eta 0:00:01\n",
      "   ---------------------------------------- 6.9/6.9 MB 5.8 MB/s eta 0:00:00\n",
      "Downloading rich-13.9.4-py3-none-any.whl (242 kB)\n",
      "   ---------------------------------------- 0.0/242.4 kB ? eta -:--:--\n",
      "   -------------------------------------- - 235.5/242.4 kB 7.3 MB/s eta 0:00:01\n",
      "   ---------------------------------------- 242.4/242.4 kB 4.9 MB/s eta 0:00:00\n",
      "Downloading gitdb-4.0.12-py3-none-any.whl (62 kB)\n",
      "   ---------------------------------------- 0.0/62.8 kB ? eta -:--:--\n",
      "   ---------------------------------------- 62.8/62.8 kB 3.3 MB/s eta 0:00:00\n",
      "Downloading narwhals-1.25.2-py3-none-any.whl (305 kB)\n",
      "   ---------------------------------------- 0.0/305.5 kB ? eta -:--:--\n",
      "   ------------------------------ --------- 235.5/305.5 kB 4.8 MB/s eta 0:00:01\n",
      "   ---------------------------------------- 305.5/305.5 kB 3.8 MB/s eta 0:00:00\n",
      "Downloading smmap-5.0.2-py3-none-any.whl (24 kB)\n",
      "Installing collected packages: smmap, narwhals, blinker, rich, pydeck, gitdb, altair, gitpython, streamlit\n",
      "Successfully installed altair-5.5.0 blinker-1.9.0 gitdb-4.0.12 gitpython-3.1.44 narwhals-1.25.2 pydeck-0.9.1 rich-13.9.4 smmap-5.0.2 streamlit-1.42.0\n"
     ]
    },
    {
     "name": "stderr",
     "output_type": "stream",
     "text": [
      "DEPRECATION: pytorch-lightning 1.6.1 has a non-standard dependency specifier torch>=1.8.*. pip 23.3 will enforce this behaviour change. A possible replacement is to upgrade to a newer version of pytorch-lightning or contact the author to suggest that they release a version with a conforming dependency specifiers. Discussion can be found at https://github.com/pypa/pip/issues/12063\n"
     ]
    }
   ],
   "source": [
    "# !pip install streamlit"
   ]
  }
 ],
 "metadata": {
  "kernelspec": {
   "display_name": "base",
   "language": "python",
   "name": "python3"
  },
  "language_info": {
   "codemirror_mode": {
    "name": "ipython",
    "version": 3
   },
   "file_extension": ".py",
   "mimetype": "text/x-python",
   "name": "python",
   "nbconvert_exporter": "python",
   "pygments_lexer": "ipython3",
   "version": "3.11.4"
  }
 },
 "nbformat": 4,
 "nbformat_minor": 2
}
