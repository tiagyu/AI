{
 "cells": [
  {
   "cell_type": "markdown",
   "metadata": {},
   "source": [
    "# 문서 분류 실습"
   ]
  },
  {
   "cell_type": "markdown",
   "metadata": {},
   "source": [
    "## 각종 설정"
   ]
  },
  {
   "cell_type": "markdown",
   "metadata": {},
   "source": [
    "### 4-1 TPU 관련 패키지 설치"
   ]
  },
  {
   "cell_type": "code",
   "execution_count": 2,
   "metadata": {},
   "outputs": [
    {
     "name": "stderr",
     "output_type": "stream",
     "text": [
      "ERROR: torch_xla-1.9-cp37-cp37m-linux_x86_64.whl is not a supported wheel on this platform.\n"
     ]
    }
   ],
   "source": [
    "!pip install cloud-tpu-client==0.10 https://storage.googleapis.com/tpu-pytorch/wheels/torch_xla-1.9-cp37-cp37m-linux_x86_64.whl"
   ]
  },
  {
   "cell_type": "markdown",
   "metadata": {},
   "source": [
    "### 4-2 의존성 패키지 설치"
   ]
  },
  {
   "cell_type": "code",
   "execution_count": 1,
   "metadata": {},
   "outputs": [
    {
     "name": "stdout",
     "output_type": "stream",
     "text": [
      "Collecting ratsnlp\n",
      "  Obtaining dependency information for ratsnlp from https://files.pythonhosted.org/packages/3b/5b/2b8f2267b0f45bcf3acaee0f170dea7d7f807925d8d456149295d432c452/ratsnlp-1.0.53-py3-none-any.whl.metadata\n",
      "  Downloading ratsnlp-1.0.53-py3-none-any.whl.metadata (741 bytes)\n",
      "Collecting pytorch-lightning==1.6.1 (from ratsnlp)\n",
      "  Obtaining dependency information for pytorch-lightning==1.6.1 from https://files.pythonhosted.org/packages/77/5f/7f0b36c036334cb416230a7909b54c9a128a38623d2e18e87170e2055cd9/pytorch_lightning-1.6.1-py3-none-any.whl.metadata\n",
      "  Downloading pytorch_lightning-1.6.1-py3-none-any.whl.metadata (33 kB)\n",
      "Collecting transformers==4.28.1 (from ratsnlp)\n",
      "  Obtaining dependency information for transformers==4.28.1 from https://files.pythonhosted.org/packages/d8/a7/a6ff727fd5d96d6625f4658944a2ae230f0c75743a9a117fbda013b03d3d/transformers-4.28.1-py3-none-any.whl.metadata\n",
      "  Downloading transformers-4.28.1-py3-none-any.whl.metadata (109 kB)\n",
      "     ---------------------------------------- 0.0/110.0 kB ? eta -:--:--\n",
      "     ----------------------------- --------- 81.9/110.0 kB 2.3 MB/s eta 0:00:01\n",
      "     -------------------------------------- 110.0/110.0 kB 1.6 MB/s eta 0:00:00\n",
      "Collecting Korpora>=0.2.0 (from ratsnlp)\n",
      "  Obtaining dependency information for Korpora>=0.2.0 from https://files.pythonhosted.org/packages/1a/b1/5e563e23f1f705574bbeb55555e0cb95c9813e9396d654cd42709418ab66/Korpora-0.2.0-py3-none-any.whl.metadata\n",
      "  Downloading Korpora-0.2.0-py3-none-any.whl.metadata (26 kB)\n",
      "Requirement already satisfied: flask>=1.1.4 in c:\\users\\yjroh\\anaconda3\\lib\\site-packages (from ratsnlp) (2.2.2)\n",
      "Collecting flask-ngrok>=0.0.25 (from ratsnlp)\n",
      "  Obtaining dependency information for flask-ngrok>=0.0.25 from https://files.pythonhosted.org/packages/af/6c/f54cb686ad1129e27d125d182f90f52b32f284e6c8df58c1bae54fa1adbc/flask_ngrok-0.0.25-py3-none-any.whl.metadata\n",
      "  Downloading flask_ngrok-0.0.25-py3-none-any.whl.metadata (1.8 kB)\n",
      "Collecting flask-cors>=3.0.10 (from ratsnlp)\n",
      "  Obtaining dependency information for flask-cors>=3.0.10 from https://files.pythonhosted.org/packages/56/07/1afa0514c876282bebc1c9aee83c6bb98fe6415cf57b88d9b06e7e29bf9c/Flask_Cors-5.0.0-py2.py3-none-any.whl.metadata\n",
      "  Downloading Flask_Cors-5.0.0-py2.py3-none-any.whl.metadata (5.5 kB)\n",
      "Requirement already satisfied: numpy>=1.17.2 in c:\\users\\yjroh\\anaconda3\\lib\\site-packages (from pytorch-lightning==1.6.1->ratsnlp) (1.24.3)\n",
      "Requirement already satisfied: torch>=1.8.* in c:\\users\\yjroh\\anaconda3\\lib\\site-packages (from pytorch-lightning==1.6.1->ratsnlp) (2.4.1)\n",
      "Requirement already satisfied: tqdm>=4.41.0 in c:\\users\\yjroh\\anaconda3\\lib\\site-packages (from pytorch-lightning==1.6.1->ratsnlp) (4.66.5)\n",
      "Requirement already satisfied: PyYAML>=5.4 in c:\\users\\yjroh\\anaconda3\\lib\\site-packages (from pytorch-lightning==1.6.1->ratsnlp) (6.0)\n",
      "Requirement already satisfied: fsspec[http]!=2021.06.0,>=2021.05.0 in c:\\users\\yjroh\\anaconda3\\lib\\site-packages (from pytorch-lightning==1.6.1->ratsnlp) (2023.10.0)\n",
      "Requirement already satisfied: tensorboard>=2.2.0 in c:\\users\\yjroh\\anaconda3\\lib\\site-packages (from pytorch-lightning==1.6.1->ratsnlp) (2.15.1)\n",
      "Collecting torchmetrics>=0.4.1 (from pytorch-lightning==1.6.1->ratsnlp)\n",
      "  Obtaining dependency information for torchmetrics>=0.4.1 from https://files.pythonhosted.org/packages/46/1a/9728a502f377ab8cff1fd15c625aa2919a183fa113ebcefa2cd38edff28b/torchmetrics-1.6.0-py3-none-any.whl.metadata\n",
      "  Downloading torchmetrics-1.6.0-py3-none-any.whl.metadata (20 kB)\n",
      "Collecting pyDeprecate<0.4.0,>=0.3.1 (from pytorch-lightning==1.6.1->ratsnlp)\n",
      "  Obtaining dependency information for pyDeprecate<0.4.0,>=0.3.1 from https://files.pythonhosted.org/packages/40/9c/173f3cf770e66f3c9592318806aebb8617ba405d6d4c09493dabea75985c/pyDeprecate-0.3.2-py3-none-any.whl.metadata\n",
      "  Downloading pyDeprecate-0.3.2-py3-none-any.whl.metadata (10 kB)\n",
      "Requirement already satisfied: packaging>=17.0 in c:\\users\\yjroh\\anaconda3\\lib\\site-packages (from pytorch-lightning==1.6.1->ratsnlp) (23.0)\n",
      "Requirement already satisfied: typing-extensions>=4.0.0 in c:\\users\\yjroh\\anaconda3\\lib\\site-packages (from pytorch-lightning==1.6.1->ratsnlp) (4.12.2)\n",
      "Requirement already satisfied: filelock in c:\\users\\yjroh\\anaconda3\\lib\\site-packages (from transformers==4.28.1->ratsnlp) (3.9.0)\n",
      "Requirement already satisfied: huggingface-hub<1.0,>=0.11.0 in c:\\users\\yjroh\\anaconda3\\lib\\site-packages (from transformers==4.28.1->ratsnlp) (0.25.1)\n",
      "Requirement already satisfied: regex!=2019.12.17 in c:\\users\\yjroh\\anaconda3\\lib\\site-packages (from transformers==4.28.1->ratsnlp) (2022.7.9)\n",
      "Requirement already satisfied: requests in c:\\users\\yjroh\\anaconda3\\lib\\site-packages (from transformers==4.28.1->ratsnlp) (2.31.0)\n",
      "Collecting tokenizers!=0.11.3,<0.14,>=0.11.1 (from transformers==4.28.1->ratsnlp)\n",
      "  Obtaining dependency information for tokenizers!=0.11.3,<0.14,>=0.11.1 from https://files.pythonhosted.org/packages/62/41/93d3135ec30f596a71490ce11a73572190fe80e85a2aea18f116a520cc41/tokenizers-0.13.3-cp311-cp311-win_amd64.whl.metadata\n",
      "  Downloading tokenizers-0.13.3-cp311-cp311-win_amd64.whl.metadata (6.9 kB)\n",
      "Requirement already satisfied: Werkzeug>=2.2.2 in c:\\users\\yjroh\\anaconda3\\lib\\site-packages (from flask>=1.1.4->ratsnlp) (2.2.3)\n",
      "Requirement already satisfied: Jinja2>=3.0 in c:\\users\\yjroh\\anaconda3\\lib\\site-packages (from flask>=1.1.4->ratsnlp) (3.1.2)\n",
      "Requirement already satisfied: itsdangerous>=2.0 in c:\\users\\yjroh\\anaconda3\\lib\\site-packages (from flask>=1.1.4->ratsnlp) (2.0.1)\n",
      "Requirement already satisfied: click>=8.0 in c:\\users\\yjroh\\anaconda3\\lib\\site-packages (from flask>=1.1.4->ratsnlp) (8.0.4)\n",
      "Collecting dataclasses>=0.6 (from Korpora>=0.2.0->ratsnlp)\n",
      "  Obtaining dependency information for dataclasses>=0.6 from https://files.pythonhosted.org/packages/26/2f/1095cdc2868052dd1e64520f7c0d5c8c550ad297e944e641dbf1ffbb9a5d/dataclasses-0.6-py3-none-any.whl.metadata\n",
      "  Downloading dataclasses-0.6-py3-none-any.whl.metadata (3.0 kB)\n",
      "Collecting xlrd>=1.2.0 (from Korpora>=0.2.0->ratsnlp)\n",
      "  Obtaining dependency information for xlrd>=1.2.0 from https://files.pythonhosted.org/packages/a6/0c/c2a72d51fe56e08a08acc85d13013558a2d793028ae7385448a6ccdfae64/xlrd-2.0.1-py2.py3-none-any.whl.metadata\n",
      "  Downloading xlrd-2.0.1-py2.py3-none-any.whl.metadata (3.4 kB)\n",
      "Requirement already satisfied: colorama in c:\\users\\yjroh\\anaconda3\\lib\\site-packages (from click>=8.0->flask>=1.1.4->ratsnlp) (0.4.6)\n",
      "Requirement already satisfied: aiohttp!=4.0.0a0,!=4.0.0a1 in c:\\users\\yjroh\\anaconda3\\lib\\site-packages (from fsspec[http]!=2021.06.0,>=2021.05.0->pytorch-lightning==1.6.1->ratsnlp) (3.8.3)\n",
      "Requirement already satisfied: MarkupSafe>=2.0 in c:\\users\\yjroh\\anaconda3\\lib\\site-packages (from Jinja2>=3.0->flask>=1.1.4->ratsnlp) (2.1.1)\n",
      "Requirement already satisfied: charset-normalizer<4,>=2 in c:\\users\\yjroh\\anaconda3\\lib\\site-packages (from requests->transformers==4.28.1->ratsnlp) (2.0.4)\n",
      "Requirement already satisfied: idna<4,>=2.5 in c:\\users\\yjroh\\anaconda3\\lib\\site-packages (from requests->transformers==4.28.1->ratsnlp) (3.4)\n",
      "Requirement already satisfied: urllib3<3,>=1.21.1 in c:\\users\\yjroh\\anaconda3\\lib\\site-packages (from requests->transformers==4.28.1->ratsnlp) (1.26.16)\n",
      "Requirement already satisfied: certifi>=2017.4.17 in c:\\users\\yjroh\\anaconda3\\lib\\site-packages (from requests->transformers==4.28.1->ratsnlp) (2023.7.22)\n",
      "Requirement already satisfied: absl-py>=0.4 in c:\\users\\yjroh\\anaconda3\\lib\\site-packages (from tensorboard>=2.2.0->pytorch-lightning==1.6.1->ratsnlp) (1.4.0)\n",
      "Requirement already satisfied: grpcio>=1.48.2 in c:\\users\\yjroh\\anaconda3\\lib\\site-packages (from tensorboard>=2.2.0->pytorch-lightning==1.6.1->ratsnlp) (1.59.3)\n",
      "Requirement already satisfied: google-auth<3,>=1.6.3 in c:\\users\\yjroh\\anaconda3\\lib\\site-packages (from tensorboard>=2.2.0->pytorch-lightning==1.6.1->ratsnlp) (2.23.4)\n",
      "Requirement already satisfied: google-auth-oauthlib<2,>=0.5 in c:\\users\\yjroh\\anaconda3\\lib\\site-packages (from tensorboard>=2.2.0->pytorch-lightning==1.6.1->ratsnlp) (1.1.0)\n",
      "Requirement already satisfied: markdown>=2.6.8 in c:\\users\\yjroh\\anaconda3\\lib\\site-packages (from tensorboard>=2.2.0->pytorch-lightning==1.6.1->ratsnlp) (3.4.1)\n",
      "Requirement already satisfied: protobuf<4.24,>=3.19.6 in c:\\users\\yjroh\\anaconda3\\lib\\site-packages (from tensorboard>=2.2.0->pytorch-lightning==1.6.1->ratsnlp) (3.20.3)\n",
      "Requirement already satisfied: setuptools>=41.0.0 in c:\\users\\yjroh\\anaconda3\\lib\\site-packages (from tensorboard>=2.2.0->pytorch-lightning==1.6.1->ratsnlp) (68.0.0)\n",
      "Requirement already satisfied: six>1.9 in c:\\users\\yjroh\\anaconda3\\lib\\site-packages (from tensorboard>=2.2.0->pytorch-lightning==1.6.1->ratsnlp) (1.16.0)\n",
      "Requirement already satisfied: tensorboard-data-server<0.8.0,>=0.7.0 in c:\\users\\yjroh\\anaconda3\\lib\\site-packages (from tensorboard>=2.2.0->pytorch-lightning==1.6.1->ratsnlp) (0.7.2)\n",
      "Requirement already satisfied: sympy in c:\\users\\yjroh\\anaconda3\\lib\\site-packages (from torch>=1.8.*->pytorch-lightning==1.6.1->ratsnlp) (1.11.1)\n",
      "Requirement already satisfied: networkx in c:\\users\\yjroh\\anaconda3\\lib\\site-packages (from torch>=1.8.*->pytorch-lightning==1.6.1->ratsnlp) (3.1)\n",
      "Collecting lightning-utilities>=0.8.0 (from torchmetrics>=0.4.1->pytorch-lightning==1.6.1->ratsnlp)\n",
      "  Obtaining dependency information for lightning-utilities>=0.8.0 from https://files.pythonhosted.org/packages/85/f3/1305321a12c984405e26fc64b5d521569e9872fb811f4aace8e168099160/lightning_utilities-0.11.9-py3-none-any.whl.metadata\n",
      "  Downloading lightning_utilities-0.11.9-py3-none-any.whl.metadata (5.2 kB)\n",
      "Requirement already satisfied: attrs>=17.3.0 in c:\\users\\yjroh\\anaconda3\\lib\\site-packages (from aiohttp!=4.0.0a0,!=4.0.0a1->fsspec[http]!=2021.06.0,>=2021.05.0->pytorch-lightning==1.6.1->ratsnlp) (22.1.0)\n",
      "Requirement already satisfied: multidict<7.0,>=4.5 in c:\\users\\yjroh\\anaconda3\\lib\\site-packages (from aiohttp!=4.0.0a0,!=4.0.0a1->fsspec[http]!=2021.06.0,>=2021.05.0->pytorch-lightning==1.6.1->ratsnlp) (6.0.2)\n",
      "Requirement already satisfied: async-timeout<5.0,>=4.0.0a3 in c:\\users\\yjroh\\anaconda3\\lib\\site-packages (from aiohttp!=4.0.0a0,!=4.0.0a1->fsspec[http]!=2021.06.0,>=2021.05.0->pytorch-lightning==1.6.1->ratsnlp) (4.0.2)\n",
      "Requirement already satisfied: yarl<2.0,>=1.0 in c:\\users\\yjroh\\anaconda3\\lib\\site-packages (from aiohttp!=4.0.0a0,!=4.0.0a1->fsspec[http]!=2021.06.0,>=2021.05.0->pytorch-lightning==1.6.1->ratsnlp) (1.8.1)\n",
      "Requirement already satisfied: frozenlist>=1.1.1 in c:\\users\\yjroh\\anaconda3\\lib\\site-packages (from aiohttp!=4.0.0a0,!=4.0.0a1->fsspec[http]!=2021.06.0,>=2021.05.0->pytorch-lightning==1.6.1->ratsnlp) (1.3.3)\n",
      "Requirement already satisfied: aiosignal>=1.1.2 in c:\\users\\yjroh\\anaconda3\\lib\\site-packages (from aiohttp!=4.0.0a0,!=4.0.0a1->fsspec[http]!=2021.06.0,>=2021.05.0->pytorch-lightning==1.6.1->ratsnlp) (1.2.0)\n",
      "Requirement already satisfied: cachetools<6.0,>=2.0.0 in c:\\users\\yjroh\\anaconda3\\lib\\site-packages (from google-auth<3,>=1.6.3->tensorboard>=2.2.0->pytorch-lightning==1.6.1->ratsnlp) (5.3.2)\n",
      "Requirement already satisfied: pyasn1-modules>=0.2.1 in c:\\users\\yjroh\\anaconda3\\lib\\site-packages (from google-auth<3,>=1.6.3->tensorboard>=2.2.0->pytorch-lightning==1.6.1->ratsnlp) (0.2.8)\n",
      "Requirement already satisfied: rsa<5,>=3.1.4 in c:\\users\\yjroh\\anaconda3\\lib\\site-packages (from google-auth<3,>=1.6.3->tensorboard>=2.2.0->pytorch-lightning==1.6.1->ratsnlp) (4.9)\n",
      "Requirement already satisfied: requests-oauthlib>=0.7.0 in c:\\users\\yjroh\\anaconda3\\lib\\site-packages (from google-auth-oauthlib<2,>=0.5->tensorboard>=2.2.0->pytorch-lightning==1.6.1->ratsnlp) (1.3.1)\n",
      "Requirement already satisfied: mpmath>=0.19 in c:\\users\\yjroh\\anaconda3\\lib\\site-packages (from sympy->torch>=1.8.*->pytorch-lightning==1.6.1->ratsnlp) (1.3.0)\n",
      "Requirement already satisfied: pyasn1<0.5.0,>=0.4.6 in c:\\users\\yjroh\\anaconda3\\lib\\site-packages (from pyasn1-modules>=0.2.1->google-auth<3,>=1.6.3->tensorboard>=2.2.0->pytorch-lightning==1.6.1->ratsnlp) (0.4.8)\n",
      "Requirement already satisfied: oauthlib>=3.0.0 in c:\\users\\yjroh\\anaconda3\\lib\\site-packages (from requests-oauthlib>=0.7.0->google-auth-oauthlib<2,>=0.5->tensorboard>=2.2.0->pytorch-lightning==1.6.1->ratsnlp) (3.2.2)\n",
      "Downloading ratsnlp-1.0.53-py3-none-any.whl (42 kB)\n",
      "   ---------------------------------------- 0.0/42.2 kB ? eta -:--:--\n",
      "   ---------------------------------------- 42.2/42.2 kB 2.0 MB/s eta 0:00:00\n",
      "Downloading pytorch_lightning-1.6.1-py3-none-any.whl (582 kB)\n",
      "   ---------------------------------------- 0.0/582.5 kB ? eta -:--:--\n",
      "   ----------- ---------------------------- 163.8/582.5 kB 2.4 MB/s eta 0:00:01\n",
      "   -------------------- ------------------- 297.0/582.5 kB 2.6 MB/s eta 0:00:01\n",
      "   ----------------------------- ---------- 430.1/582.5 kB 3.0 MB/s eta 0:00:01\n",
      "   ---------------------------------------  573.4/582.5 kB 3.0 MB/s eta 0:00:01\n",
      "   ---------------------------------------- 582.5/582.5 kB 2.8 MB/s eta 0:00:00\n",
      "Downloading transformers-4.28.1-py3-none-any.whl (7.0 MB)\n",
      "   ---------------------------------------- 0.0/7.0 MB ? eta -:--:--\n",
      "   - -------------------------------------- 0.2/7.0 MB 5.3 MB/s eta 0:00:02\n",
      "   - -------------------------------------- 0.2/7.0 MB 2.4 MB/s eta 0:00:03\n",
      "   - -------------------------------------- 0.2/7.0 MB 2.5 MB/s eta 0:00:03\n",
      "   -- ------------------------------------- 0.5/7.0 MB 2.7 MB/s eta 0:00:03\n",
      "   --- ------------------------------------ 0.6/7.0 MB 2.8 MB/s eta 0:00:03\n",
      "   --- ------------------------------------ 0.7/7.0 MB 2.6 MB/s eta 0:00:03\n",
      "   ----- ---------------------------------- 0.9/7.0 MB 2.9 MB/s eta 0:00:03\n",
      "   ----- ---------------------------------- 1.0/7.0 MB 2.8 MB/s eta 0:00:03\n",
      "   ------- -------------------------------- 1.2/7.0 MB 3.0 MB/s eta 0:00:02\n",
      "   -------- ------------------------------- 1.5/7.0 MB 3.3 MB/s eta 0:00:02\n",
      "   --------- ------------------------------ 1.7/7.0 MB 3.4 MB/s eta 0:00:02\n",
      "   ---------- ----------------------------- 1.9/7.0 MB 3.5 MB/s eta 0:00:02\n",
      "   ----------- ---------------------------- 2.1/7.0 MB 3.5 MB/s eta 0:00:02\n",
      "   ------------ --------------------------- 2.2/7.0 MB 3.5 MB/s eta 0:00:02\n",
      "   -------------- ------------------------- 2.5/7.0 MB 3.6 MB/s eta 0:00:02\n",
      "   -------------- ------------------------- 2.6/7.0 MB 3.6 MB/s eta 0:00:02\n",
      "   --------------- ------------------------ 2.7/7.0 MB 3.6 MB/s eta 0:00:02\n",
      "   --------------- ------------------------ 2.7/7.0 MB 3.3 MB/s eta 0:00:02\n",
      "   ---------------- ----------------------- 2.8/7.0 MB 3.3 MB/s eta 0:00:02\n",
      "   ----------------- ---------------------- 3.0/7.0 MB 3.3 MB/s eta 0:00:02\n",
      "   ------------------ --------------------- 3.3/7.0 MB 3.4 MB/s eta 0:00:02\n",
      "   -------------------- ------------------- 3.5/7.0 MB 3.5 MB/s eta 0:00:01\n",
      "   --------------------- ------------------ 3.7/7.0 MB 3.6 MB/s eta 0:00:01\n",
      "   ---------------------- ----------------- 3.9/7.0 MB 3.6 MB/s eta 0:00:01\n",
      "   ----------------------- ---------------- 4.1/7.0 MB 3.6 MB/s eta 0:00:01\n",
      "   ----------------------- ---------------- 4.1/7.0 MB 3.4 MB/s eta 0:00:01\n",
      "   ------------------------ --------------- 4.2/7.0 MB 3.4 MB/s eta 0:00:01\n",
      "   ------------------------- -------------- 4.4/7.0 MB 3.5 MB/s eta 0:00:01\n",
      "   -------------------------- ------------- 4.6/7.0 MB 3.5 MB/s eta 0:00:01\n",
      "   --------------------------- ------------ 4.8/7.0 MB 3.5 MB/s eta 0:00:01\n",
      "   ----------------------------- ---------- 5.1/7.0 MB 3.6 MB/s eta 0:00:01\n",
      "   ------------------------------ --------- 5.3/7.0 MB 3.6 MB/s eta 0:00:01\n",
      "   ------------------------------- -------- 5.5/7.0 MB 3.7 MB/s eta 0:00:01\n",
      "   --------------------------------- ------ 5.8/7.0 MB 3.7 MB/s eta 0:00:01\n",
      "   --------------------------------- ------ 5.9/7.0 MB 3.7 MB/s eta 0:00:01\n",
      "   ----------------------------------- ---- 6.1/7.0 MB 3.7 MB/s eta 0:00:01\n",
      "   ------------------------------------ --- 6.3/7.0 MB 3.8 MB/s eta 0:00:01\n",
      "   ---------------------------------------  6.8/7.0 MB 3.9 MB/s eta 0:00:01\n",
      "   ---------------------------------------  6.9/7.0 MB 3.9 MB/s eta 0:00:01\n",
      "   ---------------------------------------- 7.0/7.0 MB 3.8 MB/s eta 0:00:00\n",
      "Downloading Flask_Cors-5.0.0-py2.py3-none-any.whl (14 kB)\n",
      "Downloading flask_ngrok-0.0.25-py3-none-any.whl (3.1 kB)\n",
      "Downloading Korpora-0.2.0-py3-none-any.whl (57 kB)\n",
      "   ---------------------------------------- 0.0/57.8 kB ? eta -:--:--\n",
      "   ---------------------------------------- 57.8/57.8 kB ? eta 0:00:00\n",
      "Downloading dataclasses-0.6-py3-none-any.whl (14 kB)\n",
      "Downloading pyDeprecate-0.3.2-py3-none-any.whl (10 kB)\n",
      "Downloading tokenizers-0.13.3-cp311-cp311-win_amd64.whl (3.5 MB)\n",
      "   ---------------------------------------- 0.0/3.5 MB ? eta -:--:--\n",
      "   -- ------------------------------------- 0.2/3.5 MB 5.0 MB/s eta 0:00:01\n",
      "   ----- ---------------------------------- 0.5/3.5 MB 4.7 MB/s eta 0:00:01\n",
      "   ------- -------------------------------- 0.7/3.5 MB 4.6 MB/s eta 0:00:01\n",
      "   ----------- ---------------------------- 1.0/3.5 MB 5.5 MB/s eta 0:00:01\n",
      "   ------------ --------------------------- 1.1/3.5 MB 5.1 MB/s eta 0:00:01\n",
      "   ----------------- ---------------------- 1.5/3.5 MB 5.5 MB/s eta 0:00:01\n",
      "   ------------------- -------------------- 1.7/3.5 MB 5.4 MB/s eta 0:00:01\n",
      "   ------------------------- -------------- 2.2/3.5 MB 6.1 MB/s eta 0:00:01\n",
      "   ---------------------------- ----------- 2.4/3.5 MB 6.0 MB/s eta 0:00:01\n",
      "   -------------------------------- ------- 2.8/3.5 MB 6.1 MB/s eta 0:00:01\n",
      "   ------------------------------------ --- 3.1/3.5 MB 6.2 MB/s eta 0:00:01\n",
      "   ---------------------------------------  3.4/3.5 MB 6.2 MB/s eta 0:00:01\n",
      "   ---------------------------------------- 3.5/3.5 MB 6.0 MB/s eta 0:00:00\n",
      "Downloading torchmetrics-1.6.0-py3-none-any.whl (926 kB)\n",
      "   ---------------------------------------- 0.0/926.4 kB ? eta -:--:--\n",
      "   ----------- ---------------------------- 276.5/926.4 kB 8.6 MB/s eta 0:00:01\n",
      "   ----------------------- ---------------- 542.7/926.4 kB 6.8 MB/s eta 0:00:01\n",
      "   ------------------------------ --------- 706.6/926.4 kB 5.6 MB/s eta 0:00:01\n",
      "   ----------------------------------- ---- 819.2/926.4 kB 4.7 MB/s eta 0:00:01\n",
      "   ---------------------------------------- 926.4/926.4 kB 4.5 MB/s eta 0:00:00\n",
      "Using cached xlrd-2.0.1-py2.py3-none-any.whl (96 kB)\n",
      "Downloading lightning_utilities-0.11.9-py3-none-any.whl (28 kB)\n",
      "Installing collected packages: tokenizers, dataclasses, xlrd, pyDeprecate, lightning-utilities, Korpora, transformers, torchmetrics, flask-ngrok, flask-cors, pytorch-lightning, ratsnlp\n",
      "  Attempting uninstall: tokenizers\n",
      "    Found existing installation: tokenizers 0.20.0\n",
      "    Uninstalling tokenizers-0.20.0:\n",
      "      Successfully uninstalled tokenizers-0.20.0\n",
      "  Attempting uninstall: transformers\n",
      "    Found existing installation: transformers 4.45.1\n",
      "    Uninstalling transformers-4.45.1:\n",
      "      Successfully uninstalled transformers-4.45.1\n",
      "Successfully installed Korpora-0.2.0 dataclasses-0.6 flask-cors-5.0.0 flask-ngrok-0.0.25 lightning-utilities-0.11.9 pyDeprecate-0.3.2 pytorch-lightning-1.6.1 ratsnlp-1.0.53 tokenizers-0.13.3 torchmetrics-1.6.0 transformers-4.28.1 xlrd-2.0.1\n"
     ]
    },
    {
     "name": "stderr",
     "output_type": "stream",
     "text": [
      "DEPRECATION: pytorch-lightning 1.6.1 has a non-standard dependency specifier torch>=1.8.*. pip 23.3 will enforce this behaviour change. A possible replacement is to upgrade to a newer version of pytorch-lightning or contact the author to suggest that they release a version with a conforming dependency specifiers. Discussion can be found at https://github.com/pypa/pip/issues/12063\n",
      "ERROR: pip's dependency resolver does not currently take into account all the packages that are installed. This behaviour is the source of the following dependency conflicts.\n",
      "sentence-transformers 3.1.1 requires transformers<5.0.0,>=4.38.0, but you have transformers 4.28.1 which is incompatible.\n"
     ]
    }
   ],
   "source": [
    "!pip install ratsnlp"
   ]
  },
  {
   "cell_type": "markdown",
   "metadata": {},
   "source": [
    "### 4-3 구글 드라이브 연동 (코랩 사용시)"
   ]
  },
  {
   "cell_type": "code",
   "execution_count": 4,
   "metadata": {},
   "outputs": [],
   "source": [
    "# from google.colab import drive\n",
    "# drive.mount('/gdrive', force_remount = True)"
   ]
  },
  {
   "cell_type": "markdown",
   "metadata": {},
   "source": [
    "### 4-4 모델 환경 설정"
   ]
  },
  {
   "cell_type": "code",
   "execution_count": 6,
   "metadata": {},
   "outputs": [],
   "source": [
    "import torch\n",
    "from ratsnlp.nlpbook.classification import ClassificationTrainArguments\n",
    "args = ClassificationTrainArguments(\n",
    "    pretrained_model_name=\"beomi/kcbert-base\",\n",
    "    downstream_corpus_name=\"nsmc\",\n",
    "    downstream_model_dir=\"/gdrive/My Drive/nlpbook/checkpoint-doccls\",\n",
    "    batch_size=32 if torch.cuda.is_available() else 4,\n",
    "    learning_rate=5e-5,\n",
    "    max_seq_length=128,\n",
    "    epochs=3,\n",
    "    tpu_cores=0 if torch.cuda.is_available() else 8,\n",
    "    seed=7,\n",
    ")"
   ]
  },
  {
   "cell_type": "markdown",
   "metadata": {},
   "source": [
    "- pretrain_model_name : 프리트레인 마친 언어 모델의 이름(단, 해당 모델은 허깅페이스 모델 허브에 등록되어있어야 함)\n",
    "- downstream_corpus_name : 다운스트림 데이터의 이름\n",
    "- downstream_corpus_root_dir : 다운스트림 데이터를 내려받을 위치, 입력하지 않으면 /root/Korpora에 저장된다.\n",
    "- downstream_model_dir : 파인 튜닝에\n",
    "- batch_size=32 if torch.cuda.is_available() else 4\n",
    "- learning_rate=5e-5\n",
    "- max_seq_length=128\n",
    "- epochs=3\n",
    "- tpu_cores=0 if torch.cuda.is_available() else 8\n",
    "- seed=7"
   ]
  }
 ],
 "metadata": {
  "kernelspec": {
   "display_name": "base",
   "language": "python",
   "name": "python3"
  },
  "language_info": {
   "codemirror_mode": {
    "name": "ipython",
    "version": 3
   },
   "file_extension": ".py",
   "mimetype": "text/x-python",
   "name": "python",
   "nbconvert_exporter": "python",
   "pygments_lexer": "ipython3",
   "version": "3.11.4"
  }
 },
 "nbformat": 4,
 "nbformat_minor": 2
}
