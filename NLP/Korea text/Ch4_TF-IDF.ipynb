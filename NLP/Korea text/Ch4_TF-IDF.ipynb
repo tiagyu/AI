{
 "cells": [
  {
   "cell_type": "markdown",
   "metadata": {},
   "source": [
    "# TF-IDF"
   ]
  },
  {
   "cell_type": "markdown",
   "metadata": {},
   "source": [
    "### TfidfVectorizer 주요 매개 변수\n",
    "\n",
    "- **norm**: 각 문서의 피처 벡터 정규화 방법\n",
    "    - `'l2'`: 벡터의 각 원소의 제곱의 합이 1이 되도록 만드는 것이 기본값\n",
    "    - `'l1'`: 벡터의 각 원소의 절댓값의 합이 1이 되도록 크기를 조절\n",
    "- **use_idf** = `True`\n",
    "    - TF-IDF를 사용해 피처를 만들 것인지 아니면 단어 빈도 자체를 사용할 것인지를 결정\n",
    "- **smooth_idf** = `False`\n",
    "    - `True`일 때는 피처를 만들 때 0으로 나오는 항목에 대해 작은 값을 더해서 피처를 만들고 `False`일 때는 더하지 않음\n",
    "- **sublinear_tf**=`False`\n",
    "    - `True`일 때는 로그 스케일링을 사용하고 `False`일 때는 단어 빈도를 그대로 사용\n",
    "    - 이상치가 데이터를 심하게 왜곡하는 경우 sublinear_tf=True로 두면 완화되는 효과를 얻을 수 있음\n",
    "- **max_df**: 특정 문서 비율 이상에서 나타나는 단어를 제외\n",
    "- **min_df**: 특정 문서 비율 이하에서 나타나는 단어를 제외\n"
   ]
  },
  {
   "cell_type": "code",
   "execution_count": 2,
   "metadata": {},
   "outputs": [],
   "source": [
    "import numpy as np\n",
    "import pandas as pd\n",
    "import matplotlib.pyplot as plt\n",
    "import seaborn as sns\n",
    "\n",
    "from sklearn.model_selection import train_test_split\n",
    "from sklearn.feature_extraction.text import TfidfVectorizer # TF-IDF\n",
    "from sklearn.svm import LinearSVC\n",
    "\n",
    "# 한글 폰트 설정\n",
    "import koreanize_matplotlib\n",
    "\n",
    "# 그래프에 retina display 적용\n",
    "%config InlineBackend.figure_format = 'retina'"
   ]
  },
  {
   "cell_type": "code",
   "execution_count": 3,
   "metadata": {},
   "outputs": [
    {
     "data": {
      "text/plain": [
       "['코로나 거리두기와 코로나 상생지원금 문의입니다.',\n",
       " '지하철 운행시간과 지하철 요금 문의입니다.',\n",
       " '지하철 승강장 문의입니다.',\n",
       " '택시 승강장 문의입니다.']"
      ]
     },
     "execution_count": 3,
     "metadata": {},
     "output_type": "execute_result"
    }
   ],
   "source": [
    "corpus = ['코로나 거리두기와 코로나 상생지원금 문의입니다.',\n",
    "          '지하철 운행시간과 지하철 요금 문의입니다.',\n",
    "          '지하철 승강장 문의입니다.',\n",
    "          '택시 승강장 문의입니다.']\n",
    "corpus"
   ]
  },
  {
   "cell_type": "code",
   "execution_count": 4,
   "metadata": {},
   "outputs": [
    {
     "data": {
      "text/plain": [
       "<4x9 sparse matrix of type '<class 'numpy.float64'>'\n",
       "\twith 14 stored elements in Compressed Sparse Row format>"
      ]
     },
     "execution_count": 4,
     "metadata": {},
     "output_type": "execute_result"
    }
   ],
   "source": [
    "tfidfvect = TfidfVectorizer()\n",
    "dtm = tfidfvect.fit_transform(corpus)\n",
    "dtm"
   ]
  },
  {
   "cell_type": "code",
   "execution_count": 5,
   "metadata": {},
   "outputs": [
    {
     "data": {
      "text/plain": [
       "array([[0.39928771, 0.20836489, 0.39928771, 0.        , 0.        ,\n",
       "        0.        , 0.        , 0.79857543, 0.        ],\n",
       "       [0.        , 0.23921859, 0.        , 0.        , 0.45841237,\n",
       "        0.45841237, 0.72283516, 0.        , 0.        ],\n",
       "       [0.        , 0.42389674, 0.        , 0.64043405, 0.        ,\n",
       "        0.        , 0.64043405, 0.        , 0.        ],\n",
       "       [0.        , 0.37919167, 0.        , 0.5728925 , 0.        ,\n",
       "        0.        , 0.        , 0.        , 0.72664149]])"
      ]
     },
     "execution_count": 5,
     "metadata": {},
     "output_type": "execute_result"
    }
   ],
   "source": [
    "# 문서에 토큰이 더 많이 나타날수록 가중치는 더 커진다.\n",
    "# 그러나 토큰이 문서에 많이 표시될수록 가중치가 감소한다.\n",
    "dtm.toarray()"
   ]
  },
  {
   "cell_type": "code",
   "execution_count": 6,
   "metadata": {},
   "outputs": [
    {
     "name": "stdout",
     "output_type": "stream",
     "text": [
      "단어 수 : 9\n",
      "['거리두기와' '문의입니다' '상생지원금' '승강장' '요금' '운행시간과' '지하철' '코로나' '택시']\n"
     ]
    },
    {
     "data": {
      "text/html": [
       "<style type=\"text/css\">\n",
       "#T_95f2c_row0_col0, #T_95f2c_row0_col2, #T_95f2c_row0_col7, #T_95f2c_row1_col4, #T_95f2c_row1_col5, #T_95f2c_row1_col6, #T_95f2c_row2_col1, #T_95f2c_row2_col3, #T_95f2c_row3_col8 {\n",
       "  background-color: #023858;\n",
       "  color: #f1f1f1;\n",
       "}\n",
       "#T_95f2c_row0_col1, #T_95f2c_row0_col3, #T_95f2c_row0_col4, #T_95f2c_row0_col5, #T_95f2c_row0_col6, #T_95f2c_row0_col8, #T_95f2c_row1_col0, #T_95f2c_row1_col2, #T_95f2c_row1_col3, #T_95f2c_row1_col7, #T_95f2c_row1_col8, #T_95f2c_row2_col0, #T_95f2c_row2_col2, #T_95f2c_row2_col4, #T_95f2c_row2_col5, #T_95f2c_row2_col7, #T_95f2c_row2_col8, #T_95f2c_row3_col0, #T_95f2c_row3_col2, #T_95f2c_row3_col4, #T_95f2c_row3_col5, #T_95f2c_row3_col6, #T_95f2c_row3_col7 {\n",
       "  background-color: #fff7fb;\n",
       "  color: #000000;\n",
       "}\n",
       "#T_95f2c_row1_col1 {\n",
       "  background-color: #e8e4f0;\n",
       "  color: #000000;\n",
       "}\n",
       "#T_95f2c_row2_col6 {\n",
       "  background-color: #045788;\n",
       "  color: #f1f1f1;\n",
       "}\n",
       "#T_95f2c_row3_col1 {\n",
       "  background-color: #0569a4;\n",
       "  color: #f1f1f1;\n",
       "}\n",
       "#T_95f2c_row3_col3 {\n",
       "  background-color: #045483;\n",
       "  color: #f1f1f1;\n",
       "}\n",
       "</style>\n",
       "<table id=\"T_95f2c\">\n",
       "  <thead>\n",
       "    <tr>\n",
       "      <th class=\"blank level0\" >&nbsp;</th>\n",
       "      <th id=\"T_95f2c_level0_col0\" class=\"col_heading level0 col0\" >거리두기와</th>\n",
       "      <th id=\"T_95f2c_level0_col1\" class=\"col_heading level0 col1\" >문의입니다</th>\n",
       "      <th id=\"T_95f2c_level0_col2\" class=\"col_heading level0 col2\" >상생지원금</th>\n",
       "      <th id=\"T_95f2c_level0_col3\" class=\"col_heading level0 col3\" >승강장</th>\n",
       "      <th id=\"T_95f2c_level0_col4\" class=\"col_heading level0 col4\" >요금</th>\n",
       "      <th id=\"T_95f2c_level0_col5\" class=\"col_heading level0 col5\" >운행시간과</th>\n",
       "      <th id=\"T_95f2c_level0_col6\" class=\"col_heading level0 col6\" >지하철</th>\n",
       "      <th id=\"T_95f2c_level0_col7\" class=\"col_heading level0 col7\" >코로나</th>\n",
       "      <th id=\"T_95f2c_level0_col8\" class=\"col_heading level0 col8\" >택시</th>\n",
       "    </tr>\n",
       "  </thead>\n",
       "  <tbody>\n",
       "    <tr>\n",
       "      <th id=\"T_95f2c_level0_row0\" class=\"row_heading level0 row0\" >0</th>\n",
       "      <td id=\"T_95f2c_row0_col0\" class=\"data row0 col0\" >0.399288</td>\n",
       "      <td id=\"T_95f2c_row0_col1\" class=\"data row0 col1\" >0.208365</td>\n",
       "      <td id=\"T_95f2c_row0_col2\" class=\"data row0 col2\" >0.399288</td>\n",
       "      <td id=\"T_95f2c_row0_col3\" class=\"data row0 col3\" >0.000000</td>\n",
       "      <td id=\"T_95f2c_row0_col4\" class=\"data row0 col4\" >0.000000</td>\n",
       "      <td id=\"T_95f2c_row0_col5\" class=\"data row0 col5\" >0.000000</td>\n",
       "      <td id=\"T_95f2c_row0_col6\" class=\"data row0 col6\" >0.000000</td>\n",
       "      <td id=\"T_95f2c_row0_col7\" class=\"data row0 col7\" >0.798575</td>\n",
       "      <td id=\"T_95f2c_row0_col8\" class=\"data row0 col8\" >0.000000</td>\n",
       "    </tr>\n",
       "    <tr>\n",
       "      <th id=\"T_95f2c_level0_row1\" class=\"row_heading level0 row1\" >1</th>\n",
       "      <td id=\"T_95f2c_row1_col0\" class=\"data row1 col0\" >0.000000</td>\n",
       "      <td id=\"T_95f2c_row1_col1\" class=\"data row1 col1\" >0.239219</td>\n",
       "      <td id=\"T_95f2c_row1_col2\" class=\"data row1 col2\" >0.000000</td>\n",
       "      <td id=\"T_95f2c_row1_col3\" class=\"data row1 col3\" >0.000000</td>\n",
       "      <td id=\"T_95f2c_row1_col4\" class=\"data row1 col4\" >0.458412</td>\n",
       "      <td id=\"T_95f2c_row1_col5\" class=\"data row1 col5\" >0.458412</td>\n",
       "      <td id=\"T_95f2c_row1_col6\" class=\"data row1 col6\" >0.722835</td>\n",
       "      <td id=\"T_95f2c_row1_col7\" class=\"data row1 col7\" >0.000000</td>\n",
       "      <td id=\"T_95f2c_row1_col8\" class=\"data row1 col8\" >0.000000</td>\n",
       "    </tr>\n",
       "    <tr>\n",
       "      <th id=\"T_95f2c_level0_row2\" class=\"row_heading level0 row2\" >2</th>\n",
       "      <td id=\"T_95f2c_row2_col0\" class=\"data row2 col0\" >0.000000</td>\n",
       "      <td id=\"T_95f2c_row2_col1\" class=\"data row2 col1\" >0.423897</td>\n",
       "      <td id=\"T_95f2c_row2_col2\" class=\"data row2 col2\" >0.000000</td>\n",
       "      <td id=\"T_95f2c_row2_col3\" class=\"data row2 col3\" >0.640434</td>\n",
       "      <td id=\"T_95f2c_row2_col4\" class=\"data row2 col4\" >0.000000</td>\n",
       "      <td id=\"T_95f2c_row2_col5\" class=\"data row2 col5\" >0.000000</td>\n",
       "      <td id=\"T_95f2c_row2_col6\" class=\"data row2 col6\" >0.640434</td>\n",
       "      <td id=\"T_95f2c_row2_col7\" class=\"data row2 col7\" >0.000000</td>\n",
       "      <td id=\"T_95f2c_row2_col8\" class=\"data row2 col8\" >0.000000</td>\n",
       "    </tr>\n",
       "    <tr>\n",
       "      <th id=\"T_95f2c_level0_row3\" class=\"row_heading level0 row3\" >3</th>\n",
       "      <td id=\"T_95f2c_row3_col0\" class=\"data row3 col0\" >0.000000</td>\n",
       "      <td id=\"T_95f2c_row3_col1\" class=\"data row3 col1\" >0.379192</td>\n",
       "      <td id=\"T_95f2c_row3_col2\" class=\"data row3 col2\" >0.000000</td>\n",
       "      <td id=\"T_95f2c_row3_col3\" class=\"data row3 col3\" >0.572892</td>\n",
       "      <td id=\"T_95f2c_row3_col4\" class=\"data row3 col4\" >0.000000</td>\n",
       "      <td id=\"T_95f2c_row3_col5\" class=\"data row3 col5\" >0.000000</td>\n",
       "      <td id=\"T_95f2c_row3_col6\" class=\"data row3 col6\" >0.000000</td>\n",
       "      <td id=\"T_95f2c_row3_col7\" class=\"data row3 col7\" >0.000000</td>\n",
       "      <td id=\"T_95f2c_row3_col8\" class=\"data row3 col8\" >0.726641</td>\n",
       "    </tr>\n",
       "  </tbody>\n",
       "</table>\n"
      ],
      "text/plain": [
       "<pandas.io.formats.style.Styler at 0x1c3e799d210>"
      ]
     },
     "metadata": {},
     "output_type": "display_data"
    }
   ],
   "source": [
    "# display_transform_dtm으로 변환 결과를 확인한다\n",
    "vocab = tfidfvect.get_feature_names_out()\n",
    "df_dtm = pd.DataFrame(dtm.toarray(), columns=vocab)\n",
    "print(\"단어 수 :\", len(vocab))\n",
    "print(vocab)\n",
    "display(df_dtm.style.background_gradient())"
   ]
  },
  {
   "cell_type": "markdown",
   "metadata": {},
   "source": [
    "첫 번째 문서는 '코로나 거리두기와 코로나 상생지원금 문의입니다' 이다. 여기에서 '코로나'라는 단어는 다른 문서에는 등장하지 않고 첫 번째 문서에만 등장하기 때문에 가중치가 높게 나온다. 반면에 '문의입니다'는 모든 문서에 등장하기 때문에 가중치가 낮게 나온다"
   ]
  }
 ],
 "metadata": {
  "kernelspec": {
   "display_name": "base",
   "language": "python",
   "name": "python3"
  },
  "language_info": {
   "codemirror_mode": {
    "name": "ipython",
    "version": 3
   },
   "file_extension": ".py",
   "mimetype": "text/x-python",
   "name": "python",
   "nbconvert_exporter": "python",
   "pygments_lexer": "ipython3",
   "version": "3.11.4"
  }
 },
 "nbformat": 4,
 "nbformat_minor": 2
}
