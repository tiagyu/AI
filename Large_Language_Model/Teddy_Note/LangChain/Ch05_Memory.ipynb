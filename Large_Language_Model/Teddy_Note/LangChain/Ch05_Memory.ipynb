{
 "cells": [
  {
   "cell_type": "markdown",
   "id": "cae927a1",
   "metadata": {},
   "source": [
    "# CH05 메모리(Memory)"
   ]
  },
  {
   "cell_type": "markdown",
   "id": "41c523a5",
   "metadata": {},
   "source": [
    "ConversationBufferMemory\n",
    "- 이 메모리는 메시지를 저장한 다음 변수에 메시지를 추출할 수 있게 해준다"
   ]
  },
  {
   "cell_type": "code",
   "execution_count": 1,
   "id": "69c6f87c",
   "metadata": {},
   "outputs": [],
   "source": [
    "from langchain.memory import ConversationBufferMemory"
   ]
  },
  {
   "cell_type": "code",
   "execution_count": 5,
   "id": "03d094dc",
   "metadata": {},
   "outputs": [],
   "source": [
    "memory = ConversationBufferMemory()\n",
    "memory.save_context(\n",
    "    inputs = {\n",
    "        \"human\" : \"안녕하세요 기계의 고장 원인을 알고 싶어요. 어디서 부터 시작해야 하나요?\"\n",
    "    },\n",
    "    outputs = {\n",
    "        \"ai\" : \"어떤 기계가 고장 났는지 먼저 알려주시겠어요?\"\n",
    "    }\n",
    ")"
   ]
  },
  {
   "cell_type": "markdown",
   "id": "c8475b91",
   "metadata": {},
   "source": [
    "memory의 `load_memory_variables({})` 함수는 메시지 히스토리를 반환한다"
   ]
  },
  {
   "cell_type": "code",
   "execution_count": 6,
   "id": "4ce947a9",
   "metadata": {},
   "outputs": [
    {
     "data": {
      "text/plain": [
       "{'history': 'Human: 안녕하세요 기계의 고장 원인을 알고 싶어요. 어디서 부터 시작해야 하나요?\\nAI: 어떤 기계가 고장 났는지 먼저 알려주시겠어요?'}"
      ]
     },
     "execution_count": 6,
     "metadata": {},
     "output_type": "execute_result"
    }
   ],
   "source": [
    "# 'history' 키에 저장된 대화 기록을 확인한다.\n",
    "memory.load_memory_variables({})"
   ]
  },
  {
   "cell_type": "markdown",
   "id": "d8eac031",
   "metadata": {},
   "source": [
    "`save_context(inputs, outputs)` 메서드를 사용하여 대화 기록을 저장할 수 있다\n",
    "- 이 메서드는 `inputs`과 `outputs` 두 개의 인자를 받는다.\n",
    "- `inputs`는 사용자의 입력을, `outputs`는 AI의 출력을 저장한다.\n",
    "- 이 메서드를 사용하면 대화 기록이 `history` 키에 저장된다.\n",
    "- 이후 `load_memory_variables` 메서드를 사용하여 저장된 대화 기록을 확인할 수 있다"
   ]
  }
 ],
 "metadata": {
  "kernelspec": {
   "display_name": "AI_env",
   "language": "python",
   "name": "python3"
  },
  "language_info": {
   "codemirror_mode": {
    "name": "ipython",
    "version": 3
   },
   "file_extension": ".py",
   "mimetype": "text/x-python",
   "name": "python",
   "nbconvert_exporter": "python",
   "pygments_lexer": "ipython3",
   "version": "3.11.9"
  }
 },
 "nbformat": 4,
 "nbformat_minor": 5
}
