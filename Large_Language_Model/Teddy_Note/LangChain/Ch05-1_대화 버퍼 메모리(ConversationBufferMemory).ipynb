{
 "cells": [
  {
   "cell_type": "markdown",
   "id": "cae927a1",
   "metadata": {},
   "source": [
    "# CH05 메모리(Memory)"
   ]
  },
  {
   "cell_type": "markdown",
   "id": "41c523a5",
   "metadata": {},
   "source": [
    "ConversationBufferMemory\n",
    "- 이 메모리는 메시지를 저장한 다음 변수에 메시지를 추출할 수 있게 해준다"
   ]
  },
  {
   "cell_type": "code",
   "execution_count": 7,
   "id": "69c6f87c",
   "metadata": {},
   "outputs": [],
   "source": [
    "from langchain.memory import ConversationBufferMemory"
   ]
  },
  {
   "cell_type": "code",
   "execution_count": 8,
   "id": "03d094dc",
   "metadata": {},
   "outputs": [
    {
     "name": "stderr",
     "output_type": "stream",
     "text": [
      "C:\\Users\\user\\AppData\\Local\\Temp\\ipykernel_29244\\2558606499.py:1: LangChainDeprecationWarning: Please see the migration guide at: https://python.langchain.com/docs/versions/migrating_memory/\n",
      "  memory = ConversationBufferMemory()\n"
     ]
    }
   ],
   "source": [
    "memory = ConversationBufferMemory()\n",
    "memory.save_context(\n",
    "    inputs = {\n",
    "        \"human\" : \"안녕하세요 기계의 고장 원인을 알고 싶어요. 어디서 부터 시작해야 하나요?\"\n",
    "    },\n",
    "    outputs = {\n",
    "        \"ai\" : \"어떤 기계가 고장 났는지 먼저 알려주시겠어요?\"\n",
    "    }\n",
    ")"
   ]
  },
  {
   "cell_type": "markdown",
   "id": "c8475b91",
   "metadata": {},
   "source": [
    "memory의 `load_memory_variables({})` 함수는 메시지 히스토리를 반환한다"
   ]
  },
  {
   "cell_type": "code",
   "execution_count": 9,
   "id": "4ce947a9",
   "metadata": {},
   "outputs": [
    {
     "data": {
      "text/plain": [
       "{'history': 'Human: 안녕하세요 기계의 고장 원인을 알고 싶어요. 어디서 부터 시작해야 하나요?\\nAI: 어떤 기계가 고장 났는지 먼저 알려주시겠어요?'}"
      ]
     },
     "execution_count": 9,
     "metadata": {},
     "output_type": "execute_result"
    }
   ],
   "source": [
    "# 'history' 키에 저장된 대화 기록을 확인한다.\n",
    "memory.load_memory_variables({})"
   ]
  },
  {
   "cell_type": "markdown",
   "id": "d8eac031",
   "metadata": {},
   "source": [
    "`save_context(inputs, outputs)` 메서드를 사용하여 대화 기록을 저장할 수 있다\n",
    "- 이 메서드는 `inputs`과 `outputs` 두 개의 인자를 받는다.\n",
    "- `inputs`는 사용자의 입력을, `outputs`는 AI의 출력을 저장한다.\n",
    "- 이 메서드를 사용하면 대화 기록이 `history` 키에 저장된다.\n",
    "- 이후 `load_memory_variables` 메서드를 사용하여 저장된 대화 기록을 확인할 수 있다"
   ]
  },
  {
   "cell_type": "code",
   "execution_count": 10,
   "id": "72a177c5",
   "metadata": {},
   "outputs": [],
   "source": [
    "# inputs : dictionary(key: \"human\" or \"ai\", value: 질문)\n",
    "# outputs : dictionary(key : \"ai\" or \"human\", value: 답변)\n",
    "memory.save_context(\n",
    "    inputs={\"human\" : \"네 기계의 결함을 찾았습니다. 이제 무엇을 해야 하나요?\"},\n",
    "    outputs={\"ai\" : \"감사합니다. 기계의 결합 원일을 입력해주시고 사진고 함께 업로드 해주세요\"}\n",
    ")"
   ]
  },
  {
   "cell_type": "code",
   "execution_count": 11,
   "id": "b677601b",
   "metadata": {},
   "outputs": [],
   "source": [
    "# 2개의 대화를 저장한다.\n",
    "memory.save_context(\n",
    "    inputs={\"human\" : \"기계 결함의 원인은 온도 때문입니다. 온도 사진을 업로드 했습니다\"},\n",
    "    outputs={\"ai\" : \"업로드해 주신 사진을 확인했습니다. 이제 특정 온도에 대해 분석을 진행하겠습니다.\"}\n",
    "),\n",
    "memory.save_context(\n",
    "    inputs={\"human\" : \"특정 온도에 대한 분석이 끝나면 알려주세요\"},\n",
    "    outputs={\"ai\" : \"네 알겠습니다 현재까지 50% 분석 진행 완료했습니다.\"}\n",
    ")"
   ]
  },
  {
   "cell_type": "code",
   "execution_count": 12,
   "id": "d06281af",
   "metadata": {},
   "outputs": [
    {
     "name": "stdout",
     "output_type": "stream",
     "text": [
      "Human: 안녕하세요 기계의 고장 원인을 알고 싶어요. 어디서 부터 시작해야 하나요?\n",
      "AI: 어떤 기계가 고장 났는지 먼저 알려주시겠어요?\n",
      "Human: 네 기계의 결함을 찾았습니다. 이제 무엇을 해야 하나요?\n",
      "AI: 감사합니다. 기계의 결합 원일을 입력해주시고 사진고 함께 업로드 해주세요\n",
      "Human: 기계 결함의 원인은 온도 때문입니다. 온도 사진을 업로드 했습니다\n",
      "AI: 업로드해 주신 사진을 확인했습니다. 이제 특정 온도에 대해 분석을 진행하겠습니다.\n",
      "Human: 특정 온도에 대한 분석이 끝나면 알려주세요\n",
      "AI: 네 알겠습니다 현재까지 50% 분석 진행 완료했습니다.\n"
     ]
    }
   ],
   "source": [
    "# history에 저장된 대화 기록을 확인한다.\n",
    "print(memory.load_memory_variables({})['history'])"
   ]
  },
  {
   "cell_type": "code",
   "execution_count": 13,
   "id": "7e9d93bb",
   "metadata": {},
   "outputs": [],
   "source": [
    "# 추가로 2개의 대화를 저장\n",
    "memory.save_context(\n",
    "    inputs={\"human\" : \"알겠어 100%가 되면 나에게 알려줘\"},\n",
    "    outputs={\"ai\" : \"네 알겠습니다. 현재 100% 완료 되었습니다.\"}\n",
    "),\n",
    "memory.save_context(\n",
    "    inputs={\"human\" : \"온도가 몇 도 이상일 때 결함이 생길 확률이 높아?\"},\n",
    "    outputs={\"ai\" : \"온도가 70도 이상일 때 결함이 날 확률이 매우 높습니다\"}\n",
    ")"
   ]
  },
  {
   "cell_type": "code",
   "execution_count": 14,
   "id": "542c63f4",
   "metadata": {},
   "outputs": [
    {
     "name": "stdout",
     "output_type": "stream",
     "text": [
      "Human: 안녕하세요 기계의 고장 원인을 알고 싶어요. 어디서 부터 시작해야 하나요?\n",
      "AI: 어떤 기계가 고장 났는지 먼저 알려주시겠어요?\n",
      "Human: 네 기계의 결함을 찾았습니다. 이제 무엇을 해야 하나요?\n",
      "AI: 감사합니다. 기계의 결합 원일을 입력해주시고 사진고 함께 업로드 해주세요\n",
      "Human: 기계 결함의 원인은 온도 때문입니다. 온도 사진을 업로드 했습니다\n",
      "AI: 업로드해 주신 사진을 확인했습니다. 이제 특정 온도에 대해 분석을 진행하겠습니다.\n",
      "Human: 특정 온도에 대한 분석이 끝나면 알려주세요\n",
      "AI: 네 알겠습니다 현재까지 50% 분석 진행 완료했습니다.\n",
      "Human: 알겠어 100%가 되면 나에게 알려줘\n",
      "AI: 네 알겠습니다. 현재 100% 완료 되었습니다.\n",
      "Human: 온도가 몇 도 이상일 때 결함이 생길 확률이 높아?\n",
      "AI: 온도가 70도 이상일 때 결함이 날 확률이 매우 높습니다\n"
     ]
    }
   ],
   "source": [
    "# history에 저장된 대화 기록을 확인한다.\n",
    "print(memory.load_memory_variables({})['history'])"
   ]
  },
  {
   "cell_type": "markdown",
   "id": "54e160ca",
   "metadata": {},
   "source": [
    "`return_message=True`로 설정하면 `HumanMessage`와 `AIMessage`객체를 반환한다"
   ]
  },
  {
   "cell_type": "code",
   "execution_count": 15,
   "id": "1d561530",
   "metadata": {},
   "outputs": [],
   "source": [
    "memory = ConversationBufferMemory(return_messages=True)\n",
    "\n",
    "memory.save_context(\n",
    "    inputs={\n",
    "        \"human\": \"안녕하세요, 비대면으로 은행 계좌를 개설하고 싶습니다. 어떻게 시작해야 하나요?\"\n",
    "    },\n",
    "    outputs={\n",
    "        \"ai\": \"안녕하세요! 계좌 개설을 원하신다니 기쁩니다. 먼저, 본인 인증을 위해 신분증을 준비해 주시겠어요?\"\n",
    "    },\n",
    ")\n",
    "\n",
    "memory.save_context(\n",
    "    inputs={\"human\": \"네, 신분증을 준비했습니다. 이제 무엇을 해야 하나요?\"},\n",
    "    outputs={\n",
    "        \"ai\": \"감사합니다. 신분증 앞뒤를 명확하게 촬영하여 업로드해 주세요. 이후 본인 인증 절차를 진행하겠습니다.\"\n",
    "    },\n",
    ")\n",
    "\n",
    "memory.save_context(\n",
    "    inputs={\"human\": \"사진을 업로드했습니다. 본인 인증은 어떻게 진행되나요?\"},\n",
    "    outputs={\n",
    "        \"ai\": \"업로드해 주신 사진을 확인했습니다. 이제 휴대폰을 통한 본인 인증을 진행해 주세요. 문자로 발송된 인증번호를 입력해 주시면 됩니다.\"\n",
    "    },\n",
    ")"
   ]
  },
  {
   "cell_type": "code",
   "execution_count": 16,
   "id": "79148ad8",
   "metadata": {},
   "outputs": [
    {
     "data": {
      "text/plain": [
       "[HumanMessage(content='안녕하세요, 비대면으로 은행 계좌를 개설하고 싶습니다. 어떻게 시작해야 하나요?', additional_kwargs={}, response_metadata={}),\n",
       " AIMessage(content='안녕하세요! 계좌 개설을 원하신다니 기쁩니다. 먼저, 본인 인증을 위해 신분증을 준비해 주시겠어요?', additional_kwargs={}, response_metadata={}),\n",
       " HumanMessage(content='네, 신분증을 준비했습니다. 이제 무엇을 해야 하나요?', additional_kwargs={}, response_metadata={}),\n",
       " AIMessage(content='감사합니다. 신분증 앞뒤를 명확하게 촬영하여 업로드해 주세요. 이후 본인 인증 절차를 진행하겠습니다.', additional_kwargs={}, response_metadata={}),\n",
       " HumanMessage(content='사진을 업로드했습니다. 본인 인증은 어떻게 진행되나요?', additional_kwargs={}, response_metadata={}),\n",
       " AIMessage(content='업로드해 주신 사진을 확인했습니다. 이제 휴대폰을 통한 본인 인증을 진행해 주세요. 문자로 발송된 인증번호를 입력해 주시면 됩니다.', additional_kwargs={}, response_metadata={})]"
      ]
     },
     "execution_count": 16,
     "metadata": {},
     "output_type": "execute_result"
    }
   ],
   "source": [
    "# hitory에 저장된 대화 기록을 확인\n",
    "memory.load_memory_variables({})['history']"
   ]
  },
  {
   "cell_type": "markdown",
   "id": "21e8d393",
   "metadata": {},
   "source": [
    "# Chain에 적용"
   ]
  },
  {
   "cell_type": "code",
   "execution_count": 17,
   "id": "6ba840b8",
   "metadata": {},
   "outputs": [
    {
     "data": {
      "text/plain": [
       "True"
      ]
     },
     "execution_count": 17,
     "metadata": {},
     "output_type": "execute_result"
    }
   ],
   "source": [
    "# API KEY를 환경변수로 관리하기 위한 설정 파일\n",
    "from dotenv import load_dotenv\n",
    "\n",
    "# API KEY 정보로드\n",
    "load_dotenv()"
   ]
  },
  {
   "cell_type": "code",
   "execution_count": 18,
   "id": "a2834aa2",
   "metadata": {},
   "outputs": [
    {
     "name": "stderr",
     "output_type": "stream",
     "text": [
      "C:\\Users\\user\\AppData\\Local\\Temp\\ipykernel_29244\\1083649542.py:8: LangChainDeprecationWarning: The class `ConversationChain` was deprecated in LangChain 0.2.7 and will be removed in 1.0. Use :meth:`~RunnableWithMessageHistory: https://python.langchain.com/v0.2/api_reference/core/runnables/langchain_core.runnables.history.RunnableWithMessageHistory.html` instead.\n",
      "  conversation = ConversationChain(\n"
     ]
    }
   ],
   "source": [
    "from langchain_openai import ChatOpenAI\n",
    "from langchain.chains import ConversationChain\n",
    "\n",
    "# LLM 모델 생성\n",
    "llm = ChatOpenAI(temperature=0)\n",
    "\n",
    "# ConversationChain을 생성한다\n",
    "conversation = ConversationChain(\n",
    "    # conversationbuffermemory를 사용\n",
    "    llm = llm,\n",
    "    memory = ConversationBufferMemory()\n",
    ")"
   ]
  },
  {
   "cell_type": "markdown",
   "id": "9e659de3",
   "metadata": {},
   "source": [
    "`ConversationCahin`을 사용하여 대화를 진행한다"
   ]
  },
  {
   "cell_type": "code",
   "execution_count": 20,
   "id": "d1f08c48",
   "metadata": {},
   "outputs": [
    {
     "name": "stdout",
     "output_type": "stream",
     "text": [
      "안녕하세요! 비대면으로 은행 계좌를 개설하려면 먼저 해당 은행의 공식 웹사이트나 모바일 앱을 방문하셔야 합니다. 보통 온라인 개설 절차를 따라 가입 신청서를 작성하고 필요한 정보를 제출하셔야 합니다. 이때 개인 정보와 신분증 사진 등을 제출해야 할 수도 있습니다. 개설 절차는 은행마다 조금씩 다를 수 있으니 해당 은행의 안내를 참고하시면 될 것 같아요. 도움이 되셨나요?\n"
     ]
    }
   ],
   "source": [
    "# 대화를 시작한다\n",
    "response = conversation.predict(\n",
    "    input = \"안녕하세요, 비대면으로 은행 계좌를 개설하고 싶습니다. 어떻게 시작해야 하나요?\"\n",
    ")\n",
    "print(response)"
   ]
  },
  {
   "cell_type": "code",
   "execution_count": 21,
   "id": "94a8fb71",
   "metadata": {},
   "outputs": [
    {
     "name": "stdout",
     "output_type": "stream",
     "text": [
      "1. 해당 은행의 공식 웹사이트나 모바일 앱을 방문\n",
      "2. 온라인 개설 절차 따라 가입 신청서 작성\n",
      "3. 필요한 정보 제출 (개인 정보, 신분증 사진 등)\n",
      "4. 은행마다 조금씩 다를 수 있으니 해당 은행의 안내 참고\n"
     ]
    }
   ],
   "source": [
    "# 이전 대화내용을 불렛포인트로 정리해 달라는 요청을 보냅니다.\n",
    "response = conversation.predict(\n",
    "    input=\"이전 답변을 불렛포인트 형식으로 정리하여 알려주세요.\"\n",
    ")\n",
    "print(response)"
   ]
  }
 ],
 "metadata": {
  "kernelspec": {
   "display_name": "LLM_application_env",
   "language": "python",
   "name": "python3"
  },
  "language_info": {
   "codemirror_mode": {
    "name": "ipython",
    "version": 3
   },
   "file_extension": ".py",
   "mimetype": "text/x-python",
   "name": "python",
   "nbconvert_exporter": "python",
   "pygments_lexer": "ipython3",
   "version": "3.11.9"
  }
 },
 "nbformat": 4,
 "nbformat_minor": 5
}
