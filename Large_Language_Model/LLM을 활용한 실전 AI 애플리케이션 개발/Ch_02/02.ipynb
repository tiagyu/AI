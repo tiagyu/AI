{
 "cells": [
  {
   "cell_type": "markdown",
   "id": "7a29d61e",
   "metadata": {},
   "source": [
    "# 예제 2.1 토큰화 코드"
   ]
  },
  {
   "cell_type": "code",
   "execution_count": 2,
   "id": "92cd93a4",
   "metadata": {},
   "outputs": [
    {
     "name": "stdout",
     "output_type": "stream",
     "text": [
      "input_text_list : ['나는', '최근', '파리', '여행을', '다녀왔다']\n"
     ]
    }
   ],
   "source": [
    "# 띄어쓰기 단위로 분리\n",
    "input_text = \"나는 최근 파리 여행을 다녀왔다\"\n",
    "input_text_list = input_text.split()\n",
    "print(f\"input_text_list : {input_text_list}\")"
   ]
  },
  {
   "cell_type": "code",
   "execution_count": 3,
   "id": "cb5d6b1c",
   "metadata": {},
   "outputs": [
    {
     "name": "stdout",
     "output_type": "stream",
     "text": [
      "str2idx : {'나는': 0, '최근': 1, '파리': 2, '여행을': 3, '다녀왔다': 4}\n",
      "idx2str : {0: '나는', 1: '최근', 2: '파리', 3: '여행을', 4: '다녀왔다'}\n"
     ]
    }
   ],
   "source": [
    "# 토큰 -> 아이디 딕셔너리와 아이디 -> 토큰 딕셔너리 만들기\n",
    "str2idx = {word : idx for idx, word in enumerate(input_text_list)}\n",
    "idx2str = {idx : word for idx, word in enumerate(input_text_list)}\n",
    "print(f\"str2idx : {str2idx}\")\n",
    "print(f\"idx2str : {idx2str}\")"
   ]
  },
  {
   "cell_type": "code",
   "execution_count": 4,
   "id": "820868d4",
   "metadata": {},
   "outputs": [
    {
     "name": "stdout",
     "output_type": "stream",
     "text": [
      "input_ids : [0, 1, 2, 3, 4]\n"
     ]
    }
   ],
   "source": [
    "# 토큰을 토큰 아이디로 변환\n",
    "input_ids = [str2idx[word] for word in input_text_list]\n",
    "print(f\"input_ids : {input_ids}\")"
   ]
  }
 ],
 "metadata": {
  "kernelspec": {
   "display_name": "Python 3",
   "language": "python",
   "name": "python3"
  },
  "language_info": {
   "codemirror_mode": {
    "name": "ipython",
    "version": 3
   },
   "file_extension": ".py",
   "mimetype": "text/x-python",
   "name": "python",
   "nbconvert_exporter": "python",
   "pygments_lexer": "ipython3",
   "version": "3.11.6"
  }
 },
 "nbformat": 4,
 "nbformat_minor": 5
}
