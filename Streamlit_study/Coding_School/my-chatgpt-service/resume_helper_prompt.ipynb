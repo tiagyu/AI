{
 "cells": [
  {
   "cell_type": "markdown",
   "metadata": {},
   "source": [
    "# 이력서 도우미 prompt"
   ]
  },
  {
   "cell_type": "code",
   "execution_count": 1,
   "metadata": {},
   "outputs": [],
   "source": [
    "from common import stream_response_console, request_chat_completion"
   ]
  },
  {
   "cell_type": "code",
   "execution_count": 6,
   "metadata": {},
   "outputs": [
    {
     "name": "stdout",
     "output_type": "stream",
     "text": [
      "안녕하세요! 저는 여러분을 돕기 위해 만들어진 가상 도우미이고, 제 이름은 없습니다. 무엇을 도와드릴까요?"
     ]
    }
   ],
   "source": [
    "prompt = \"안녕하세요! 너의 이름이 뭐야?\"\n",
    "response = request_chat_completion(\n",
    "    prompt = prompt,\n",
    "    stream = True\n",
    ")\n",
    "message = stream_response_console(response)"
   ]
  },
  {
   "cell_type": "markdown",
   "metadata": {},
   "source": [
    "## 프롬프트 템플릿"
   ]
  },
  {
   "cell_type": "code",
   "execution_count": 7,
   "metadata": {},
   "outputs": [],
   "source": [
    "prompt_template_v1 = \"\"\"\n",
    "기업 입사용 자기소개서를 작성해야 합니다.\n",
    "답변해야하는 질문과 이에 관련된 유저의 경험을 참고해서 자기소개서를 작성해주세요.\n",
    "반드시 {max_length} 자 이내로 작성해야 합니다.\n",
    "\n",
    "---\n",
    "지원 회사 : {company}\n",
    "지원 직무 : {position}\n",
    "질문 : {question}\n",
    "관련 경험 : {experience}\n",
    "---\n",
    "\"\"\".strip()"
   ]
  },
  {
   "cell_type": "code",
   "execution_count": 9,
   "metadata": {},
   "outputs": [],
   "source": [
    "example = {\n",
    "    \"company\": \"LG uplus\",\n",
    "    \"position\": \"기업부문 B2B 국내영업\",\n",
    "    \"max_length\": 500,\n",
    "    \"question\": \"소속된 조직의 공동과업을 달성하는 과정에서 발생했던 어려움과 그 어려움을 극복하기 위해 기울인 노력에 대해 구체적인 사례를 바탕으로 기술해 주십시오.\",\n",
    "    \"experience\": \"대학교 3학년 때 축구부 주장 역임.\\n총장배 대회 우승이라는 공동의 목표로 함께 노력.\\n주전 선수진 부상으로 어려움 겪었으나, 극복하고 8강 진출이라는 성과 달성\"\n",
    "}"
   ]
  },
  {
   "cell_type": "code",
   "execution_count": 10,
   "metadata": {},
   "outputs": [],
   "source": [
    "prompt = prompt_template_v1.format(\n",
    "    company = example['company'],\n",
    "    position = example['position'],\n",
    "    max_length = example['max_length'],\n",
    "    question = example['question'],\n",
    "    experience = example['experience']\n",
    ")"
   ]
  },
  {
   "cell_type": "code",
   "execution_count": 11,
   "metadata": {},
   "outputs": [
    {
     "name": "stdout",
     "output_type": "stream",
     "text": [
      "기업 입사용 자기소개서를 작성해야 합니다.\n",
      "답변해야하는 질문과 이에 관련된 유저의 경험을 참고해서 자기소개서를 작성해주세요.\n",
      "반드시 500 자 이내로 작성해야 합니다.\n",
      "\n",
      "---\n",
      "지원 회사 : LG uplus\n",
      "지원 직무 : 기업부문 B2B 국내영업\n",
      "질문 : 소속된 조직의 공동과업을 달성하는 과정에서 발생했던 어려움과 그 어려움을 극복하기 위해 기울인 노력에 대해 구체적인 사례를 바탕으로 기술해 주십시오.\n",
      "관련 경험 : 대학교 3학년 때 축구부 주장 역임.\n",
      "총장배 대회 우승이라는 공동의 목표로 함께 노력.\n",
      "주전 선수진 부상으로 어려움 겪었으나, 극복하고 8강 진출이라는 성과 달성\n",
      "---\n"
     ]
    }
   ],
   "source": [
    "print(prompt)"
   ]
  },
  {
   "cell_type": "code",
   "execution_count": 12,
   "metadata": {},
   "outputs": [
    {
     "name": "stdout",
     "output_type": "stream",
     "text": [
      "저는 지난 대학교 3학년 때 축구부 주장을 맡았던 경험이 있습니다. 그때 저희 팀은 총장배 대회에서 우승을 목표로 하고 함께 노력했습니다. 그러나 중요한 주전 선수들의 부상으로 인해 어려움을 겪었고, 그 상황을 극복하기 위해 힘썼습니다. 저는 선수들 간의 커뮤니케이션을 강화하고 연습량을 늘리는 등 팀의 분위기를 끌어올리기 위해 노력했습니다. 결과적으로 모두가 함께 노력한 끝에 8강까지 진출하는 성과를 이루었습니다. 이 경험을 통해 어려운 상황에서도 팀원들을 이끄는 리더십과 문제해결능력을 키웠습니다. LG uplus의 B2B 국내영업 직무에서도 저의 경험과 역량을 발휘하여 팀과 함께 공동의 목표를 달성하는데 기여하겠습니다."
     ]
    }
   ],
   "source": [
    "response = request_chat_completion(\n",
    "    prompt = prompt,\n",
    "    stream = True\n",
    ")\n",
    "message = stream_response_console(response)"
   ]
  },
  {
   "cell_type": "code",
   "execution_count": 13,
   "metadata": {},
   "outputs": [
    {
     "data": {
      "text/plain": [
       "351"
      ]
     },
     "execution_count": 13,
     "metadata": {},
     "output_type": "execute_result"
    }
   ],
   "source": [
    "len(message)"
   ]
  },
  {
   "cell_type": "markdown",
   "metadata": {},
   "source": [
    "## 글자 수 제한"
   ]
  },
  {
   "cell_type": "code",
   "execution_count": 18,
   "metadata": {},
   "outputs": [],
   "source": [
    "prompt_template_v2 = \"\"\"\n",
    "기업 입사용 자기소개서를 작성해야 합니다.\n",
    "답변해야하는 질문과 이에 관련된 유저의 경험을 참고해서 자기소개서를 작성해주세요.\n",
    "반드시 {max_length} 단어 이내로 작성해야 합니다.\n",
    "\n",
    "---\n",
    "지원 회사 : {company}\n",
    "지원 직무 : {position}\n",
    "질문 : {question}\n",
    "관련 경험 : {experience}\n",
    "---\n",
    "\"\"\".strip()"
   ]
  },
  {
   "cell_type": "code",
   "execution_count": 21,
   "metadata": {},
   "outputs": [],
   "source": [
    "prompt = prompt_template_v2.format(\n",
    "    company = example['company'],\n",
    "    position = example['position'],\n",
    "    max_length = example['max_length'] // 6,\n",
    "    question = example['question'],\n",
    "    experience = example['experience']\n",
    ")"
   ]
  },
  {
   "cell_type": "code",
   "execution_count": 22,
   "metadata": {},
   "outputs": [
    {
     "name": "stdout",
     "output_type": "stream",
     "text": [
      "기업 입사용 자기소개서를 작성해야 합니다.\n",
      "답변해야하는 질문과 이에 관련된 유저의 경험을 참고해서 자기소개서를 작성해주세요.\n",
      "반드시 83 단어 이내로 작성해야 합니다.\n",
      "\n",
      "---\n",
      "지원 회사 : LG uplus\n",
      "지원 직무 : 기업부문 B2B 국내영업\n",
      "질문 : 소속된 조직의 공동과업을 달성하는 과정에서 발생했던 어려움과 그 어려움을 극복하기 위해 기울인 노력에 대해 구체적인 사례를 바탕으로 기술해 주십시오.\n",
      "관련 경험 : 대학교 3학년 때 축구부 주장 역임.\n",
      "총장배 대회 우승이라는 공동의 목표로 함께 노력.\n",
      "주전 선수진 부상으로 어려움 겪었으나, 극복하고 8강 진출이라는 성과 달성\n",
      "---\n"
     ]
    }
   ],
   "source": [
    "print(prompt)"
   ]
  },
  {
   "cell_type": "code",
   "execution_count": 23,
   "metadata": {},
   "outputs": [
    {
     "name": "stdout",
     "output_type": "stream",
     "text": [
      "대학교 3학년 때 축구부 주장으로 활약한 경험이 있습니다. 총장배 대회에서 우승을 목표로 함께 노력하던 중, 주전 선수진의 부상으로 어려움에 직면했습니다. 그러나 팀원들과 함께 힘을 합쳐 극복하고 8강에 진출하는 성과를 이루었습니다. 이 경험을 통해 공동과업을 달성하기 위해 팀원들과 소통하고 협력하는 중요성을 깨달았으며, 열정과 노력으로 모든 어려움을 극복할 자신이 있습니다. LG Uplus 기업부문 B2B 국내영업에서도 이러한 정신으로 최선을 다하겠습니다."
     ]
    }
   ],
   "source": [
    "response = request_chat_completion(\n",
    "    prompt = prompt,\n",
    "    stream = True\n",
    ")\n",
    "message = stream_response_console(response)"
   ]
  },
  {
   "cell_type": "code",
   "execution_count": 24,
   "metadata": {},
   "outputs": [
    {
     "data": {
      "text/plain": [
       "258"
      ]
     },
     "execution_count": 24,
     "metadata": {},
     "output_type": "execute_result"
    }
   ],
   "source": [
    "len(message)"
   ]
  },
  {
   "cell_type": "markdown",
   "metadata": {},
   "source": [
    "## 소제목 추가"
   ]
  },
  {
   "cell_type": "code",
   "execution_count": 25,
   "metadata": {},
   "outputs": [],
   "source": [
    "prompt_template_v3 = \"\"\"\n",
    "기업 입사용 자기소개서를 작성해야 합니다.\n",
    "답변해야하는 질문과 이에 관련된 유저의 경험을 참고해서 자기소개서를 작성해주세요.\n",
    "반드시 {max_length} 단어 이내로 작성해야 합니다.\n",
    "단락마다 소제목을 넣어주세요.\n",
    "\n",
    "---\n",
    "지원 회사 : {company}\n",
    "지원 직무 : {position}\n",
    "질문 : {question}\n",
    "관련 경험 : {experience}\n",
    "---\n",
    "\"\"\".strip()"
   ]
  },
  {
   "cell_type": "code",
   "execution_count": 28,
   "metadata": {},
   "outputs": [],
   "source": [
    "prompt = prompt_template_v3.format(\n",
    "    company = example['company'],\n",
    "    position = example['position'],\n",
    "    max_length = example['max_length'] // 3,\n",
    "    question = example['question'],\n",
    "    experience = example['experience']\n",
    ")"
   ]
  },
  {
   "cell_type": "code",
   "execution_count": 29,
   "metadata": {},
   "outputs": [
    {
     "name": "stdout",
     "output_type": "stream",
     "text": [
      "**합동 노력을 통한 공동목표 달성**\n",
      "\n",
      "제가 소속한 축구부 주장으로서, 총장배 대회 우승이라는 공동의 목표를 위해 팀원들과 함께 노력한 경험이 있습니다. 주전 선수진 중 부상으로 어려움을 겪었을 때, 저는 팀원들을 이끌고 당면한 어려움을 극복하기 위해 노력했습니다. 부상으로 인해 느슨해진 팀 분위기를 다시 공기업고자 노력하여 팀원들에게 자신감을 심어 주었고, 전력을 다해 다시 합동훈련에 임함으로써 우리 팀은 8강 진출이라는 성과를 달성했습니다.\n",
      "\n",
      "LG Uplus의 B2B 국내영업 부문에서도 팀원들과 함께 협력하여 소속된 조직의 공동과업을 달성하기 위해 최선을 다할 것입니다. 어려움이 닥쳤을 때도 포기하지 않고, 팀원들과의 협력을 토대로 문제를 해결해 나가는 저의 노력과 의지를 LG Uplus에서도 발휘하겠습니다.\n",
      "\n",
      " 공백 포함 글자 수 : 404\n"
     ]
    }
   ],
   "source": [
    "response = request_chat_completion(\n",
    "    prompt = prompt,\n",
    "    stream = True\n",
    ")\n",
    "message = stream_response_console(response)\n",
    "print(f\"\\n\\n 공백 포함 글자 수 : {len(message)}\")"
   ]
  }
 ],
 "metadata": {
  "kernelspec": {
   "display_name": "Python 3",
   "language": "python",
   "name": "python3"
  },
  "language_info": {
   "codemirror_mode": {
    "name": "ipython",
    "version": 3
   },
   "file_extension": ".py",
   "mimetype": "text/x-python",
   "name": "python",
   "nbconvert_exporter": "python",
   "pygments_lexer": "ipython3",
   "version": "3.11.6"
  }
 },
 "nbformat": 4,
 "nbformat_minor": 2
}
