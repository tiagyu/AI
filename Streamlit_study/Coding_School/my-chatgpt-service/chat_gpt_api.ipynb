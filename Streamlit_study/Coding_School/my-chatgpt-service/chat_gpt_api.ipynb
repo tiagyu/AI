{
 "cells": [
  {
   "cell_type": "markdown",
   "metadata": {},
   "source": [
    "# openai 라이브러리 설치"
   ]
  },
  {
   "cell_type": "code",
   "execution_count": 2,
   "metadata": {},
   "outputs": [],
   "source": [
    "#!pip install openai"
   ]
  },
  {
   "cell_type": "code",
   "execution_count": 13,
   "metadata": {},
   "outputs": [],
   "source": [
    "from openai import OpenAI\n",
    "import os\n",
    "from dotenv import load_dotenv"
   ]
  },
  {
   "cell_type": "code",
   "execution_count": 8,
   "metadata": {},
   "outputs": [
    {
     "data": {
      "text/plain": [
       "True"
      ]
     },
     "execution_count": 8,
     "metadata": {},
     "output_type": "execute_result"
    }
   ],
   "source": [
    "load_dotenv()"
   ]
  },
  {
   "cell_type": "code",
   "execution_count": 10,
   "metadata": {},
   "outputs": [],
   "source": [
    "api_key = os.getenv(\"OPENAI_API_KEY\")"
   ]
  },
  {
   "cell_type": "markdown",
   "metadata": {},
   "source": [
    "# ChatCompletion API"
   ]
  },
  {
   "cell_type": "markdown",
   "metadata": {},
   "source": [
    "### 기본 사용법"
   ]
  },
  {
   "cell_type": "code",
   "execution_count": 31,
   "metadata": {},
   "outputs": [],
   "source": [
    "client = OpenAI()"
   ]
  },
  {
   "cell_type": "code",
   "execution_count": 35,
   "metadata": {},
   "outputs": [
    {
     "name": "stdout",
     "output_type": "stream",
     "text": [
      "지피티로 떠나는 여행길\n",
      "목적지는 뜻밖의 선물\n",
      "행복이 가득한 세상으로\n"
     ]
    }
   ],
   "source": [
    "response = client.chat.completions.create(\n",
    "    model=\"gpt-3.5-turbo\",\n",
    "    messages = [\n",
    "        {\"role\" : \"user\", \"content\" : \"지피티라는 단어로 3행시 지어줘\"}\n",
    "    ]\n",
    ")\n",
    "\n",
    "generated_text = response.choices[0].message.content\n",
    "print(generated_text)"
   ]
  },
  {
   "cell_type": "markdown",
   "metadata": {},
   "source": [
    "## model 파라미터"
   ]
  },
  {
   "cell_type": "code",
   "execution_count": 36,
   "metadata": {},
   "outputs": [
    {
     "name": "stdout",
     "output_type": "stream",
     "text": [
      "지: 지혜로운 답변으로  \n",
      "피: 필요한 정보 모두 전해줄게  \n",
      "티: 티없이 맑은 대화, 함께해요!  \n"
     ]
    }
   ],
   "source": [
    "response = client.chat.completions.create(\n",
    "    model=\"gpt-4o-mini\",\n",
    "    messages = [\n",
    "        {\"role\" : \"user\", \"content\" : \"지피티라는 단어로 3행시 지어줘\"}\n",
    "    ]\n",
    ")\n",
    "\n",
    "generated_text = response.choices[0].message.content\n",
    "print(generated_text)"
   ]
  },
  {
   "cell_type": "markdown",
   "metadata": {},
   "source": [
    "## role\n",
    "- user : 사용자가 입력하는 메시지\n",
    "- assistatnt : OpenAI 모델이 생성한 응답\n",
    "- system : 모델의 전체적인 행동과 스타일을 정의하는 역할"
   ]
  },
  {
   "cell_type": "code",
   "execution_count": null,
   "metadata": {},
   "outputs": [],
   "source": [
    "response = client.chat.completions.create(\n",
    "    model=\"gpt-3.5-turbo\",\n",
    "    messages = [\n",
    "        {\"role\" : \"user\", \"content\" : \"저녁으로 먹기 좋은 메뉴 3가지 추천해줘\"},\n",
    "        {\"role\" : \"assistant\", \"content\" : generated_text},\n",
    "        {\"role\" : \"user\", \"content\" : \"첫 번째로 추천한 메뉴에 대해서 자세하게 설명해줘\"}\n",
    "    ]\n",
    ")\n",
    "\n",
    "generated_text = response.choices[0].message.content\n",
    "print(generated_text)"
   ]
  },
  {
   "cell_type": "markdown",
   "metadata": {},
   "source": [
    "## system message"
   ]
  },
  {
   "cell_type": "code",
   "execution_count": 38,
   "metadata": {},
   "outputs": [
    {
     "name": "stdout",
     "output_type": "stream",
     "text": [
      "저녁으로 먹기 좋은 메뉴를 추천해드리겠습니다. 미슐랭 3스타 셰프가 선정한 메뉴들이에요!\n",
      "\n",
      "1. 그라파 스타일의 스테이크: 고급식당에서 인기 있는 그라파 스타일의 스테이크는 고기의 부드러움과 풍미를 최대한 살리는 요리입니다. 고기를 고온의 그릴로 굽고 간단한 양념과 허브로 마무리하여 부드럽고 질좋은 스테이크를 즐길 수 있어요.\n",
      "\n",
      "2. 프랑스식 램 셰프의 올리브 오일 파스타: 프랑스식 램 셰프가 추천하는 올리브 오일 파스타는 심플하지만 풍부한 맛을 느낄 수 있는 요리입니다. 신선한 야채와 향긋한 올리브 오일을 사용하여 건강하고 맛있는 파스타를 즐길 수 있어요.\n",
      "\n",
      "3. 일본식 오마카세 식사: 오마카세는 일본식 다방면 요리로, 셰프가 고객을 위해 특별히 준비한 다양한 요리를 즐길 수 있는 코스 요리입니다. 신선하고 다채로운 재료를 사용하여 제공되는 요리들을 맛보며 진정한 요리의 즐거움을 경험할 수 있어요.\n",
      "\n",
      "이 세 가지 메뉴 중에서 원하시는 요리를 선택하시어 특별한 저녁 식사를 즐겨보시길 바랍니다!\n"
     ]
    }
   ],
   "source": [
    "response = client.chat.completions.create(\n",
    "    model=\"gpt-3.5-turbo\",\n",
    "    messages = [\n",
    "        {\"role\" : \"system\", \"content\" : \"미슐랭 3스타 셰프\"},\n",
    "        {\"role\" : \"user\", \"content\" : \"저녁으로 먹기 좋은 메뉴 3가지 추천해줘\"}\n",
    "    ]\n",
    ")\n",
    "\n",
    "generated_text = response.choices[0].message.content\n",
    "print(generated_text)"
   ]
  },
  {
   "cell_type": "markdown",
   "metadata": {},
   "source": [
    "## streaming"
   ]
  },
  {
   "cell_type": "code",
   "execution_count": 58,
   "metadata": {},
   "outputs": [
    {
     "name": "stdout",
     "output_type": "stream",
     "text": [
      "물론! 다음은 미슐랭 3스타 셰프가 추천하는 저녁으로 먹기 좋은 메뉴 세 가지입니다:\n",
      "\n",
      "1. 그라나 파다노 치즈와 블랙 트러플 리조또: 부드러운 리조또에 진한 그라나 파다노 치즈와 향긋한 블랙 트러플을 곁들여 풍성한 맛을 즐기세요.\n",
      "\n",
      "2. 바질 퓨레와 해산물 파스타: 상큼한 바질 퓨레가 어우러진 바다 재료가 풍부한 파스타는 풍부한 맛과 신선함을 동시에 느낄 수 있는 메뉴입니다.\n",
      "\n",
      "3. 메디테리니언 스타일 그릴드 램브 새라: 허브와 올리브 오일로 맛을 더한 그릴드 램브는 고소하고 풍부한 맛을 제공합니다. 채소와 함께 곁들여 식사하면 더욱 완벽한 조화를 이룰 것입니다.\n",
      "\n",
      "이 세 가지 메뉴 중에서 선택하시면 특별한 저녁 식사를 즐길 수 있을 것입니다. 즐거운 식사 되시길 바랍니다!"
     ]
    }
   ],
   "source": [
    "response = client.chat.completions.create(\n",
    "    model=\"gpt-3.5-turbo\",\n",
    "    messages = [\n",
    "        {\"role\" : \"system\", \"content\" : \"미슐랭 3스타 셰프\"},\n",
    "        {\"role\" : \"user\", \"content\" : \"저녁으로 먹기 좋은 메뉴 3가지 추천해줘\"}\n",
    "    ],\n",
    "    stream = True\n",
    ")\n",
    "\n",
    "for chunk in response:\n",
    "    delta = chunk.choices[0].delta\n",
    "    if delta and delta.content:\n",
    "        print(delta.content, end=\"\", flush=True)\n"
   ]
  }
 ],
 "metadata": {
  "kernelspec": {
   "display_name": "Python 3",
   "language": "python",
   "name": "python3"
  },
  "language_info": {
   "codemirror_mode": {
    "name": "ipython",
    "version": 3
   },
   "file_extension": ".py",
   "mimetype": "text/x-python",
   "name": "python",
   "nbconvert_exporter": "python",
   "pygments_lexer": "ipython3",
   "version": "3.11.6"
  }
 },
 "nbformat": 4,
 "nbformat_minor": 2
}
