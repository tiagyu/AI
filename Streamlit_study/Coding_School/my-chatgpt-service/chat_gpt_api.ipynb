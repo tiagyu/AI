{
 "cells": [
  {
   "cell_type": "markdown",
   "metadata": {},
   "source": [
    "# openai 라이브러리 설치"
   ]
  },
  {
   "cell_type": "code",
   "execution_count": 1,
   "metadata": {},
   "outputs": [],
   "source": [
    "#!pip install openai"
   ]
  },
  {
   "cell_type": "code",
   "execution_count": 2,
   "metadata": {},
   "outputs": [],
   "source": [
    "from openai import OpenAI\n",
    "import os\n",
    "from dotenv import load_dotenv"
   ]
  },
  {
   "cell_type": "code",
   "execution_count": 3,
   "metadata": {},
   "outputs": [
    {
     "data": {
      "text/plain": [
       "True"
      ]
     },
     "execution_count": 3,
     "metadata": {},
     "output_type": "execute_result"
    }
   ],
   "source": [
    "load_dotenv()"
   ]
  },
  {
   "cell_type": "code",
   "execution_count": 4,
   "metadata": {},
   "outputs": [],
   "source": [
    "api_key = os.getenv(\"OPENAI_API_KEY\")"
   ]
  },
  {
   "cell_type": "markdown",
   "metadata": {},
   "source": [
    "# ChatCompletion API"
   ]
  },
  {
   "cell_type": "markdown",
   "metadata": {},
   "source": [
    "### 기본 사용법"
   ]
  },
  {
   "cell_type": "code",
   "execution_count": 11,
   "metadata": {},
   "outputs": [],
   "source": [
    "client = OpenAI(api_key=api_key)"
   ]
  },
  {
   "cell_type": "code",
   "execution_count": 12,
   "metadata": {},
   "outputs": [
    {
     "name": "stdout",
     "output_type": "stream",
     "text": [
      "지피티란 단어\n",
      "뜻이 궁금한가\n",
      "그럼 찾아봐!\n"
     ]
    }
   ],
   "source": [
    "response = client.chat.completions.create(\n",
    "    model=\"gpt-3.5-turbo\",\n",
    "    messages = [\n",
    "        {\"role\" : \"user\", \"content\" : \"지피티라는 단어로 3행시 지어줘\"}\n",
    "    ]\n",
    ")\n",
    "\n",
    "generated_text = response.choices[0].message.content\n",
    "print(generated_text)"
   ]
  },
  {
   "cell_type": "markdown",
   "metadata": {},
   "source": [
    "## model 파라미터"
   ]
  },
  {
   "cell_type": "code",
   "execution_count": 7,
   "metadata": {},
   "outputs": [
    {
     "name": "stdout",
     "output_type": "stream",
     "text": [
      "지혜로운 생각으로  \n",
      "피어나는 아이디어,  \n",
      "티없이 맑은 대화로.  \n"
     ]
    }
   ],
   "source": [
    "response = client.chat.completions.create(\n",
    "    model=\"gpt-4o-mini\",\n",
    "    messages = [\n",
    "        {\"role\" : \"user\", \"content\" : \"지피티라는 단어로 3행시 지어줘\"}\n",
    "    ]\n",
    ")\n",
    "\n",
    "generated_text = response.choices[0].message.content\n",
    "print(generated_text)"
   ]
  },
  {
   "cell_type": "markdown",
   "metadata": {},
   "source": [
    "## role\n",
    "- user : 사용자가 입력하는 메시지\n",
    "- assistatnt : OpenAI 모델이 생성한 응답\n",
    "- system : 모델의 전체적인 행동과 스타일을 정의하는 역할"
   ]
  },
  {
   "cell_type": "code",
   "execution_count": 8,
   "metadata": {},
   "outputs": [
    {
     "name": "stdout",
     "output_type": "stream",
     "text": [
      "첫 번째 추천한 메뉴는 \"그릴 레몬 버터 연어 스테이크\"입니다. \n",
      "\n",
      "이 메뉴는 신선한 연어를 레몬과 버터로 맛을 낸 후 그릴에 구워 부드럽고 고소한 맛을 즐길 수 있는 요리입니다. 레몬의 상큼한 맛과 버터의 부드러운 풍미가 어우러져 상쾌하면서도 풍미 있는 맛을 경험할 수 있습니다. 연어는 고단백질이 풍부하고 지방함량이 낮아 건강에도 좋은 식재료이며, 그릴로 조리하여 더욱 건강하고 가벼운 식사를 즐길 수 있습니다.\n",
      "\n",
      "그릴 레몬 버터 연어 스테이크는 고급스러운 외모와 풍부한 맛으로 다양한 자리에서 인기 있는 메뉴로, 저녁 식사로는 물론 소규모 파티나 회식 모임에서도 어울리는 요리입니다. 신선한 재료와 정성 가득한 조리로 만들어진 이 메뉴를 즐기면서 가족이나 친구들과 특별한 시간을 보내보세요.\n"
     ]
    }
   ],
   "source": [
    "response = client.chat.completions.create(\n",
    "    model=\"gpt-3.5-turbo\",\n",
    "    messages = [\n",
    "        {\"role\" : \"user\", \"content\" : \"저녁으로 먹기 좋은 메뉴 3가지 추천해줘\"},\n",
    "        {\"role\" : \"assistant\", \"content\" : generated_text},\n",
    "        {\"role\" : \"user\", \"content\" : \"첫 번째로 추천한 메뉴에 대해서 자세하게 설명해줘\"}\n",
    "    ]\n",
    ")\n",
    "\n",
    "generated_text = response.choices[0].message.content\n",
    "print(generated_text)"
   ]
  },
  {
   "cell_type": "markdown",
   "metadata": {},
   "source": [
    "## system message"
   ]
  },
  {
   "cell_type": "code",
   "execution_count": 9,
   "metadata": {},
   "outputs": [
    {
     "name": "stdout",
     "output_type": "stream",
     "text": [
      "저녁으로 먹기 좋은 메뉴를 3가지 추천해드리겠습니다.\n",
      "\n",
      "1. 그라탕: 크림 소스와 치즈로 구성된 그라탕은 고소하고 풍부한 맛으로 여러 재료를 활용하여 만들 수 있습니다. 예를 들어 미트볼과 채소를 넣어 만든 그라탕은 영양도 풍부하고 포만감도 느끼기 좋습니다.\n",
      "\n",
      "2. 스테이크와 로즈마리 감자: 고기의 질감과 고소한 맛이 잘 어우러진 스테이크는 저녁 식사로 인기 있는 메뉴입니다. 로즈마리 감자와 함께 곁들여 더욱 풍부한 맛을 느낄 수 있습니다.\n",
      "\n",
      "3. 해산물 파스타: 해산물의 신선한 맛과 향이 가득한 파스타는 저녁 식사에 어울리는 메뉴입니다. 예를 들어 새우, 오징어, 조개류 등을 사용하여 만든 시금치 크림 파스타는 부드럽고 고소한 맛으로 한 끼 식사로 안성맞춤입니다.\n",
      "\n",
      "이렇게 다채로운 맛과 조리법을 활용하여 저녁으로 먹기 좋은 메뉴를 즐기시면 좋을 것 같습니다.즐거운 식사 되세요!\n"
     ]
    }
   ],
   "source": [
    "response = client.chat.completions.create(\n",
    "    model=\"gpt-3.5-turbo\",\n",
    "    messages = [\n",
    "        {\"role\" : \"system\", \"content\" : \"미슐랭 3스타 셰프\"},\n",
    "        {\"role\" : \"user\", \"content\" : \"저녁으로 먹기 좋은 메뉴 3가지 추천해줘\"}\n",
    "    ]\n",
    ")\n",
    "\n",
    "generated_text = response.choices[0].message.content\n",
    "print(generated_text)"
   ]
  },
  {
   "cell_type": "markdown",
   "metadata": {},
   "source": [
    "## streaming"
   ]
  },
  {
   "cell_type": "code",
   "execution_count": 10,
   "metadata": {},
   "outputs": [
    {
     "name": "stdout",
     "output_type": "stream",
     "text": [
      "저녁으로 먹기 좋은 메뉴를 3가지 추천해드리겠습니다.\n",
      "\n",
      "1. 그릴 스테이크와 로즈마리 감자 : 고기의 질감과 감자의 부드러움이 어우러진 이 조합은 풍부한 단맛과 풍미로운 향이 일품입니다.\n",
      "\n",
      "2. 바게트와 치즈 플래터 : 다양한 종류의 치즈와 함께 바게트를 간단히 구워내어 곁들이면 와인과 잘 어울리는 가벼운 식사를 즐길 수 있습니다.\n",
      "\n",
      "3. 해산물 팔라야 : 해산물의 풍부한 맛과 병아리콩, 살사 등 다양한 재료가 섞인 이 요리는 맛과 영양을 모두 만족시켜줄 것입니다.\n",
      "\n",
      "이 세 가지 메뉴 중에서 선택해보세요.즐거운 식사 되시길 바랍니다!"
     ]
    }
   ],
   "source": [
    "response = client.chat.completions.create(\n",
    "    model=\"gpt-3.5-turbo\",\n",
    "    messages = [\n",
    "        {\"role\" : \"system\", \"content\" : \"미슐랭 3스타 셰프\"},\n",
    "        {\"role\" : \"user\", \"content\" : \"저녁으로 먹기 좋은 메뉴 3가지 추천해줘\"}\n",
    "    ],\n",
    "    stream = True\n",
    ")\n",
    "\n",
    "for chunk in response:\n",
    "    delta = chunk.choices[0].delta\n",
    "    if delta and delta.content:\n",
    "        print(delta.content, end=\"\", flush=True)\n"
   ]
  }
 ],
 "metadata": {
  "kernelspec": {
   "display_name": "Python 3",
   "language": "python",
   "name": "python3"
  },
  "language_info": {
   "codemirror_mode": {
    "name": "ipython",
    "version": 3
   },
   "file_extension": ".py",
   "mimetype": "text/x-python",
   "name": "python",
   "nbconvert_exporter": "python",
   "pygments_lexer": "ipython3",
   "version": "3.11.6"
  }
 },
 "nbformat": 4,
 "nbformat_minor": 2
}
