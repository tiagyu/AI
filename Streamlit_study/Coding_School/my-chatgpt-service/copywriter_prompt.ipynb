{
 "cells": [
  {
   "cell_type": "markdown",
   "metadata": {},
   "source": [
    "# copywriter prompt"
   ]
  },
  {
   "cell_type": "code",
   "execution_count": 7,
   "metadata": {},
   "outputs": [],
   "source": [
    "from openai import OpenAI\n",
    "import os\n",
    "from dotenv import load_dotenv"
   ]
  },
  {
   "cell_type": "code",
   "execution_count": 3,
   "metadata": {},
   "outputs": [
    {
     "data": {
      "text/plain": [
       "True"
      ]
     },
     "execution_count": 3,
     "metadata": {},
     "output_type": "execute_result"
    }
   ],
   "source": [
    "load_dotenv()"
   ]
  },
  {
   "cell_type": "code",
   "execution_count": 5,
   "metadata": {},
   "outputs": [],
   "source": [
    "api_key = os.getenv(\"OPENAI_API_KEY\")"
   ]
  },
  {
   "cell_type": "code",
   "execution_count": 8,
   "metadata": {},
   "outputs": [],
   "source": [
    "client = OpenAI()"
   ]
  },
  {
   "cell_type": "code",
   "execution_count": 26,
   "metadata": {},
   "outputs": [],
   "source": [
    "def request_chat_completion(prompt, \n",
    "                            system_role = \"당신은 유용한 도우미입니다.\", \n",
    "                            model = \"gpt-3.5-turbo\",\n",
    "                            stream = False):\n",
    "    messages = [\n",
    "        {\"role\" : \"system\", \"content\" : system_role},\n",
    "        {\"role\" : \"user\", \"content\" : prompt}\n",
    "    ]\n",
    "    response = client.chat.completions.create(\n",
    "        model=model,\n",
    "        messages=messages,\n",
    "        stream=stream\n",
    "    )\n",
    "    return response\n",
    "    "
   ]
  },
  {
   "cell_type": "code",
   "execution_count": 27,
   "metadata": {},
   "outputs": [],
   "source": [
    "def stream_response(response):\n",
    "    for chunk in response:\n",
    "        delta = chunk.choices[0].delta\n",
    "        if delta and delta.content:\n",
    "            print(delta.content, end=\"\", flush=True)\n"
   ]
  },
  {
   "cell_type": "code",
   "execution_count": 28,
   "metadata": {},
   "outputs": [
    {
     "name": "stdout",
     "output_type": "stream",
     "text": [
      "안녕하세요! 도움이 필요하신게 있으시면 언제든지 말씀해주세요. 저는 여러분의 질문에 답변해 드릴 준비가 되어 있습니다. :)"
     ]
    }
   ],
   "source": [
    "response = request_chat_completion(prompt= \"안녕하세요!\", stream=True)\n",
    "stream_response(response)"
   ]
  },
  {
   "cell_type": "markdown",
   "metadata": {},
   "source": [
    "## 프롬프트 엔지니어링"
   ]
  },
  {
   "cell_type": "code",
   "execution_count": 29,
   "metadata": {},
   "outputs": [
    {
     "name": "stdout",
     "output_type": "stream",
     "text": [
      "1. \"카누와 함께하는 모든 순간이 일상을 더욱 특별하게 만들어줍니다. ☕️💫 카피와 함께 달콤한 시간을 만들어보세요!\"\n",
      "\n",
      "2. \"카누의 부드러운 맛과 향기가 하루를 시작하는 가장 완벽한 방법입니다. 아침을 카누와 함께 시작해보세요! ☀️☕️\"\n",
      "\n",
      "3. \"카누 커피믹스는 더 나은 하루를 위한 필수템! 집에서 간편하게 즐기는 카누와 함께 하루의 피로를 날려보세요. 💪☕️\""
     ]
    }
   ],
   "source": [
    "prompt = \"'카누'라는 커피믹스 브랜드의 SNS 마케팅을 위한 카피를 3개 생성해줘\"\n",
    "\n",
    "system_role = \"당신은 전문 카피라이터입니다.\"\n",
    "response = request_chat_completion(prompt= prompt, stream=True)\n",
    "stream_response(response)"
   ]
  },
  {
   "cell_type": "code",
   "execution_count": 30,
   "metadata": {},
   "outputs": [],
   "source": [
    "prompt_template = \"\"\"\n",
    "제품 혹은 브랜드를 SNS에 광고하기 위한 문구를 생성해주세요.\n",
    "자극적이고 창의적으로 작성해주세요.\n",
    "명사 위주로 간결하게 작성해주세요.\n",
    "---\n",
    "제품명 : {product_name}\n",
    "제품설명 : {product_desc}\n",
    "\n",
    "\"\"\".strip()"
   ]
  },
  {
   "cell_type": "code",
   "execution_count": 32,
   "metadata": {},
   "outputs": [
    {
     "name": "stdout",
     "output_type": "stream",
     "text": [
      "제품 혹은 브랜드를 SNS에 광고하기 위한 문구를 생성해주세요.\n",
      "자극적이고 창의적으로 작성해주세요.\n",
      "명사 위주로 간결하게 작성해주세요.\n",
      "---\n",
      "제품명 : 카누\n",
      "제품설명 : 집에서도 카페 맛을 내는 아메리카노 커피믹스\n"
     ]
    }
   ],
   "source": [
    "product_name = '카누'\n",
    "product_desc = \"집에서도 카페 맛을 내는 아메리카노 커피믹스\"\n",
    "prompt = prompt_template.format(\n",
    "    product_name = product_name,\n",
    "    product_desc = product_desc\n",
    ")\n",
    "print(prompt)"
   ]
  },
  {
   "cell_type": "code",
   "execution_count": 33,
   "metadata": {},
   "outputs": [
    {
     "name": "stdout",
     "output_type": "stream",
     "text": [
      "\"집콕도 카페 느낌! 카누로 완성하는 아메리카노 향연! ☕✨\""
     ]
    }
   ],
   "source": [
    "response = request_chat_completion(prompt= prompt,\n",
    "                                   system_role=system_role,\n",
    "                                   stream=True)\n",
    "stream_response(response)"
   ]
  },
  {
   "cell_type": "code",
   "execution_count": 34,
   "metadata": {},
   "outputs": [],
   "source": [
    "prompt_template_v2 = \"\"\"\n",
    "제품 혹은 브랜드를 SNS에 광고하기 위한 문구 {num}개 생성해주세요.\n",
    "자극적이고 창의적으로 작성해주세요.\n",
    "명사 위주로 간결하게 작성해주세요.\n",
    "반드시 {max_length} 단어 이내로 작성해주세요.\n",
    "---\n",
    "제품명 : {product_name}\n",
    "제품설명 : {product_desc}\n",
    "\n",
    "\"\"\".strip()"
   ]
  },
  {
   "cell_type": "code",
   "execution_count": 36,
   "metadata": {},
   "outputs": [
    {
     "name": "stdout",
     "output_type": "stream",
     "text": [
      "제품 혹은 브랜드를 SNS에 광고하기 위한 문구 7개 생성해주세요.\n",
      "자극적이고 창의적으로 작성해주세요.\n",
      "명사 위주로 간결하게 작성해주세요.\n",
      "반드시 5 단어 이내로 작성해주세요.\n",
      "---\n",
      "제품명 : 카누\n",
      "제품설명 : 집에서도 카페 맛을 내는 아메리카노 커피믹스\n"
     ]
    }
   ],
   "source": [
    "product_name = '카누'\n",
    "product_desc = \"집에서도 카페 맛을 내는 아메리카노 커피믹스\"\n",
    "num = 7\n",
    "max_length = 5\n",
    "prompt = prompt_template_v2.format(\n",
    "    product_name = product_name,\n",
    "    product_desc = product_desc,\n",
    "    num = num,\n",
    "    max_length = max_length\n",
    ")\n",
    "print(prompt)"
   ]
  },
  {
   "cell_type": "code",
   "execution_count": 37,
   "metadata": {},
   "outputs": [
    {
     "name": "stdout",
     "output_type": "stream",
     "text": [
      "1. 집 카페 퀄리티 즐겨봐요!\n",
      "2. 매일 아메리카노 리필타임!\n",
      "3. 즉석 카페 한잔의 행복\n",
      "4. 커피 러버들을 위한 선택\n",
      "5. 독특한 카페 분위기 즐기세요\n",
      "6. 홈 카페 블렌딩의 향기\n",
      "7. 집안에 커피 향기 가득"
     ]
    }
   ],
   "source": [
    "response = request_chat_completion(prompt= prompt,\n",
    "                                   system_role=system_role,\n",
    "                                   stream=True)\n",
    "stream_response(response)"
   ]
  },
  {
   "cell_type": "code",
   "execution_count": 39,
   "metadata": {},
   "outputs": [],
   "source": [
    "prompt_template_v3 = \"\"\"\n",
    "제품 혹은 브랜드를 SNS에 광고하기 위한 문구 {num}개 생성해주세요.\n",
    "자극적이고 창의적으로 작성해주세요.\n",
    "명사 위주로 간결하게 작성해주세요.\n",
    "반드시 {max_length} 단어 이내로 작성해주세요.\n",
    "키워드가 주어질 경우, 반드시 키워드 중 하나를 포함해야 합니다.\n",
    "---\n",
    "제품명 : {product_name}\n",
    "제품설명 : {product_desc}\n",
    "키워드 : {keywords}\n",
    "\n",
    "\"\"\".strip()"
   ]
  },
  {
   "cell_type": "code",
   "execution_count": 40,
   "metadata": {},
   "outputs": [
    {
     "name": "stdout",
     "output_type": "stream",
     "text": [
      "제품 혹은 브랜드를 SNS에 광고하기 위한 문구 7개 생성해주세요.\n",
      "자극적이고 창의적으로 작성해주세요.\n",
      "명사 위주로 간결하게 작성해주세요.\n",
      "반드시 5 단어 이내로 작성해주세요.\n",
      "키워드가 주어질 경우, 반드시 키워드 중 하나를 포함해야 합니다.\n",
      "---\n",
      "제품명 : 카누\n",
      "제품설명 : 집에서도 카페 맛을 내는 아메리카노 커피믹스\n",
      "키워드 : ['브라질', '향기', '공유']\n"
     ]
    }
   ],
   "source": [
    "product_name = '카누'\n",
    "product_desc = \"집에서도 카페 맛을 내는 아메리카노 커피믹스\"\n",
    "num = 7\n",
    "max_length = 5\n",
    "keywords = [\"브라질\", \"향기\", \"공유\"]\n",
    "prompt = prompt_template_v3.format(\n",
    "    product_name = product_name,\n",
    "    product_desc = product_desc,\n",
    "    num = num,\n",
    "    max_length = max_length,\n",
    "    keywords = keywords\n",
    ")\n",
    "print(prompt)"
   ]
  },
  {
   "cell_type": "code",
   "execution_count": 41,
   "metadata": {},
   "outputs": [
    {
     "name": "stdout",
     "output_type": "stream",
     "text": [
      "1. 브라질 향기를 공유하세요.\n",
      "2. 집 카페로 변신하세요.\n",
      "3. 최고의 아메리카노 경험.\n",
      "4. 귀한 브라질 원두 사용.\n",
      "5. 손 한 잡비 아메리카노.\n",
      "6. 집에서도 완벽한 커피.\n",
      "7. 브라질 향기를 즐겨보세요."
     ]
    }
   ],
   "source": [
    "response = request_chat_completion(prompt= prompt,\n",
    "                                   system_role=system_role,\n",
    "                                   stream=True)\n",
    "stream_response(response)"
   ]
  },
  {
   "cell_type": "code",
   "execution_count": null,
   "metadata": {},
   "outputs": [],
   "source": [
    "prompt_template_v4 = \"\"\"\n",
    "제품 혹은 브랜드를 SNS에 광고하기 위한 문구 {num}개 생성해주세요.\n",
    "자극적이고 창의적으로 작성해주세요.\n",
    "명사 위주로 간결하게 작성해주세요.\n",
    "반드시 {max_length} 단어 이내로 작성해주세요.\n",
    "키워드가 주어질 경우, 반드시 키워드 중 하나를 포함해야 합니다.\n",
    "이모지를 적절하게 사용해주세요.\n",
    "---\n",
    "제품명 : {product_name}\n",
    "제품설명 : {product_desc}\n",
    "키워드 : {keywords}\n",
    "\n",
    "\"\"\".strip()"
   ]
  }
 ],
 "metadata": {
  "kernelspec": {
   "display_name": "Python 3",
   "language": "python",
   "name": "python3"
  },
  "language_info": {
   "codemirror_mode": {
    "name": "ipython",
    "version": 3
   },
   "file_extension": ".py",
   "mimetype": "text/x-python",
   "name": "python",
   "nbconvert_exporter": "python",
   "pygments_lexer": "ipython3",
   "version": "3.11.6"
  }
 },
 "nbformat": 4,
 "nbformat_minor": 2
}
